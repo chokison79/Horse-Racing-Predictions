{
 "cells": [
  {
   "cell_type": "markdown",
   "id": "2ed7f71e",
   "metadata": {},
   "source": [
    "# Raw Data Loading\n",
    "### Libraries"
   ]
  },
  {
   "cell_type": "code",
   "execution_count": 1,
   "id": "bf428cc0",
   "metadata": {
    "id": "bf428cc0"
   },
   "outputs": [],
   "source": [
    "import pandas as pd\n",
    "import numpy as np"
   ]
  },
  {
   "cell_type": "code",
   "execution_count": 2,
   "id": "46a63c78",
   "metadata": {
    "colab": {
     "base_uri": "https://localhost:8080/"
    },
    "id": "46a63c78",
    "outputId": "3b6bb655-3a1a-44aa-fea2-0a6916ba6d6a",
    "scrolled": true
   },
   "outputs": [
    {
     "name": "stderr",
     "output_type": "stream",
     "text": [
      "C:\\Anaconda38\\lib\\site-packages\\IPython\\core\\interactiveshell.py:3165: DtypeWarning: Columns (1,22) have mixed types.Specify dtype option on import or set low_memory=False.\n",
      "  has_raised = await self.run_ast_nodes(code_ast.body, cell_name,\n"
     ]
    }
   ],
   "source": [
    "f = './Resources/all_races05_19.csv'\n",
    "X = pd.read_csv(f)"
   ]
  },
  {
   "cell_type": "markdown",
   "id": "18300fc3",
   "metadata": {},
   "source": [
    "Baseod on the various columns explored, two models will be run:\n",
    "1. numerical categories column\n",
    "2. both numerical and categorical columns, that is combination of fundamental features of the horse and market generated information in an explicit manner.\n",
    "This will help facilitate understanding of how to utilise publicly available information."
   ]
  },
  {
   "cell_type": "code",
   "execution_count": 3,
   "id": "49c83547",
   "metadata": {
    "colab": {
     "base_uri": "https://localhost:8080/",
     "height": 165
    },
    "id": "49c83547",
    "outputId": "93651c4c-c64f-45f8-fba3-ab86186998b5"
   },
   "outputs": [
    {
     "data": {
      "text/html": [
       "<div>\n",
       "<style scoped>\n",
       "    .dataframe tbody tr th:only-of-type {\n",
       "        vertical-align: middle;\n",
       "    }\n",
       "\n",
       "    .dataframe tbody tr th {\n",
       "        vertical-align: top;\n",
       "    }\n",
       "\n",
       "    .dataframe thead th {\n",
       "        text-align: right;\n",
       "    }\n",
       "</style>\n",
       "<table border=\"1\" class=\"dataframe\">\n",
       "  <thead>\n",
       "    <tr style=\"text-align: right;\">\n",
       "      <th></th>\n",
       "      <th>race_ID</th>\n",
       "      <th>date</th>\n",
       "      <th>course</th>\n",
       "      <th>time</th>\n",
       "      <th>race_name</th>\n",
       "      <th>class</th>\n",
       "      <th>band</th>\n",
       "      <th>dist.f.</th>\n",
       "      <th>dist.m.</th>\n",
       "      <th>going</th>\n",
       "      <th>...</th>\n",
       "      <th>rpr</th>\n",
       "      <th>sire</th>\n",
       "      <th>dam</th>\n",
       "      <th>damsire</th>\n",
       "      <th>comment</th>\n",
       "      <th>dec_clean</th>\n",
       "      <th>prob</th>\n",
       "      <th>exp_chance</th>\n",
       "      <th>act_score</th>\n",
       "      <th>prize_money</th>\n",
       "    </tr>\n",
       "  </thead>\n",
       "  <tbody>\n",
       "    <tr>\n",
       "      <th>0</th>\n",
       "      <td>RID1002-IE-05</td>\n",
       "      <td>2005-04-24</td>\n",
       "      <td>Cork</td>\n",
       "      <td>5:25</td>\n",
       "      <td>Coolmore Brian Boru (Pro-Am) INH Flat Race (Di...</td>\n",
       "      <td>NaN</td>\n",
       "      <td>4yo+</td>\n",
       "      <td>18.0</td>\n",
       "      <td>3600</td>\n",
       "      <td>Heavy</td>\n",
       "      <td>...</td>\n",
       "      <td>103.0</td>\n",
       "      <td>Un Desperado (FR)</td>\n",
       "      <td>Connaught Lace (GB)</td>\n",
       "      <td>Connaught</td>\n",
       "      <td>Tracked leaders - keen hold early - 2nd approa...</td>\n",
       "      <td>7.0</td>\n",
       "      <td>0.125</td>\n",
       "      <td>0.05585</td>\n",
       "      <td>1</td>\n",
       "      <td>8292.0</td>\n",
       "    </tr>\n",
       "    <tr>\n",
       "      <th>1</th>\n",
       "      <td>RID1002-IE-05</td>\n",
       "      <td>2005-04-24</td>\n",
       "      <td>Cork</td>\n",
       "      <td>5:25</td>\n",
       "      <td>Coolmore Brian Boru (Pro-Am) INH Flat Race (Di...</td>\n",
       "      <td>NaN</td>\n",
       "      <td>4yo+</td>\n",
       "      <td>18.0</td>\n",
       "      <td>3600</td>\n",
       "      <td>Heavy</td>\n",
       "      <td>...</td>\n",
       "      <td>106.0</td>\n",
       "      <td>Zaffaran (USA)</td>\n",
       "      <td>Persian Argument (IRE)</td>\n",
       "      <td>Persian Mews</td>\n",
       "      <td>Mid-division - progress into 3rd approaching s...</td>\n",
       "      <td>4.0</td>\n",
       "      <td>0.200</td>\n",
       "      <td>0.08936</td>\n",
       "      <td>0</td>\n",
       "      <td>1932.0</td>\n",
       "    </tr>\n",
       "  </tbody>\n",
       "</table>\n",
       "<p>2 rows × 42 columns</p>\n",
       "</div>"
      ],
      "text/plain": [
       "         race_ID        date course  time  \\\n",
       "0  RID1002-IE-05  2005-04-24   Cork  5:25   \n",
       "1  RID1002-IE-05  2005-04-24   Cork  5:25   \n",
       "\n",
       "                                           race_name class  band  dist.f.  \\\n",
       "0  Coolmore Brian Boru (Pro-Am) INH Flat Race (Di...   NaN  4yo+     18.0   \n",
       "1  Coolmore Brian Boru (Pro-Am) INH Flat Race (Di...   NaN  4yo+     18.0   \n",
       "\n",
       "   dist.m.  going  ...    rpr               sire                     dam  \\\n",
       "0     3600  Heavy  ...  103.0  Un Desperado (FR)     Connaught Lace (GB)   \n",
       "1     3600  Heavy  ...  106.0     Zaffaran (USA)  Persian Argument (IRE)   \n",
       "\n",
       "        damsire                                            comment dec_clean  \\\n",
       "0     Connaught  Tracked leaders - keen hold early - 2nd approa...       7.0   \n",
       "1  Persian Mews  Mid-division - progress into 3rd approaching s...       4.0   \n",
       "\n",
       "    prob  exp_chance act_score prize_money  \n",
       "0  0.125     0.05585         1      8292.0  \n",
       "1  0.200     0.08936         0      1932.0  \n",
       "\n",
       "[2 rows x 42 columns]"
      ]
     },
     "execution_count": 3,
     "metadata": {},
     "output_type": "execute_result"
    }
   ],
   "source": [
    "X.head(2)"
   ]
  },
  {
   "cell_type": "code",
   "execution_count": 4,
   "id": "d0425ac5",
   "metadata": {
    "colab": {
     "base_uri": "https://localhost:8080/",
     "height": 165
    },
    "id": "d0425ac5",
    "outputId": "51a6f5b2-21f1-43fc-b4da-41ee2fcddeef"
   },
   "outputs": [
    {
     "data": {
      "text/plain": [
       "(744347, 42)"
      ]
     },
     "execution_count": 4,
     "metadata": {},
     "output_type": "execute_result"
    }
   ],
   "source": [
    "# Take a look at the shape of DataFrame\n",
    "X.shape"
   ]
  },
  {
   "cell_type": "code",
   "execution_count": 5,
   "id": "e9658561",
   "metadata": {},
   "outputs": [
    {
     "data": {
      "text/plain": [
       "Index(['race_ID', 'date', 'course', 'time', 'race_name', 'class', 'band',\n",
       "       'dist.f.', 'dist.m.', 'going', 'season', 'race_group', 'race_type',\n",
       "       'Month', 'Year', 'Period', 'Runners', 'Race_Money', 'horse_name',\n",
       "       'trainer', 'jockey', 'pos', 'btn', 'sp', 'dec', 'age', 'weight', 'lbs',\n",
       "       'gear', 'fin_time', 'or', 'ts', 'rpr', 'sire', 'dam', 'damsire',\n",
       "       'comment', 'dec_clean', 'prob', 'exp_chance', 'act_score',\n",
       "       'prize_money'],\n",
       "      dtype='object')"
      ]
     },
     "execution_count": 5,
     "metadata": {},
     "output_type": "execute_result"
    }
   ],
   "source": [
    "# Take a look at the column variable\n",
    "X.columns"
   ]
  },
  {
   "cell_type": "code",
   "execution_count": 6,
   "id": "9c96aafa",
   "metadata": {
    "id": "9c96aafa",
    "scrolled": true
   },
   "outputs": [
    {
     "data": {
      "text/plain": [
       "race_ID         object\n",
       "date            object\n",
       "course          object\n",
       "time            object\n",
       "race_name       object\n",
       "class           object\n",
       "band            object\n",
       "dist.f.        float64\n",
       "dist.m.          int64\n",
       "going           object\n",
       "season           int64\n",
       "race_group      object\n",
       "race_type       object\n",
       "Month          float64\n",
       "Year           float64\n",
       "Period          object\n",
       "Runners          int64\n",
       "Race_Money     float64\n",
       "horse_name      object\n",
       "trainer         object\n",
       "jockey          object\n",
       "pos             object\n",
       "btn             object\n",
       "sp              object\n",
       "dec            float64\n",
       "age              int64\n",
       "weight          object\n",
       "lbs              int64\n",
       "gear            object\n",
       "fin_time        object\n",
       "or             float64\n",
       "ts             float64\n",
       "rpr            float64\n",
       "sire            object\n",
       "dam             object\n",
       "damsire         object\n",
       "comment         object\n",
       "dec_clean      float64\n",
       "prob           float64\n",
       "exp_chance     float64\n",
       "act_score        int64\n",
       "prize_money    float64\n",
       "dtype: object"
      ]
     },
     "execution_count": 6,
     "metadata": {},
     "output_type": "execute_result"
    }
   ],
   "source": [
    "X.dtypes"
   ]
  },
  {
   "cell_type": "code",
   "execution_count": 7,
   "id": "362dbe98",
   "metadata": {
    "colab": {
     "base_uri": "https://localhost:8080/"
    },
    "id": "362dbe98",
    "outputId": "b57437f9-1cf9-4eaf-9a4b-e1d98e747020",
    "scrolled": false
   },
   "outputs": [
    {
     "data": {
      "text/plain": [
       "Index(['race_ID', 'date', 'course', 'time', 'race_name', 'class', 'band',\n",
       "       'dist.f.', 'dist.m.', 'going', 'season', 'race_group', 'race_type',\n",
       "       'Month', 'Year', 'Period', 'Runners', 'Race_Money', 'horse_name',\n",
       "       'trainer', 'jockey', 'pos', 'btn', 'sp', 'dec', 'age', 'weight', 'lbs',\n",
       "       'gear', 'fin_time', 'or', 'ts', 'rpr', 'sire', 'dam', 'damsire',\n",
       "       'comment', 'dec_clean', 'prob', 'exp_chance', 'act_score',\n",
       "       'prize_money'],\n",
       "      dtype='object')"
      ]
     },
     "execution_count": 7,
     "metadata": {},
     "output_type": "execute_result"
    }
   ],
   "source": [
    "# Take a look at the column variable\n",
    "X.columns"
   ]
  },
  {
   "cell_type": "markdown",
   "id": "ddaa3b3f",
   "metadata": {},
   "source": [
    "## Data Pre-processing"
   ]
  },
  {
   "cell_type": "code",
   "execution_count": 8,
   "id": "139e1297",
   "metadata": {
    "colab": {
     "base_uri": "https://localhost:8080/"
    },
    "id": "139e1297",
    "outputId": "0899e3f7-e84f-4008-c760-4132332c0caa",
    "scrolled": false
   },
   "outputs": [
    {
     "name": "stdout",
     "output_type": "stream",
     "text": [
      "Feature 'race_ID' has 72896 unique categories\n",
      "Feature 'date' has 4727 unique categories\n",
      "Feature 'course' has 75 unique categories\n",
      "Feature 'time' has 220 unique categories\n",
      "Feature 'race_name' has 47228 unique categories\n",
      "Feature 'class' has 70 unique categories\n",
      "Feature 'band' has 57 unique categories\n",
      "Feature 'going' has 13 unique categories\n",
      "Feature 'race_group' has 4 unique categories\n",
      "Feature 'race_type' has 2 unique categories\n",
      "Feature 'Period' has 178 unique categories\n",
      "Feature 'horse_name' has 79591 unique categories\n",
      "Feature 'trainer' has 3766 unique categories\n",
      "Feature 'jockey' has 3108 unique categories\n",
      "Feature 'pos' has 41 unique categories\n",
      "Feature 'btn' has 1758 unique categories\n",
      "Feature 'sp' has 220 unique categories\n",
      "Feature 'weight' has 99 unique categories\n",
      "Feature 'gear' has 26 unique categories\n",
      "Feature 'fin_time' has 30968 unique categories\n",
      "Feature 'sire' has 2900 unique categories\n",
      "Feature 'dam' has 43027 unique categories\n",
      "Feature 'damsire' has 3793 unique categories\n",
      "Feature 'comment' has 703853 unique categories\n"
     ]
    }
   ],
   "source": [
    "# Check categorical columns by obtaining unique object variables\n",
    "for col_name in X.columns:\n",
    "    if X[col_name].dtypes == 'object':\n",
    "        unique_cat = len(X[col_name].unique())\n",
    "        print(\"Feature '{col_name}' has {unique_cat} unique categories\".format(col_name=col_name, unique_cat=unique_cat))"
   ]
  },
  {
   "cell_type": "code",
   "execution_count": 9,
   "id": "481a0793",
   "metadata": {
    "colab": {
     "base_uri": "https://localhost:8080/"
    },
    "id": "481a0793",
    "outputId": "a8ec3095-d1af-49c0-aff9-f72bebf91267",
    "scrolled": false
   },
   "outputs": [
    {
     "name": "stdout",
     "output_type": "stream",
     "text": [
      "Feature 'dist.f.' has 48 unique categories\n",
      "Feature 'Month' has 13 unique categories\n",
      "Feature 'Year' has 16 unique categories\n",
      "Feature 'Race_Money' has 4721 unique categories\n",
      "Feature 'dec' has 95 unique categories\n",
      "Feature 'or' has 155 unique categories\n",
      "Feature 'ts' has 181 unique categories\n",
      "Feature 'rpr' has 192 unique categories\n",
      "Feature 'dec_clean' has 95 unique categories\n",
      "Feature 'prob' has 95 unique categories\n",
      "Feature 'exp_chance' has 555032 unique categories\n",
      "Feature 'prize_money' has 14962 unique categories\n"
     ]
    }
   ],
   "source": [
    "# Check unique numerical variables\n",
    "for col_name in X.columns:\n",
    "    if X[col_name].dtypes == 'float64':\n",
    "        unique_cat = len(X[col_name].unique())\n",
    "        print(\"Feature '{col_name}' has {unique_cat} unique categories\".format(col_name=col_name, unique_cat=unique_cat))"
   ]
  },
  {
   "cell_type": "code",
   "execution_count": 10,
   "id": "V7OjKWyQ2mtq",
   "metadata": {
    "colab": {
     "base_uri": "https://localhost:8080/",
     "height": 271
    },
    "id": "V7OjKWyQ2mtq",
    "outputId": "2b701ee7-f02b-4463-f9bc-568a7364ffdf",
    "scrolled": false
   },
   "outputs": [
    {
     "data": {
      "text/html": [
       "<div>\n",
       "<style scoped>\n",
       "    .dataframe tbody tr th:only-of-type {\n",
       "        vertical-align: middle;\n",
       "    }\n",
       "\n",
       "    .dataframe tbody tr th {\n",
       "        vertical-align: top;\n",
       "    }\n",
       "\n",
       "    .dataframe thead th {\n",
       "        text-align: right;\n",
       "    }\n",
       "</style>\n",
       "<table border=\"1\" class=\"dataframe\">\n",
       "  <thead>\n",
       "    <tr style=\"text-align: right;\">\n",
       "      <th></th>\n",
       "      <th>race_ID</th>\n",
       "      <th>date</th>\n",
       "      <th>course</th>\n",
       "      <th>time</th>\n",
       "      <th>race_name</th>\n",
       "      <th>class</th>\n",
       "      <th>band</th>\n",
       "      <th>dist.f.</th>\n",
       "      <th>dist.m.</th>\n",
       "      <th>going</th>\n",
       "      <th>...</th>\n",
       "      <th>rpr</th>\n",
       "      <th>sire</th>\n",
       "      <th>dam</th>\n",
       "      <th>damsire</th>\n",
       "      <th>comment</th>\n",
       "      <th>dec_clean</th>\n",
       "      <th>prob</th>\n",
       "      <th>exp_chance</th>\n",
       "      <th>act_score</th>\n",
       "      <th>prize_money</th>\n",
       "    </tr>\n",
       "  </thead>\n",
       "  <tbody>\n",
       "    <tr>\n",
       "      <th>0</th>\n",
       "      <td>RID1002-IE-05</td>\n",
       "      <td>2005-04-24</td>\n",
       "      <td>Cork</td>\n",
       "      <td>5:25</td>\n",
       "      <td>Coolmore Brian Boru (Pro-Am) INH Flat Race (Di...</td>\n",
       "      <td>NaN</td>\n",
       "      <td>4yo+</td>\n",
       "      <td>18.0</td>\n",
       "      <td>3600</td>\n",
       "      <td>Heavy</td>\n",
       "      <td>...</td>\n",
       "      <td>103.0</td>\n",
       "      <td>Un Desperado (FR)</td>\n",
       "      <td>Connaught Lace (GB)</td>\n",
       "      <td>Connaught</td>\n",
       "      <td>Tracked leaders - keen hold early - 2nd approa...</td>\n",
       "      <td>7.0</td>\n",
       "      <td>0.125000</td>\n",
       "      <td>0.055850</td>\n",
       "      <td>1</td>\n",
       "      <td>8292.0</td>\n",
       "    </tr>\n",
       "    <tr>\n",
       "      <th>1</th>\n",
       "      <td>RID1002-IE-05</td>\n",
       "      <td>2005-04-24</td>\n",
       "      <td>Cork</td>\n",
       "      <td>5:25</td>\n",
       "      <td>Coolmore Brian Boru (Pro-Am) INH Flat Race (Di...</td>\n",
       "      <td>NaN</td>\n",
       "      <td>4yo+</td>\n",
       "      <td>18.0</td>\n",
       "      <td>3600</td>\n",
       "      <td>Heavy</td>\n",
       "      <td>...</td>\n",
       "      <td>106.0</td>\n",
       "      <td>Zaffaran (USA)</td>\n",
       "      <td>Persian Argument (IRE)</td>\n",
       "      <td>Persian Mews</td>\n",
       "      <td>Mid-division - progress into 3rd approaching s...</td>\n",
       "      <td>4.0</td>\n",
       "      <td>0.200000</td>\n",
       "      <td>0.089360</td>\n",
       "      <td>0</td>\n",
       "      <td>1932.0</td>\n",
       "    </tr>\n",
       "    <tr>\n",
       "      <th>2</th>\n",
       "      <td>RID1002-IE-05</td>\n",
       "      <td>2005-04-24</td>\n",
       "      <td>Cork</td>\n",
       "      <td>5:25</td>\n",
       "      <td>Coolmore Brian Boru (Pro-Am) INH Flat Race (Di...</td>\n",
       "      <td>NaN</td>\n",
       "      <td>4yo+</td>\n",
       "      <td>18.0</td>\n",
       "      <td>3600</td>\n",
       "      <td>Heavy</td>\n",
       "      <td>...</td>\n",
       "      <td>95.0</td>\n",
       "      <td>Accordion (IRE)</td>\n",
       "      <td>Molly Blaney (GB)</td>\n",
       "      <td>Kemal</td>\n",
       "      <td>Tracked leaders - improved to lead approaching...</td>\n",
       "      <td>3.5</td>\n",
       "      <td>0.222222</td>\n",
       "      <td>0.099289</td>\n",
       "      <td>0</td>\n",
       "      <td>852.0</td>\n",
       "    </tr>\n",
       "    <tr>\n",
       "      <th>3</th>\n",
       "      <td>RID1002-IE-05</td>\n",
       "      <td>2005-04-24</td>\n",
       "      <td>Cork</td>\n",
       "      <td>5:25</td>\n",
       "      <td>Coolmore Brian Boru (Pro-Am) INH Flat Race (Di...</td>\n",
       "      <td>NaN</td>\n",
       "      <td>4yo+</td>\n",
       "      <td>18.0</td>\n",
       "      <td>3600</td>\n",
       "      <td>Heavy</td>\n",
       "      <td>...</td>\n",
       "      <td>92.0</td>\n",
       "      <td>Supreme Leader (GB)</td>\n",
       "      <td>Rath Caola (GB)</td>\n",
       "      <td>Neltino</td>\n",
       "      <td>Mid-division - progress into 8th approaching s...</td>\n",
       "      <td>12.0</td>\n",
       "      <td>0.076923</td>\n",
       "      <td>0.034369</td>\n",
       "      <td>0</td>\n",
       "      <td>492.0</td>\n",
       "    </tr>\n",
       "    <tr>\n",
       "      <th>4</th>\n",
       "      <td>RID1002-IE-05</td>\n",
       "      <td>2005-04-24</td>\n",
       "      <td>Cork</td>\n",
       "      <td>5:25</td>\n",
       "      <td>Coolmore Brian Boru (Pro-Am) INH Flat Race (Di...</td>\n",
       "      <td>NaN</td>\n",
       "      <td>4yo+</td>\n",
       "      <td>18.0</td>\n",
       "      <td>3600</td>\n",
       "      <td>Heavy</td>\n",
       "      <td>...</td>\n",
       "      <td>87.0</td>\n",
       "      <td>Beneficial (GB)</td>\n",
       "      <td>Gilt Course (GB)</td>\n",
       "      <td>Crash Course</td>\n",
       "      <td>Mid-division - progress from halfway - 4th app...</td>\n",
       "      <td>16.0</td>\n",
       "      <td>0.058824</td>\n",
       "      <td>0.026282</td>\n",
       "      <td>0</td>\n",
       "      <td>0.0</td>\n",
       "    </tr>\n",
       "  </tbody>\n",
       "</table>\n",
       "<p>5 rows × 42 columns</p>\n",
       "</div>"
      ],
      "text/plain": [
       "         race_ID        date course  time  \\\n",
       "0  RID1002-IE-05  2005-04-24   Cork  5:25   \n",
       "1  RID1002-IE-05  2005-04-24   Cork  5:25   \n",
       "2  RID1002-IE-05  2005-04-24   Cork  5:25   \n",
       "3  RID1002-IE-05  2005-04-24   Cork  5:25   \n",
       "4  RID1002-IE-05  2005-04-24   Cork  5:25   \n",
       "\n",
       "                                           race_name class  band  dist.f.  \\\n",
       "0  Coolmore Brian Boru (Pro-Am) INH Flat Race (Di...   NaN  4yo+     18.0   \n",
       "1  Coolmore Brian Boru (Pro-Am) INH Flat Race (Di...   NaN  4yo+     18.0   \n",
       "2  Coolmore Brian Boru (Pro-Am) INH Flat Race (Di...   NaN  4yo+     18.0   \n",
       "3  Coolmore Brian Boru (Pro-Am) INH Flat Race (Di...   NaN  4yo+     18.0   \n",
       "4  Coolmore Brian Boru (Pro-Am) INH Flat Race (Di...   NaN  4yo+     18.0   \n",
       "\n",
       "   dist.m.  going  ...    rpr                 sire                     dam  \\\n",
       "0     3600  Heavy  ...  103.0    Un Desperado (FR)     Connaught Lace (GB)   \n",
       "1     3600  Heavy  ...  106.0       Zaffaran (USA)  Persian Argument (IRE)   \n",
       "2     3600  Heavy  ...   95.0      Accordion (IRE)       Molly Blaney (GB)   \n",
       "3     3600  Heavy  ...   92.0  Supreme Leader (GB)         Rath Caola (GB)   \n",
       "4     3600  Heavy  ...   87.0      Beneficial (GB)        Gilt Course (GB)   \n",
       "\n",
       "        damsire                                            comment dec_clean  \\\n",
       "0     Connaught  Tracked leaders - keen hold early - 2nd approa...       7.0   \n",
       "1  Persian Mews  Mid-division - progress into 3rd approaching s...       4.0   \n",
       "2         Kemal  Tracked leaders - improved to lead approaching...       3.5   \n",
       "3       Neltino  Mid-division - progress into 8th approaching s...      12.0   \n",
       "4  Crash Course  Mid-division - progress from halfway - 4th app...      16.0   \n",
       "\n",
       "       prob  exp_chance act_score prize_money  \n",
       "0  0.125000    0.055850         1      8292.0  \n",
       "1  0.200000    0.089360         0      1932.0  \n",
       "2  0.222222    0.099289         0       852.0  \n",
       "3  0.076923    0.034369         0       492.0  \n",
       "4  0.058824    0.026282         0         0.0  \n",
       "\n",
       "[5 rows x 42 columns]"
      ]
     },
     "execution_count": 10,
     "metadata": {},
     "output_type": "execute_result"
    }
   ],
   "source": [
    "X.head(5)"
   ]
  },
  {
   "cell_type": "markdown",
   "id": "8dd3e2b1",
   "metadata": {},
   "source": [
    "# Drop Irrelevant Columns (Features with similar meanings)"
   ]
  },
  {
   "cell_type": "code",
   "execution_count": 11,
   "id": "suYVtM3jzzEP",
   "metadata": {
    "colab": {
     "base_uri": "https://localhost:8080/",
     "height": 147
    },
    "id": "suYVtM3jzzEP",
    "outputId": "d6b532bd-3a58-436e-c7f8-fe0e1dda5736"
   },
   "outputs": [
    {
     "data": {
      "text/html": [
       "<div>\n",
       "<style scoped>\n",
       "    .dataframe tbody tr th:only-of-type {\n",
       "        vertical-align: middle;\n",
       "    }\n",
       "\n",
       "    .dataframe tbody tr th {\n",
       "        vertical-align: top;\n",
       "    }\n",
       "\n",
       "    .dataframe thead th {\n",
       "        text-align: right;\n",
       "    }\n",
       "</style>\n",
       "<table border=\"1\" class=\"dataframe\">\n",
       "  <thead>\n",
       "    <tr style=\"text-align: right;\">\n",
       "      <th></th>\n",
       "      <th>race_ID</th>\n",
       "      <th>date</th>\n",
       "      <th>course</th>\n",
       "      <th>race_name</th>\n",
       "      <th>dist.m.</th>\n",
       "      <th>going</th>\n",
       "      <th>season</th>\n",
       "      <th>race_group</th>\n",
       "      <th>race_type</th>\n",
       "      <th>Race_Money</th>\n",
       "      <th>...</th>\n",
       "      <th>age</th>\n",
       "      <th>lbs</th>\n",
       "      <th>gear</th>\n",
       "      <th>ts</th>\n",
       "      <th>sire</th>\n",
       "      <th>dam</th>\n",
       "      <th>damsire</th>\n",
       "      <th>comment</th>\n",
       "      <th>act_score</th>\n",
       "      <th>prize_money</th>\n",
       "    </tr>\n",
       "  </thead>\n",
       "  <tbody>\n",
       "    <tr>\n",
       "      <th>0</th>\n",
       "      <td>RID1002-IE-05</td>\n",
       "      <td>2005-04-24</td>\n",
       "      <td>Cork</td>\n",
       "      <td>Coolmore Brian Boru (Pro-Am) INH Flat Race (Di...</td>\n",
       "      <td>3600</td>\n",
       "      <td>Heavy</td>\n",
       "      <td>5</td>\n",
       "      <td>Bumper</td>\n",
       "      <td>Even</td>\n",
       "      <td>11568.0</td>\n",
       "      <td>...</td>\n",
       "      <td>5</td>\n",
       "      <td>155</td>\n",
       "      <td>NaN</td>\n",
       "      <td>NaN</td>\n",
       "      <td>Un Desperado (FR)</td>\n",
       "      <td>Connaught Lace (GB)</td>\n",
       "      <td>Connaught</td>\n",
       "      <td>Tracked leaders - keen hold early - 2nd approa...</td>\n",
       "      <td>1</td>\n",
       "      <td>8292.0</td>\n",
       "    </tr>\n",
       "    <tr>\n",
       "      <th>1</th>\n",
       "      <td>RID1002-IE-05</td>\n",
       "      <td>2005-04-24</td>\n",
       "      <td>Cork</td>\n",
       "      <td>Coolmore Brian Boru (Pro-Am) INH Flat Race (Di...</td>\n",
       "      <td>3600</td>\n",
       "      <td>Heavy</td>\n",
       "      <td>5</td>\n",
       "      <td>Bumper</td>\n",
       "      <td>Even</td>\n",
       "      <td>11568.0</td>\n",
       "      <td>...</td>\n",
       "      <td>5</td>\n",
       "      <td>160</td>\n",
       "      <td>NaN</td>\n",
       "      <td>NaN</td>\n",
       "      <td>Zaffaran (USA)</td>\n",
       "      <td>Persian Argument (IRE)</td>\n",
       "      <td>Persian Mews</td>\n",
       "      <td>Mid-division - progress into 3rd approaching s...</td>\n",
       "      <td>0</td>\n",
       "      <td>1932.0</td>\n",
       "    </tr>\n",
       "  </tbody>\n",
       "</table>\n",
       "<p>2 rows × 24 columns</p>\n",
       "</div>"
      ],
      "text/plain": [
       "         race_ID        date course  \\\n",
       "0  RID1002-IE-05  2005-04-24   Cork   \n",
       "1  RID1002-IE-05  2005-04-24   Cork   \n",
       "\n",
       "                                           race_name  dist.m.  going  season  \\\n",
       "0  Coolmore Brian Boru (Pro-Am) INH Flat Race (Di...     3600  Heavy       5   \n",
       "1  Coolmore Brian Boru (Pro-Am) INH Flat Race (Di...     3600  Heavy       5   \n",
       "\n",
       "  race_group race_type  Race_Money  ... age  lbs gear  ts               sire  \\\n",
       "0     Bumper      Even     11568.0  ...   5  155  NaN NaN  Un Desperado (FR)   \n",
       "1     Bumper      Even     11568.0  ...   5  160  NaN NaN     Zaffaran (USA)   \n",
       "\n",
       "                      dam       damsire  \\\n",
       "0     Connaught Lace (GB)     Connaught   \n",
       "1  Persian Argument (IRE)  Persian Mews   \n",
       "\n",
       "                                             comment act_score prize_money  \n",
       "0  Tracked leaders - keen hold early - 2nd approa...         1      8292.0  \n",
       "1  Mid-division - progress into 3rd approaching s...         0      1932.0  \n",
       "\n",
       "[2 rows x 24 columns]"
      ]
     },
     "execution_count": 11,
     "metadata": {},
     "output_type": "execute_result"
    }
   ],
   "source": [
    "X_df = X.drop(['band','class','time','dist.f.','Month', 'Year', 'Period', 'Runners','fin_time', 'dec','weight','dec_clean','btn','sp','or','rpr','exp_chance','prob'],axis=1)\n",
    "X_df.head(2)"
   ]
  },
  {
   "cell_type": "code",
   "execution_count": 12,
   "id": "xuRtg-ZUzzT1",
   "metadata": {
    "colab": {
     "base_uri": "https://localhost:8080/"
    },
    "id": "xuRtg-ZUzzT1",
    "outputId": "31eb8f71-8deb-4dc4-b3d0-6e3b80b5a9d5"
   },
   "outputs": [
    {
     "data": {
      "text/plain": [
       "(140439, 24)"
      ]
     },
     "execution_count": 12,
     "metadata": {},
     "output_type": "execute_result"
    }
   ],
   "source": [
    "#Drop NaN Values\n",
    "X_df = X_df.dropna()\n",
    "X_df.shape"
   ]
  },
  {
   "cell_type": "code",
   "execution_count": 13,
   "id": "228eddfd",
   "metadata": {
    "scrolled": false
   },
   "outputs": [
    {
     "data": {
      "text/html": [
       "<div>\n",
       "<style scoped>\n",
       "    .dataframe tbody tr th:only-of-type {\n",
       "        vertical-align: middle;\n",
       "    }\n",
       "\n",
       "    .dataframe tbody tr th {\n",
       "        vertical-align: top;\n",
       "    }\n",
       "\n",
       "    .dataframe thead th {\n",
       "        text-align: right;\n",
       "    }\n",
       "</style>\n",
       "<table border=\"1\" class=\"dataframe\">\n",
       "  <thead>\n",
       "    <tr style=\"text-align: right;\">\n",
       "      <th></th>\n",
       "      <th>race_ID</th>\n",
       "      <th>Date</th>\n",
       "      <th>course</th>\n",
       "      <th>race_name</th>\n",
       "      <th>Distance_covered</th>\n",
       "      <th>Track_condition</th>\n",
       "      <th>season</th>\n",
       "      <th>race_group</th>\n",
       "      <th>race_type</th>\n",
       "      <th>Race_Money</th>\n",
       "      <th>...</th>\n",
       "      <th>age</th>\n",
       "      <th>Weight</th>\n",
       "      <th>Gear</th>\n",
       "      <th>Top_speed</th>\n",
       "      <th>sire</th>\n",
       "      <th>dam</th>\n",
       "      <th>damsire</th>\n",
       "      <th>comment</th>\n",
       "      <th>Winner</th>\n",
       "      <th>prize_money</th>\n",
       "    </tr>\n",
       "  </thead>\n",
       "  <tbody>\n",
       "    <tr>\n",
       "      <th>189</th>\n",
       "      <td>RID1169-IE-05</td>\n",
       "      <td>2005-06-02</td>\n",
       "      <td>Punchestown</td>\n",
       "      <td>Sheilas Cottage (Mares) Maiden Hurdle</td>\n",
       "      <td>3200</td>\n",
       "      <td>Good To Firm</td>\n",
       "      <td>5</td>\n",
       "      <td>Hurdle</td>\n",
       "      <td>Handicap</td>\n",
       "      <td>11568.0</td>\n",
       "      <td>...</td>\n",
       "      <td>5</td>\n",
       "      <td>157</td>\n",
       "      <td>t</td>\n",
       "      <td>93.0</td>\n",
       "      <td>Desert Style (IRE)</td>\n",
       "      <td>Lough N Uisce (IRE)</td>\n",
       "      <td>Boyne Valley</td>\n",
       "      <td>Held up - progress into mid-division halfway -...</td>\n",
       "      <td>0</td>\n",
       "      <td>852.0</td>\n",
       "    </tr>\n",
       "    <tr>\n",
       "      <th>191</th>\n",
       "      <td>RID1169-IE-05</td>\n",
       "      <td>2005-06-02</td>\n",
       "      <td>Punchestown</td>\n",
       "      <td>Sheilas Cottage (Mares) Maiden Hurdle</td>\n",
       "      <td>3200</td>\n",
       "      <td>Good To Firm</td>\n",
       "      <td>5</td>\n",
       "      <td>Hurdle</td>\n",
       "      <td>Handicap</td>\n",
       "      <td>11568.0</td>\n",
       "      <td>...</td>\n",
       "      <td>4</td>\n",
       "      <td>150</td>\n",
       "      <td>t</td>\n",
       "      <td>79.0</td>\n",
       "      <td>Bob Back (USA)</td>\n",
       "      <td>Guest Cailin (IRE)</td>\n",
       "      <td>Be My Guest</td>\n",
       "      <td>Mid-division 8th approaching 3 out - 6th after...</td>\n",
       "      <td>0</td>\n",
       "      <td>0.0</td>\n",
       "    </tr>\n",
       "    <tr>\n",
       "      <th>297</th>\n",
       "      <td>RID1960-IE-05</td>\n",
       "      <td>2005-12-29</td>\n",
       "      <td>Limerick</td>\n",
       "      <td>Noel Kierans Memorial INH Flat Race</td>\n",
       "      <td>3600</td>\n",
       "      <td>Heavy</td>\n",
       "      <td>5</td>\n",
       "      <td>Bumper</td>\n",
       "      <td>Even</td>\n",
       "      <td>10122.0</td>\n",
       "      <td>...</td>\n",
       "      <td>5</td>\n",
       "      <td>161</td>\n",
       "      <td>t</td>\n",
       "      <td>36.0</td>\n",
       "      <td>Witness Box (USA)</td>\n",
       "      <td>Welsh Sitara (IRE)</td>\n",
       "      <td>Welsh Term</td>\n",
       "      <td>Led and disputed - strongly pressed and headed...</td>\n",
       "      <td>0</td>\n",
       "      <td>1690.5</td>\n",
       "    </tr>\n",
       "    <tr>\n",
       "      <th>387</th>\n",
       "      <td>RID1854-IE-05</td>\n",
       "      <td>2005-12-11</td>\n",
       "      <td>Cork</td>\n",
       "      <td>J.B.C. Maiden Hurdle</td>\n",
       "      <td>3200</td>\n",
       "      <td>Heavy</td>\n",
       "      <td>5</td>\n",
       "      <td>Hurdle</td>\n",
       "      <td>Handicap</td>\n",
       "      <td>12532.0</td>\n",
       "      <td>...</td>\n",
       "      <td>4</td>\n",
       "      <td>161</td>\n",
       "      <td>t</td>\n",
       "      <td>33.0</td>\n",
       "      <td>Croco Rouge (IRE)</td>\n",
       "      <td>Petit Point (IRE)</td>\n",
       "      <td>Petorius</td>\n",
       "      <td>Chased leaders - closer in 2nd 3 out - led fro...</td>\n",
       "      <td>1</td>\n",
       "      <td>8983.0</td>\n",
       "    </tr>\n",
       "    <tr>\n",
       "      <th>432</th>\n",
       "      <td>RID2335-IE-05</td>\n",
       "      <td>2006-04-16</td>\n",
       "      <td>Fairyhouse</td>\n",
       "      <td>tote.ie Novice Handicap Hurdle</td>\n",
       "      <td>3200</td>\n",
       "      <td>Good To Yielding</td>\n",
       "      <td>5</td>\n",
       "      <td>Hurdle</td>\n",
       "      <td>Handicap</td>\n",
       "      <td>21690.0</td>\n",
       "      <td>...</td>\n",
       "      <td>5</td>\n",
       "      <td>134</td>\n",
       "      <td>t</td>\n",
       "      <td>89.0</td>\n",
       "      <td>Zaffaran (USA)</td>\n",
       "      <td>Native Lisa (IRE)</td>\n",
       "      <td>Be My Native</td>\n",
       "      <td>Towards rear - stayed on well from 3 out</td>\n",
       "      <td>0</td>\n",
       "      <td>697.5</td>\n",
       "    </tr>\n",
       "  </tbody>\n",
       "</table>\n",
       "<p>5 rows × 24 columns</p>\n",
       "</div>"
      ],
      "text/plain": [
       "           race_ID        Date       course  \\\n",
       "189  RID1169-IE-05  2005-06-02  Punchestown   \n",
       "191  RID1169-IE-05  2005-06-02  Punchestown   \n",
       "297  RID1960-IE-05  2005-12-29     Limerick   \n",
       "387  RID1854-IE-05  2005-12-11         Cork   \n",
       "432  RID2335-IE-05  2006-04-16   Fairyhouse   \n",
       "\n",
       "                                 race_name  Distance_covered  \\\n",
       "189  Sheilas Cottage (Mares) Maiden Hurdle              3200   \n",
       "191  Sheilas Cottage (Mares) Maiden Hurdle              3200   \n",
       "297    Noel Kierans Memorial INH Flat Race              3600   \n",
       "387                   J.B.C. Maiden Hurdle              3200   \n",
       "432         tote.ie Novice Handicap Hurdle              3200   \n",
       "\n",
       "      Track_condition  season race_group race_type  Race_Money  ... age  \\\n",
       "189      Good To Firm       5     Hurdle  Handicap     11568.0  ...   5   \n",
       "191      Good To Firm       5     Hurdle  Handicap     11568.0  ...   4   \n",
       "297             Heavy       5     Bumper      Even     10122.0  ...   5   \n",
       "387             Heavy       5     Hurdle  Handicap     12532.0  ...   4   \n",
       "432  Good To Yielding       5     Hurdle  Handicap     21690.0  ...   5   \n",
       "\n",
       "    Weight Gear Top_speed                sire                  dam  \\\n",
       "189    157    t      93.0  Desert Style (IRE)  Lough N Uisce (IRE)   \n",
       "191    150    t      79.0      Bob Back (USA)   Guest Cailin (IRE)   \n",
       "297    161    t      36.0   Witness Box (USA)   Welsh Sitara (IRE)   \n",
       "387    161    t      33.0   Croco Rouge (IRE)    Petit Point (IRE)   \n",
       "432    134    t      89.0      Zaffaran (USA)    Native Lisa (IRE)   \n",
       "\n",
       "          damsire                                            comment Winner  \\\n",
       "189  Boyne Valley  Held up - progress into mid-division halfway -...      0   \n",
       "191   Be My Guest  Mid-division 8th approaching 3 out - 6th after...      0   \n",
       "297    Welsh Term  Led and disputed - strongly pressed and headed...      0   \n",
       "387      Petorius  Chased leaders - closer in 2nd 3 out - led fro...      1   \n",
       "432  Be My Native           Towards rear - stayed on well from 3 out      0   \n",
       "\n",
       "    prize_money  \n",
       "189       852.0  \n",
       "191         0.0  \n",
       "297      1690.5  \n",
       "387      8983.0  \n",
       "432       697.5  \n",
       "\n",
       "[5 rows x 24 columns]"
      ]
     },
     "execution_count": 13,
     "metadata": {},
     "output_type": "execute_result"
    }
   ],
   "source": [
    "#Rename Columns\n",
    "X_df.rename(columns={'date': 'Date', 'dist.m.': 'Distance_covered', 'pos': 'Track_position', 'lbs': 'Weight', 'ts': 'Top_speed', 'act_score': 'Winner', 'going': 'Track_condition','trainer': 'Trainer','jockey': 'Jockey','gear':'Gear'}, inplace=True)\n",
    "X_df.head(5)"
   ]
  },
  {
   "cell_type": "code",
   "execution_count": 14,
   "id": "LIQuIAZQzzj5",
   "metadata": {
    "colab": {
     "base_uri": "https://localhost:8080/"
    },
    "id": "LIQuIAZQzzj5",
    "outputId": "a8f72d2b-f957-413b-bcf4-8e507738d98d"
   },
   "outputs": [
    {
     "name": "stdout",
     "output_type": "stream",
     "text": [
      "Feature 'race_ID' has 50925 unique categories\n",
      "Feature 'Date' has 4654 unique categories\n",
      "Feature 'course' has 67 unique categories\n",
      "Feature 'race_name' has 34348 unique categories\n",
      "Feature 'Track_condition' has 10 unique categories\n",
      "Feature 'race_group' has 4 unique categories\n",
      "Feature 'race_type' has 2 unique categories\n",
      "Feature 'horse_name' has 27664 unique categories\n",
      "Feature 'Trainer' has 2305 unique categories\n",
      "Feature 'Jockey' has 1861 unique categories\n",
      "Feature 'Track_position' has 30 unique categories\n",
      "Feature 'Gear' has 25 unique categories\n",
      "Feature 'sire' has 1979 unique categories\n",
      "Feature 'dam' has 20428 unique categories\n",
      "Feature 'damsire' has 2639 unique categories\n",
      "Feature 'comment' has 138363 unique categories\n"
     ]
    }
   ],
   "source": [
    "# print out object columns to know number of unique features\n",
    "for col_name in X_df.columns:\n",
    "    if X_df[col_name].dtypes == 'object':\n",
    "        unique_cat = len(X_df[col_name].unique())\n",
    "        print(\"Feature '{col_name}' has {unique_cat} unique categories\".format(col_name=col_name, unique_cat=unique_cat))"
   ]
  },
  {
   "cell_type": "code",
   "execution_count": 15,
   "id": "8-LGeNipzzoE",
   "metadata": {
    "colab": {
     "base_uri": "https://localhost:8080/"
    },
    "id": "8-LGeNipzzoE",
    "outputId": "7f89f5ed-3c7c-4294-87c2-5fa870e29676"
   },
   "outputs": [
    {
     "name": "stdout",
     "output_type": "stream",
     "text": [
      "Feature 'Race_Money' has 3780 unique categories\n",
      "Feature 'Top_speed' has 175 unique categories\n",
      "Feature 'prize_money' has 7205 unique categories\n"
     ]
    }
   ],
   "source": [
    "#Print out numerical columns\n",
    "for col_name in X_df.columns:\n",
    "    if X_df[col_name].dtypes == 'float64':\n",
    "        unique_cat = len(X_df[col_name].unique())\n",
    "        print(\"Feature '{col_name}' has {unique_cat} unique categories\".format(col_name=col_name, unique_cat=unique_cat))"
   ]
  },
  {
   "cell_type": "markdown",
   "id": "8e9c0e5c",
   "metadata": {},
   "source": [
    "#### Reduce the number of unique values by binning 'rare' categorical variables on:\n",
    "\n",
    "a. jockey\n",
    "b. trainer\n",
    "c. track condition\n",
    "d. gear\n"
   ]
  },
  {
   "cell_type": "code",
   "execution_count": 16,
   "id": "cfa13b01",
   "metadata": {
    "scrolled": true
   },
   "outputs": [
    {
     "data": {
      "text/html": [
       "<div>\n",
       "<style scoped>\n",
       "    .dataframe tbody tr th:only-of-type {\n",
       "        vertical-align: middle;\n",
       "    }\n",
       "\n",
       "    .dataframe tbody tr th {\n",
       "        vertical-align: top;\n",
       "    }\n",
       "\n",
       "    .dataframe thead th {\n",
       "        text-align: right;\n",
       "    }\n",
       "</style>\n",
       "<table border=\"1\" class=\"dataframe\">\n",
       "  <thead>\n",
       "    <tr style=\"text-align: right;\">\n",
       "      <th></th>\n",
       "      <th>index</th>\n",
       "      <th>Jockey</th>\n",
       "    </tr>\n",
       "  </thead>\n",
       "  <tbody>\n",
       "    <tr>\n",
       "      <th>0</th>\n",
       "      <td>other</td>\n",
       "      <td>134878</td>\n",
       "    </tr>\n",
       "    <tr>\n",
       "      <th>1</th>\n",
       "      <td>Richard Johnson</td>\n",
       "      <td>2792</td>\n",
       "    </tr>\n",
       "    <tr>\n",
       "      <th>2</th>\n",
       "      <td>Tom Scudamore</td>\n",
       "      <td>2769</td>\n",
       "    </tr>\n",
       "  </tbody>\n",
       "</table>\n",
       "</div>"
      ],
      "text/plain": [
       "             index  Jockey\n",
       "0            other  134878\n",
       "1  Richard Johnson    2792\n",
       "2    Tom Scudamore    2769"
      ]
     },
     "execution_count": 16,
     "metadata": {},
     "output_type": "execute_result"
    }
   ],
   "source": [
    "X_df['Jockey'].value_counts().head(7)\n",
    "# Reduce categorical variables (jockey)\n",
    "jockey_others = X_df['Jockey'].value_counts().loc[lambda x: x<2700]\n",
    "application_to_replace = jockey_others.index.tolist()\n",
    "for j in application_to_replace:\n",
    "    X_df['Jockey'] = X_df['Jockey'].replace(j,\"other\")\n",
    "# Confirm binning was successful\n",
    "X_df['Jockey'].value_counts(sort=True).reset_index()"
   ]
  },
  {
   "cell_type": "code",
   "execution_count": 17,
   "id": "a80d26d4",
   "metadata": {
    "scrolled": true
   },
   "outputs": [
    {
     "data": {
      "text/html": [
       "<div>\n",
       "<style scoped>\n",
       "    .dataframe tbody tr th:only-of-type {\n",
       "        vertical-align: middle;\n",
       "    }\n",
       "\n",
       "    .dataframe tbody tr th {\n",
       "        vertical-align: top;\n",
       "    }\n",
       "\n",
       "    .dataframe thead th {\n",
       "        text-align: right;\n",
       "    }\n",
       "</style>\n",
       "<table border=\"1\" class=\"dataframe\">\n",
       "  <thead>\n",
       "    <tr style=\"text-align: right;\">\n",
       "      <th></th>\n",
       "      <th>index</th>\n",
       "      <th>Trainer</th>\n",
       "    </tr>\n",
       "  </thead>\n",
       "  <tbody>\n",
       "    <tr>\n",
       "      <th>0</th>\n",
       "      <td>other</td>\n",
       "      <td>133882</td>\n",
       "    </tr>\n",
       "    <tr>\n",
       "      <th>1</th>\n",
       "      <td>Gordon Elliott</td>\n",
       "      <td>3299</td>\n",
       "    </tr>\n",
       "    <tr>\n",
       "      <th>2</th>\n",
       "      <td>David Pipe</td>\n",
       "      <td>3258</td>\n",
       "    </tr>\n",
       "  </tbody>\n",
       "</table>\n",
       "</div>"
      ],
      "text/plain": [
       "            index  Trainer\n",
       "0           other   133882\n",
       "1  Gordon Elliott     3299\n",
       "2      David Pipe     3258"
      ]
     },
     "execution_count": 17,
     "metadata": {},
     "output_type": "execute_result"
    }
   ],
   "source": [
    "X_df['Trainer'].value_counts().head(10)\n",
    "# Reduce categorical variables (trainer)\n",
    "trainer_others = X_df['Trainer'].value_counts().loc[lambda x: x<3000]\n",
    "application_to_replace = trainer_others.index.tolist()\n",
    "for t in application_to_replace:\n",
    "    X_df['Trainer'] = X_df['Trainer'].replace(t,\"other\")\n",
    "# Confirm binning was successful\n",
    "X_df['Trainer'].value_counts(sort=True).reset_index()"
   ]
  },
  {
   "cell_type": "code",
   "execution_count": 18,
   "id": "bc13f391",
   "metadata": {},
   "outputs": [
    {
     "data": {
      "text/html": [
       "<div>\n",
       "<style scoped>\n",
       "    .dataframe tbody tr th:only-of-type {\n",
       "        vertical-align: middle;\n",
       "    }\n",
       "\n",
       "    .dataframe tbody tr th {\n",
       "        vertical-align: top;\n",
       "    }\n",
       "\n",
       "    .dataframe thead th {\n",
       "        text-align: right;\n",
       "    }\n",
       "</style>\n",
       "<table border=\"1\" class=\"dataframe\">\n",
       "  <thead>\n",
       "    <tr style=\"text-align: right;\">\n",
       "      <th></th>\n",
       "      <th>index</th>\n",
       "      <th>Track_condition</th>\n",
       "    </tr>\n",
       "  </thead>\n",
       "  <tbody>\n",
       "    <tr>\n",
       "      <th>0</th>\n",
       "      <td>Good</td>\n",
       "      <td>54530</td>\n",
       "    </tr>\n",
       "    <tr>\n",
       "      <th>1</th>\n",
       "      <td>other</td>\n",
       "      <td>42630</td>\n",
       "    </tr>\n",
       "    <tr>\n",
       "      <th>2</th>\n",
       "      <td>Soft</td>\n",
       "      <td>23507</td>\n",
       "    </tr>\n",
       "    <tr>\n",
       "      <th>3</th>\n",
       "      <td>Good To Soft</td>\n",
       "      <td>19772</td>\n",
       "    </tr>\n",
       "  </tbody>\n",
       "</table>\n",
       "</div>"
      ],
      "text/plain": [
       "          index  Track_condition\n",
       "0          Good            54530\n",
       "1         other            42630\n",
       "2          Soft            23507\n",
       "3  Good To Soft            19772"
      ]
     },
     "execution_count": 18,
     "metadata": {},
     "output_type": "execute_result"
    }
   ],
   "source": [
    "X_df['Track_condition'].value_counts().head(10)\n",
    "# Reduce categorical variables (Track_condition)\n",
    "track_others = X_df['Track_condition'].value_counts().loc[lambda x: x<18000]\n",
    "application_to_replace = track_others.index.tolist()\n",
    "for t in application_to_replace:\n",
    "    X_df['Track_condition'] = X_df['Track_condition'].replace(t,\"other\")\n",
    "# Confirm binning was successful\n",
    "X_df['Track_condition'].value_counts(sort=True).reset_index()"
   ]
  },
  {
   "cell_type": "code",
   "execution_count": 19,
   "id": "6923b085",
   "metadata": {
    "scrolled": false
   },
   "outputs": [
    {
     "data": {
      "text/html": [
       "<div>\n",
       "<style scoped>\n",
       "    .dataframe tbody tr th:only-of-type {\n",
       "        vertical-align: middle;\n",
       "    }\n",
       "\n",
       "    .dataframe tbody tr th {\n",
       "        vertical-align: top;\n",
       "    }\n",
       "\n",
       "    .dataframe thead th {\n",
       "        text-align: right;\n",
       "    }\n",
       "</style>\n",
       "<table border=\"1\" class=\"dataframe\">\n",
       "  <thead>\n",
       "    <tr style=\"text-align: right;\">\n",
       "      <th></th>\n",
       "      <th>index</th>\n",
       "      <th>course</th>\n",
       "    </tr>\n",
       "  </thead>\n",
       "  <tbody>\n",
       "    <tr>\n",
       "      <th>0</th>\n",
       "      <td>other</td>\n",
       "      <td>123065</td>\n",
       "    </tr>\n",
       "    <tr>\n",
       "      <th>1</th>\n",
       "      <td>Uttoxeter</td>\n",
       "      <td>4910</td>\n",
       "    </tr>\n",
       "    <tr>\n",
       "      <th>2</th>\n",
       "      <td>Worcester</td>\n",
       "      <td>4322</td>\n",
       "    </tr>\n",
       "    <tr>\n",
       "      <th>3</th>\n",
       "      <td>Fontwell</td>\n",
       "      <td>4080</td>\n",
       "    </tr>\n",
       "    <tr>\n",
       "      <th>4</th>\n",
       "      <td>Cheltenham</td>\n",
       "      <td>4062</td>\n",
       "    </tr>\n",
       "  </tbody>\n",
       "</table>\n",
       "</div>"
      ],
      "text/plain": [
       "        index  course\n",
       "0       other  123065\n",
       "1   Uttoxeter    4910\n",
       "2   Worcester    4322\n",
       "3    Fontwell    4080\n",
       "4  Cheltenham    4062"
      ]
     },
     "execution_count": 19,
     "metadata": {},
     "output_type": "execute_result"
    }
   ],
   "source": [
    "# Reduce categorical variables (course)\n",
    "X_df['course'].value_counts().head(10)\n",
    "course_others = X_df['course'].value_counts().loc[lambda x: x<4000]\n",
    "application_to_replace = course_others.index.tolist()\n",
    "for c in application_to_replace:\n",
    "    X_df['course'] = X_df['course'].replace(c,\"other\")\n",
    "# Confirm binning was successful\n",
    "X_df['course'].value_counts(sort=True).reset_index()"
   ]
  },
  {
   "cell_type": "code",
   "execution_count": 20,
   "id": "2d12241e",
   "metadata": {},
   "outputs": [
    {
     "data": {
      "text/html": [
       "<div>\n",
       "<style scoped>\n",
       "    .dataframe tbody tr th:only-of-type {\n",
       "        vertical-align: middle;\n",
       "    }\n",
       "\n",
       "    .dataframe tbody tr th {\n",
       "        vertical-align: top;\n",
       "    }\n",
       "\n",
       "    .dataframe thead th {\n",
       "        text-align: right;\n",
       "    }\n",
       "</style>\n",
       "<table border=\"1\" class=\"dataframe\">\n",
       "  <thead>\n",
       "    <tr style=\"text-align: right;\">\n",
       "      <th></th>\n",
       "      <th>index</th>\n",
       "      <th>Gear</th>\n",
       "    </tr>\n",
       "  </thead>\n",
       "  <tbody>\n",
       "    <tr>\n",
       "      <th>0</th>\n",
       "      <td>t</td>\n",
       "      <td>47780</td>\n",
       "    </tr>\n",
       "    <tr>\n",
       "      <th>1</th>\n",
       "      <td>p</td>\n",
       "      <td>36648</td>\n",
       "    </tr>\n",
       "    <tr>\n",
       "      <th>2</th>\n",
       "      <td>other</td>\n",
       "      <td>25611</td>\n",
       "    </tr>\n",
       "    <tr>\n",
       "      <th>3</th>\n",
       "      <td>b</td>\n",
       "      <td>19498</td>\n",
       "    </tr>\n",
       "    <tr>\n",
       "      <th>4</th>\n",
       "      <td>tp</td>\n",
       "      <td>10902</td>\n",
       "    </tr>\n",
       "  </tbody>\n",
       "</table>\n",
       "</div>"
      ],
      "text/plain": [
       "   index   Gear\n",
       "0      t  47780\n",
       "1      p  36648\n",
       "2  other  25611\n",
       "3      b  19498\n",
       "4     tp  10902"
      ]
     },
     "execution_count": 20,
     "metadata": {},
     "output_type": "execute_result"
    }
   ],
   "source": [
    "# Reduce categorical variables (gear)\n",
    "X_df['Gear'].value_counts().head(10)\n",
    "gear_others = X_df['Gear'].value_counts().loc[lambda x: x<10000]\n",
    "application_to_replace = gear_others.index.tolist()\n",
    "for g in application_to_replace:\n",
    "    X_df['Gear'] = X_df['Gear'].replace(g,\"other\")\n",
    "# Confirm binning was successful\n",
    "X_df['Gear'].value_counts(sort=True).reset_index()"
   ]
  },
  {
   "cell_type": "code",
   "execution_count": 21,
   "id": "ccLAzRcIzzzs",
   "metadata": {
    "id": "ccLAzRcIzzzs"
   },
   "outputs": [
    {
     "data": {
      "text/plain": [
       "2      19630\n",
       "3      19168\n",
       "1      18975\n",
       "4      17677\n",
       "5      15591\n",
       "6      12567\n",
       "7       9681\n",
       "8       7479\n",
       "9       5602\n",
       "10      4033\n",
       "11      2976\n",
       "12      2146\n",
       "13      1519\n",
       "14      1062\n",
       "15       722\n",
       "16       517\n",
       "17       354\n",
       "18       220\n",
       "19       139\n",
       "20        92\n",
       "DSQ       90\n",
       "21        76\n",
       "22        59\n",
       "23        28\n",
       "24        15\n",
       "26         8\n",
       "25         8\n",
       "27         2\n",
       "28         2\n",
       "REF        1\n",
       "Name: Track_position, dtype: int64"
      ]
     },
     "execution_count": 21,
     "metadata": {},
     "output_type": "execute_result"
    }
   ],
   "source": [
    "#Replace Disqualified positon in the race with zero(0)\n",
    "X_df[\"Track_position\"].value_counts()\n"
   ]
  },
  {
   "cell_type": "code",
   "execution_count": 22,
   "id": "m7FidsdK4ir6",
   "metadata": {
    "id": "m7FidsdK4ir6"
   },
   "outputs": [],
   "source": [
    "# Replace disqualified position (DSQ) as 0\n",
    "dX=X_df.replace(to_replace=\"DSQ\",value=0)"
   ]
  },
  {
   "cell_type": "code",
   "execution_count": 23,
   "id": "AS-Ap8eP4iwq",
   "metadata": {
    "colab": {
     "base_uri": "https://localhost:8080/",
     "height": 167
    },
    "id": "AS-Ap8eP4iwq",
    "outputId": "4455b1fc-56b1-4cee-c945-2f89c6670452",
    "scrolled": true
   },
   "outputs": [
    {
     "data": {
      "text/html": [
       "<div>\n",
       "<style scoped>\n",
       "    .dataframe tbody tr th:only-of-type {\n",
       "        vertical-align: middle;\n",
       "    }\n",
       "\n",
       "    .dataframe tbody tr th {\n",
       "        vertical-align: top;\n",
       "    }\n",
       "\n",
       "    .dataframe thead th {\n",
       "        text-align: right;\n",
       "    }\n",
       "</style>\n",
       "<table border=\"1\" class=\"dataframe\">\n",
       "  <thead>\n",
       "    <tr style=\"text-align: right;\">\n",
       "      <th></th>\n",
       "      <th>race_ID</th>\n",
       "      <th>Date</th>\n",
       "      <th>course</th>\n",
       "      <th>race_name</th>\n",
       "      <th>Distance_covered</th>\n",
       "      <th>Track_condition</th>\n",
       "      <th>season</th>\n",
       "      <th>race_group</th>\n",
       "      <th>race_type</th>\n",
       "      <th>Race_Money</th>\n",
       "      <th>...</th>\n",
       "      <th>age</th>\n",
       "      <th>Weight</th>\n",
       "      <th>Gear</th>\n",
       "      <th>Top_speed</th>\n",
       "      <th>sire</th>\n",
       "      <th>dam</th>\n",
       "      <th>damsire</th>\n",
       "      <th>comment</th>\n",
       "      <th>Winner</th>\n",
       "      <th>prize_money</th>\n",
       "    </tr>\n",
       "  </thead>\n",
       "  <tbody>\n",
       "    <tr>\n",
       "      <th>189</th>\n",
       "      <td>RID1169-IE-05</td>\n",
       "      <td>2005-06-02</td>\n",
       "      <td>other</td>\n",
       "      <td>Sheilas Cottage (Mares) Maiden Hurdle</td>\n",
       "      <td>3200</td>\n",
       "      <td>other</td>\n",
       "      <td>5</td>\n",
       "      <td>Hurdle</td>\n",
       "      <td>Handicap</td>\n",
       "      <td>11568.0</td>\n",
       "      <td>...</td>\n",
       "      <td>5</td>\n",
       "      <td>157</td>\n",
       "      <td>t</td>\n",
       "      <td>93.0</td>\n",
       "      <td>Desert Style (IRE)</td>\n",
       "      <td>Lough N Uisce (IRE)</td>\n",
       "      <td>Boyne Valley</td>\n",
       "      <td>Held up - progress into mid-division halfway -...</td>\n",
       "      <td>0</td>\n",
       "      <td>852.0</td>\n",
       "    </tr>\n",
       "    <tr>\n",
       "      <th>191</th>\n",
       "      <td>RID1169-IE-05</td>\n",
       "      <td>2005-06-02</td>\n",
       "      <td>other</td>\n",
       "      <td>Sheilas Cottage (Mares) Maiden Hurdle</td>\n",
       "      <td>3200</td>\n",
       "      <td>other</td>\n",
       "      <td>5</td>\n",
       "      <td>Hurdle</td>\n",
       "      <td>Handicap</td>\n",
       "      <td>11568.0</td>\n",
       "      <td>...</td>\n",
       "      <td>4</td>\n",
       "      <td>150</td>\n",
       "      <td>t</td>\n",
       "      <td>79.0</td>\n",
       "      <td>Bob Back (USA)</td>\n",
       "      <td>Guest Cailin (IRE)</td>\n",
       "      <td>Be My Guest</td>\n",
       "      <td>Mid-division 8th approaching 3 out - 6th after...</td>\n",
       "      <td>0</td>\n",
       "      <td>0.0</td>\n",
       "    </tr>\n",
       "  </tbody>\n",
       "</table>\n",
       "<p>2 rows × 24 columns</p>\n",
       "</div>"
      ],
      "text/plain": [
       "           race_ID        Date course                              race_name  \\\n",
       "189  RID1169-IE-05  2005-06-02  other  Sheilas Cottage (Mares) Maiden Hurdle   \n",
       "191  RID1169-IE-05  2005-06-02  other  Sheilas Cottage (Mares) Maiden Hurdle   \n",
       "\n",
       "     Distance_covered Track_condition  season race_group race_type  \\\n",
       "189              3200           other       5     Hurdle  Handicap   \n",
       "191              3200           other       5     Hurdle  Handicap   \n",
       "\n",
       "     Race_Money  ... age Weight Gear Top_speed                sire  \\\n",
       "189     11568.0  ...   5    157    t      93.0  Desert Style (IRE)   \n",
       "191     11568.0  ...   4    150    t      79.0      Bob Back (USA)   \n",
       "\n",
       "                     dam       damsire  \\\n",
       "189  Lough N Uisce (IRE)  Boyne Valley   \n",
       "191   Guest Cailin (IRE)   Be My Guest   \n",
       "\n",
       "                                               comment Winner prize_money  \n",
       "189  Held up - progress into mid-division halfway -...      0       852.0  \n",
       "191  Mid-division 8th approaching 3 out - 6th after...      0         0.0  \n",
       "\n",
       "[2 rows x 24 columns]"
      ]
     },
     "execution_count": 23,
     "metadata": {},
     "output_type": "execute_result"
    }
   ],
   "source": [
    "dX.head(2)"
   ]
  },
  {
   "cell_type": "code",
   "execution_count": 24,
   "id": "a361a44c",
   "metadata": {},
   "outputs": [
    {
     "data": {
      "text/plain": [
       "race_ID              object\n",
       "Date                 object\n",
       "course               object\n",
       "race_name            object\n",
       "Distance_covered      int64\n",
       "Track_condition      object\n",
       "season                int64\n",
       "race_group           object\n",
       "race_type            object\n",
       "Race_Money          float64\n",
       "horse_name           object\n",
       "Trainer              object\n",
       "Jockey               object\n",
       "Track_position       object\n",
       "age                   int64\n",
       "Weight                int64\n",
       "Gear                 object\n",
       "Top_speed           float64\n",
       "sire                 object\n",
       "dam                  object\n",
       "damsire              object\n",
       "comment              object\n",
       "Winner                int64\n",
       "prize_money         float64\n",
       "dtype: object"
      ]
     },
     "execution_count": 24,
     "metadata": {},
     "output_type": "execute_result"
    }
   ],
   "source": [
    "dX.dtypes"
   ]
  },
  {
   "cell_type": "code",
   "execution_count": 25,
   "id": "c3e47dd6",
   "metadata": {
    "scrolled": true
   },
   "outputs": [],
   "source": [
    "dX = dX.replace(to_replace=\"REF\",value=30)"
   ]
  },
  {
   "cell_type": "code",
   "execution_count": 26,
   "id": "aRuQDeHYzz6u",
   "metadata": {
    "id": "aRuQDeHYzz6u"
   },
   "outputs": [],
   "source": [
    "final_df = dX.astype({\"Track_position\": float})"
   ]
  },
  {
   "cell_type": "code",
   "execution_count": 27,
   "id": "D6rjP0_7573K",
   "metadata": {
    "colab": {
     "base_uri": "https://localhost:8080/"
    },
    "id": "D6rjP0_7573K",
    "outputId": "21b19567-129a-47ed-8565-ae24a9dc6113"
   },
   "outputs": [
    {
     "data": {
      "text/plain": [
       "race_ID              object\n",
       "Date                 object\n",
       "course               object\n",
       "race_name            object\n",
       "Distance_covered      int64\n",
       "Track_condition      object\n",
       "season                int64\n",
       "race_group           object\n",
       "race_type            object\n",
       "Race_Money          float64\n",
       "horse_name           object\n",
       "Trainer              object\n",
       "Jockey               object\n",
       "Track_position      float64\n",
       "age                   int64\n",
       "Weight                int64\n",
       "Gear                 object\n",
       "Top_speed           float64\n",
       "sire                 object\n",
       "dam                  object\n",
       "damsire              object\n",
       "comment              object\n",
       "Winner                int64\n",
       "prize_money         float64\n",
       "dtype: object"
      ]
     },
     "execution_count": 27,
     "metadata": {},
     "output_type": "execute_result"
    }
   ],
   "source": [
    "final_df.dtypes"
   ]
  },
  {
   "cell_type": "code",
   "execution_count": 28,
   "id": "rj43fdta578k",
   "metadata": {
    "colab": {
     "base_uri": "https://localhost:8080/"
    },
    "id": "rj43fdta578k",
    "outputId": "fd5a489b-32d1-4e72-d95b-06bd5254140f"
   },
   "outputs": [
    {
     "name": "stdout",
     "output_type": "stream",
     "text": [
      "Feature 'race_ID' has 50925 unique categories\n",
      "Feature 'Date' has 4654 unique categories\n",
      "Feature 'course' has 5 unique categories\n",
      "Feature 'race_name' has 34348 unique categories\n",
      "Feature 'Track_condition' has 4 unique categories\n",
      "Feature 'race_group' has 4 unique categories\n",
      "Feature 'race_type' has 2 unique categories\n",
      "Feature 'horse_name' has 27664 unique categories\n",
      "Feature 'Trainer' has 3 unique categories\n",
      "Feature 'Jockey' has 3 unique categories\n",
      "Feature 'Gear' has 5 unique categories\n",
      "Feature 'sire' has 1979 unique categories\n",
      "Feature 'dam' has 20428 unique categories\n",
      "Feature 'damsire' has 2639 unique categories\n",
      "Feature 'comment' has 138363 unique categories\n"
     ]
    }
   ],
   "source": [
    "# Print object variable column\n",
    "for col_name in final_df.columns:\n",
    "    if final_df[col_name].dtypes == 'object':\n",
    "        unique_cat = len(final_df[col_name].unique())\n",
    "        print(\"Feature '{col_name}' has {unique_cat} unique categories\".format(col_name=col_name, unique_cat=unique_cat))"
   ]
  },
  {
   "cell_type": "code",
   "execution_count": 29,
   "id": "bNEDVMTR58A_",
   "metadata": {
    "colab": {
     "base_uri": "https://localhost:8080/"
    },
    "id": "bNEDVMTR58A_",
    "outputId": "8940dd7d-d887-41dc-a449-ca28cdce06cf",
    "scrolled": true
   },
   "outputs": [
    {
     "name": "stdout",
     "output_type": "stream",
     "text": [
      "Feature 'Race_Money' has 3780 unique categories\n",
      "Feature 'Track_position' has 30 unique categories\n",
      "Feature 'Top_speed' has 175 unique categories\n",
      "Feature 'prize_money' has 7205 unique categories\n"
     ]
    }
   ],
   "source": [
    "# Print numerical columns\n",
    "for col_name in final_df.columns:\n",
    "    if final_df[col_name].dtypes == 'float64':\n",
    "        unique_cat = len(final_df[col_name].unique())\n",
    "        print(\"Feature '{col_name}' has {unique_cat} unique categories\".format(col_name=col_name, unique_cat=unique_cat))"
   ]
  },
  {
   "cell_type": "code",
   "execution_count": null,
   "id": "zV3YZLKj6CQE",
   "metadata": {
    "colab": {
     "base_uri": "https://localhost:8080/"
    },
    "id": "zV3YZLKj6CQE",
    "outputId": "73c8b565-26a1-412a-a20e-8b450633f0f0"
   },
   "outputs": [],
   "source": [
    "final_df.isnull().sum()"
   ]
  },
  {
   "cell_type": "code",
   "execution_count": 31,
   "id": "dBJrLbHy6CUO",
   "metadata": {
    "colab": {
     "base_uri": "https://localhost:8080/"
    },
    "id": "dBJrLbHy6CUO",
    "outputId": "52ecb6b2-2989-4d44-f8ea-e504bbbc1226",
    "scrolled": true
   },
   "outputs": [
    {
     "data": {
      "text/plain": [
       "189       False\n",
       "191       False\n",
       "297       False\n",
       "387       False\n",
       "432       False\n",
       "          ...  \n",
       "744325    False\n",
       "744327    False\n",
       "744328    False\n",
       "744345    False\n",
       "744346    False\n",
       "Length: 140439, dtype: bool"
      ]
     },
     "execution_count": 31,
     "metadata": {},
     "output_type": "execute_result"
    }
   ],
   "source": [
    "final_df.duplicated()"
   ]
  },
  {
   "cell_type": "code",
   "execution_count": 32,
   "id": "d1522bd0",
   "metadata": {
    "scrolled": true
   },
   "outputs": [
    {
     "data": {
      "text/html": [
       "<div>\n",
       "<style scoped>\n",
       "    .dataframe tbody tr th:only-of-type {\n",
       "        vertical-align: middle;\n",
       "    }\n",
       "\n",
       "    .dataframe tbody tr th {\n",
       "        vertical-align: top;\n",
       "    }\n",
       "\n",
       "    .dataframe thead th {\n",
       "        text-align: right;\n",
       "    }\n",
       "</style>\n",
       "<table border=\"1\" class=\"dataframe\">\n",
       "  <thead>\n",
       "    <tr style=\"text-align: right;\">\n",
       "      <th></th>\n",
       "      <th>race_ID</th>\n",
       "      <th>Date</th>\n",
       "      <th>course</th>\n",
       "      <th>race_name</th>\n",
       "      <th>Distance_covered</th>\n",
       "      <th>Track_condition</th>\n",
       "      <th>season</th>\n",
       "      <th>race_group</th>\n",
       "      <th>race_type</th>\n",
       "      <th>Race_Money</th>\n",
       "      <th>...</th>\n",
       "      <th>age</th>\n",
       "      <th>Weight</th>\n",
       "      <th>Gear</th>\n",
       "      <th>Top_speed</th>\n",
       "      <th>sire</th>\n",
       "      <th>dam</th>\n",
       "      <th>damsire</th>\n",
       "      <th>comment</th>\n",
       "      <th>Winner</th>\n",
       "      <th>prize_money</th>\n",
       "    </tr>\n",
       "  </thead>\n",
       "  <tbody>\n",
       "    <tr>\n",
       "      <th>189</th>\n",
       "      <td>RID1169-IE-05</td>\n",
       "      <td>2005-06-02</td>\n",
       "      <td>other</td>\n",
       "      <td>Sheilas Cottage (Mares) Maiden Hurdle</td>\n",
       "      <td>3200</td>\n",
       "      <td>other</td>\n",
       "      <td>5</td>\n",
       "      <td>Hurdle</td>\n",
       "      <td>Handicap</td>\n",
       "      <td>11568.0</td>\n",
       "      <td>...</td>\n",
       "      <td>5</td>\n",
       "      <td>157</td>\n",
       "      <td>t</td>\n",
       "      <td>93.0</td>\n",
       "      <td>Desert Style (IRE)</td>\n",
       "      <td>Lough N Uisce (IRE)</td>\n",
       "      <td>Boyne Valley</td>\n",
       "      <td>Held up - progress into mid-division halfway -...</td>\n",
       "      <td>0</td>\n",
       "      <td>852.0</td>\n",
       "    </tr>\n",
       "    <tr>\n",
       "      <th>191</th>\n",
       "      <td>RID1169-IE-05</td>\n",
       "      <td>2005-06-02</td>\n",
       "      <td>other</td>\n",
       "      <td>Sheilas Cottage (Mares) Maiden Hurdle</td>\n",
       "      <td>3200</td>\n",
       "      <td>other</td>\n",
       "      <td>5</td>\n",
       "      <td>Hurdle</td>\n",
       "      <td>Handicap</td>\n",
       "      <td>11568.0</td>\n",
       "      <td>...</td>\n",
       "      <td>4</td>\n",
       "      <td>150</td>\n",
       "      <td>t</td>\n",
       "      <td>79.0</td>\n",
       "      <td>Bob Back (USA)</td>\n",
       "      <td>Guest Cailin (IRE)</td>\n",
       "      <td>Be My Guest</td>\n",
       "      <td>Mid-division 8th approaching 3 out - 6th after...</td>\n",
       "      <td>0</td>\n",
       "      <td>0.0</td>\n",
       "    </tr>\n",
       "    <tr>\n",
       "      <th>297</th>\n",
       "      <td>RID1960-IE-05</td>\n",
       "      <td>2005-12-29</td>\n",
       "      <td>other</td>\n",
       "      <td>Noel Kierans Memorial INH Flat Race</td>\n",
       "      <td>3600</td>\n",
       "      <td>other</td>\n",
       "      <td>5</td>\n",
       "      <td>Bumper</td>\n",
       "      <td>Even</td>\n",
       "      <td>10122.0</td>\n",
       "      <td>...</td>\n",
       "      <td>5</td>\n",
       "      <td>161</td>\n",
       "      <td>t</td>\n",
       "      <td>36.0</td>\n",
       "      <td>Witness Box (USA)</td>\n",
       "      <td>Welsh Sitara (IRE)</td>\n",
       "      <td>Welsh Term</td>\n",
       "      <td>Led and disputed - strongly pressed and headed...</td>\n",
       "      <td>0</td>\n",
       "      <td>1690.5</td>\n",
       "    </tr>\n",
       "    <tr>\n",
       "      <th>387</th>\n",
       "      <td>RID1854-IE-05</td>\n",
       "      <td>2005-12-11</td>\n",
       "      <td>other</td>\n",
       "      <td>J.B.C. Maiden Hurdle</td>\n",
       "      <td>3200</td>\n",
       "      <td>other</td>\n",
       "      <td>5</td>\n",
       "      <td>Hurdle</td>\n",
       "      <td>Handicap</td>\n",
       "      <td>12532.0</td>\n",
       "      <td>...</td>\n",
       "      <td>4</td>\n",
       "      <td>161</td>\n",
       "      <td>t</td>\n",
       "      <td>33.0</td>\n",
       "      <td>Croco Rouge (IRE)</td>\n",
       "      <td>Petit Point (IRE)</td>\n",
       "      <td>Petorius</td>\n",
       "      <td>Chased leaders - closer in 2nd 3 out - led fro...</td>\n",
       "      <td>1</td>\n",
       "      <td>8983.0</td>\n",
       "    </tr>\n",
       "    <tr>\n",
       "      <th>432</th>\n",
       "      <td>RID2335-IE-05</td>\n",
       "      <td>2006-04-16</td>\n",
       "      <td>other</td>\n",
       "      <td>tote.ie Novice Handicap Hurdle</td>\n",
       "      <td>3200</td>\n",
       "      <td>other</td>\n",
       "      <td>5</td>\n",
       "      <td>Hurdle</td>\n",
       "      <td>Handicap</td>\n",
       "      <td>21690.0</td>\n",
       "      <td>...</td>\n",
       "      <td>5</td>\n",
       "      <td>134</td>\n",
       "      <td>t</td>\n",
       "      <td>89.0</td>\n",
       "      <td>Zaffaran (USA)</td>\n",
       "      <td>Native Lisa (IRE)</td>\n",
       "      <td>Be My Native</td>\n",
       "      <td>Towards rear - stayed on well from 3 out</td>\n",
       "      <td>0</td>\n",
       "      <td>697.5</td>\n",
       "    </tr>\n",
       "  </tbody>\n",
       "</table>\n",
       "<p>5 rows × 24 columns</p>\n",
       "</div>"
      ],
      "text/plain": [
       "           race_ID       Date course                              race_name  \\\n",
       "189  RID1169-IE-05 2005-06-02  other  Sheilas Cottage (Mares) Maiden Hurdle   \n",
       "191  RID1169-IE-05 2005-06-02  other  Sheilas Cottage (Mares) Maiden Hurdle   \n",
       "297  RID1960-IE-05 2005-12-29  other    Noel Kierans Memorial INH Flat Race   \n",
       "387  RID1854-IE-05 2005-12-11  other                   J.B.C. Maiden Hurdle   \n",
       "432  RID2335-IE-05 2006-04-16  other         tote.ie Novice Handicap Hurdle   \n",
       "\n",
       "     Distance_covered Track_condition  season race_group race_type  \\\n",
       "189              3200           other       5     Hurdle  Handicap   \n",
       "191              3200           other       5     Hurdle  Handicap   \n",
       "297              3600           other       5     Bumper      Even   \n",
       "387              3200           other       5     Hurdle  Handicap   \n",
       "432              3200           other       5     Hurdle  Handicap   \n",
       "\n",
       "     Race_Money  ... age Weight Gear  Top_speed                sire  \\\n",
       "189     11568.0  ...   5    157    t       93.0  Desert Style (IRE)   \n",
       "191     11568.0  ...   4    150    t       79.0      Bob Back (USA)   \n",
       "297     10122.0  ...   5    161    t       36.0   Witness Box (USA)   \n",
       "387     12532.0  ...   4    161    t       33.0   Croco Rouge (IRE)   \n",
       "432     21690.0  ...   5    134    t       89.0      Zaffaran (USA)   \n",
       "\n",
       "                     dam       damsire  \\\n",
       "189  Lough N Uisce (IRE)  Boyne Valley   \n",
       "191   Guest Cailin (IRE)   Be My Guest   \n",
       "297   Welsh Sitara (IRE)    Welsh Term   \n",
       "387    Petit Point (IRE)      Petorius   \n",
       "432    Native Lisa (IRE)  Be My Native   \n",
       "\n",
       "                                               comment Winner prize_money  \n",
       "189  Held up - progress into mid-division halfway -...      0       852.0  \n",
       "191  Mid-division 8th approaching 3 out - 6th after...      0         0.0  \n",
       "297  Led and disputed - strongly pressed and headed...      0      1690.5  \n",
       "387  Chased leaders - closer in 2nd 3 out - led fro...      1      8983.0  \n",
       "432           Towards rear - stayed on well from 3 out      0       697.5  \n",
       "\n",
       "[5 rows x 24 columns]"
      ]
     },
     "execution_count": 32,
     "metadata": {},
     "output_type": "execute_result"
    }
   ],
   "source": [
    "final_df['Date']= pd.to_datetime(final_df['Date'])\n",
    "final_df.head(5)"
   ]
  },
  {
   "cell_type": "code",
   "execution_count": 33,
   "id": "543cc6d9",
   "metadata": {},
   "outputs": [],
   "source": [
    "final_df.reset_index(drop=True, inplace=True)"
   ]
  },
  {
   "cell_type": "code",
   "execution_count": null,
   "id": "1ff81559",
   "metadata": {},
   "outputs": [],
   "source": []
  },
  {
   "cell_type": "code",
   "execution_count": 34,
   "id": "911a076c",
   "metadata": {
    "scrolled": true
   },
   "outputs": [
    {
     "data": {
      "text/html": [
       "<div>\n",
       "<style scoped>\n",
       "    .dataframe tbody tr th:only-of-type {\n",
       "        vertical-align: middle;\n",
       "    }\n",
       "\n",
       "    .dataframe tbody tr th {\n",
       "        vertical-align: top;\n",
       "    }\n",
       "\n",
       "    .dataframe thead th {\n",
       "        text-align: right;\n",
       "    }\n",
       "</style>\n",
       "<table border=\"1\" class=\"dataframe\">\n",
       "  <thead>\n",
       "    <tr style=\"text-align: right;\">\n",
       "      <th></th>\n",
       "      <th>race_ID</th>\n",
       "      <th>Date</th>\n",
       "      <th>course</th>\n",
       "      <th>race_name</th>\n",
       "      <th>Distance_covered</th>\n",
       "      <th>Track_condition</th>\n",
       "      <th>season</th>\n",
       "      <th>race_group</th>\n",
       "      <th>race_type</th>\n",
       "      <th>Race_Money</th>\n",
       "      <th>...</th>\n",
       "      <th>age</th>\n",
       "      <th>Weight</th>\n",
       "      <th>Gear</th>\n",
       "      <th>Top_speed</th>\n",
       "      <th>sire</th>\n",
       "      <th>dam</th>\n",
       "      <th>damsire</th>\n",
       "      <th>comment</th>\n",
       "      <th>Winner</th>\n",
       "      <th>prize_money</th>\n",
       "    </tr>\n",
       "  </thead>\n",
       "  <tbody>\n",
       "    <tr>\n",
       "      <th>0</th>\n",
       "      <td>RID1169-IE-05</td>\n",
       "      <td>2005-06-02</td>\n",
       "      <td>other</td>\n",
       "      <td>Sheilas Cottage (Mares) Maiden Hurdle</td>\n",
       "      <td>3200</td>\n",
       "      <td>other</td>\n",
       "      <td>5</td>\n",
       "      <td>Hurdle</td>\n",
       "      <td>Handicap</td>\n",
       "      <td>11568.0</td>\n",
       "      <td>...</td>\n",
       "      <td>5</td>\n",
       "      <td>157</td>\n",
       "      <td>t</td>\n",
       "      <td>93.0</td>\n",
       "      <td>Desert Style (IRE)</td>\n",
       "      <td>Lough N Uisce (IRE)</td>\n",
       "      <td>Boyne Valley</td>\n",
       "      <td>Held up - progress into mid-division halfway -...</td>\n",
       "      <td>0</td>\n",
       "      <td>852.0</td>\n",
       "    </tr>\n",
       "    <tr>\n",
       "      <th>1</th>\n",
       "      <td>RID1169-IE-05</td>\n",
       "      <td>2005-06-02</td>\n",
       "      <td>other</td>\n",
       "      <td>Sheilas Cottage (Mares) Maiden Hurdle</td>\n",
       "      <td>3200</td>\n",
       "      <td>other</td>\n",
       "      <td>5</td>\n",
       "      <td>Hurdle</td>\n",
       "      <td>Handicap</td>\n",
       "      <td>11568.0</td>\n",
       "      <td>...</td>\n",
       "      <td>4</td>\n",
       "      <td>150</td>\n",
       "      <td>t</td>\n",
       "      <td>79.0</td>\n",
       "      <td>Bob Back (USA)</td>\n",
       "      <td>Guest Cailin (IRE)</td>\n",
       "      <td>Be My Guest</td>\n",
       "      <td>Mid-division 8th approaching 3 out - 6th after...</td>\n",
       "      <td>0</td>\n",
       "      <td>0.0</td>\n",
       "    </tr>\n",
       "  </tbody>\n",
       "</table>\n",
       "<p>2 rows × 24 columns</p>\n",
       "</div>"
      ],
      "text/plain": [
       "         race_ID       Date course                              race_name  \\\n",
       "0  RID1169-IE-05 2005-06-02  other  Sheilas Cottage (Mares) Maiden Hurdle   \n",
       "1  RID1169-IE-05 2005-06-02  other  Sheilas Cottage (Mares) Maiden Hurdle   \n",
       "\n",
       "   Distance_covered Track_condition  season race_group race_type  Race_Money  \\\n",
       "0              3200           other       5     Hurdle  Handicap     11568.0   \n",
       "1              3200           other       5     Hurdle  Handicap     11568.0   \n",
       "\n",
       "   ... age Weight Gear  Top_speed                sire                  dam  \\\n",
       "0  ...   5    157    t       93.0  Desert Style (IRE)  Lough N Uisce (IRE)   \n",
       "1  ...   4    150    t       79.0      Bob Back (USA)   Guest Cailin (IRE)   \n",
       "\n",
       "        damsire                                            comment Winner  \\\n",
       "0  Boyne Valley  Held up - progress into mid-division halfway -...      0   \n",
       "1   Be My Guest  Mid-division 8th approaching 3 out - 6th after...      0   \n",
       "\n",
       "  prize_money  \n",
       "0       852.0  \n",
       "1         0.0  \n",
       "\n",
       "[2 rows x 24 columns]"
      ]
     },
     "execution_count": 34,
     "metadata": {},
     "output_type": "execute_result"
    }
   ],
   "source": [
    "final_df.head(2)"
   ]
  },
  {
   "cell_type": "code",
   "execution_count": null,
   "id": "12e46b2a",
   "metadata": {},
   "outputs": [],
   "source": [
    "final_df[final_df.duplicated(keep=First)]"
   ]
  },
  {
   "cell_type": "code",
   "execution_count": 38,
   "id": "49c6db85",
   "metadata": {},
   "outputs": [
    {
     "data": {
      "text/plain": [
       "0         False\n",
       "1         False\n",
       "2         False\n",
       "3         False\n",
       "4         False\n",
       "          ...  \n",
       "140434    False\n",
       "140435    False\n",
       "140436    False\n",
       "140437    False\n",
       "140438    False\n",
       "Length: 140439, dtype: bool"
      ]
     },
     "execution_count": 38,
     "metadata": {},
     "output_type": "execute_result"
    }
   ],
   "source": [
    "final_df.duplicated()"
   ]
  },
  {
   "cell_type": "code",
   "execution_count": 35,
   "id": "be31222e",
   "metadata": {
    "scrolled": false
   },
   "outputs": [
    {
     "data": {
      "text/plain": [
       "race_ID                     object\n",
       "Date                datetime64[ns]\n",
       "course                      object\n",
       "race_name                   object\n",
       "Distance_covered             int64\n",
       "Track_condition             object\n",
       "season                       int64\n",
       "race_group                  object\n",
       "race_type                   object\n",
       "Race_Money                 float64\n",
       "horse_name                  object\n",
       "Trainer                     object\n",
       "Jockey                      object\n",
       "Track_position             float64\n",
       "age                          int64\n",
       "Weight                       int64\n",
       "Gear                        object\n",
       "Top_speed                  float64\n",
       "sire                        object\n",
       "dam                         object\n",
       "damsire                     object\n",
       "comment                     object\n",
       "Winner                       int64\n",
       "prize_money                float64\n",
       "dtype: object"
      ]
     },
     "execution_count": 35,
     "metadata": {},
     "output_type": "execute_result"
    }
   ],
   "source": [
    "final_df.dtypes"
   ]
  },
  {
   "cell_type": "code",
   "execution_count": 36,
   "id": "df133103",
   "metadata": {},
   "outputs": [],
   "source": [
    "# Data for creating sql database\n",
    "final_df.to_csv('horse_databases.csv', index=False)"
   ]
  },
  {
   "cell_type": "code",
   "execution_count": 37,
   "id": "1974a713",
   "metadata": {},
   "outputs": [
    {
     "data": {
      "text/plain": [
       "race_ID                     object\n",
       "Date                datetime64[ns]\n",
       "course                      object\n",
       "race_name                   object\n",
       "Distance_covered             int64\n",
       "Track_condition             object\n",
       "season                       int64\n",
       "race_group                  object\n",
       "race_type                   object\n",
       "Race_Money                 float64\n",
       "horse_name                  object\n",
       "Trainer                     object\n",
       "Jockey                      object\n",
       "Track_position             float64\n",
       "age                          int64\n",
       "Weight                       int64\n",
       "Gear                        object\n",
       "Top_speed                  float64\n",
       "sire                        object\n",
       "dam                         object\n",
       "damsire                     object\n",
       "comment                     object\n",
       "Winner                       int64\n",
       "prize_money                float64\n",
       "dtype: object"
      ]
     },
     "execution_count": 37,
     "metadata": {},
     "output_type": "execute_result"
    }
   ],
   "source": [
    "final_df.dtypes\n"
   ]
  },
  {
   "cell_type": "code",
   "execution_count": null,
   "id": "24686522",
   "metadata": {},
   "outputs": [],
   "source": []
  }
 ],
 "metadata": {
  "colab": {
   "name": "p4.ipynb",
   "provenance": []
  },
  "kernelspec": {
   "display_name": "Python 3 (ipykernel)",
   "language": "python",
   "name": "python3"
  },
  "language_info": {
   "codemirror_mode": {
    "name": "ipython",
    "version": 3
   },
   "file_extension": ".py",
   "mimetype": "text/x-python",
   "name": "python",
   "nbconvert_exporter": "python",
   "pygments_lexer": "ipython3",
   "version": "3.8.10"
  }
 },
 "nbformat": 4,
 "nbformat_minor": 5
}

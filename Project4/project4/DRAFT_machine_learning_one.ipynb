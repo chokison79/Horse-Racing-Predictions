{
 "cells": [
  {
   "cell_type": "markdown",
   "id": "205e0a12",
   "metadata": {},
   "source": [
    "# Machine Learning Data Processing"
   ]
  },
  {
   "cell_type": "code",
   "execution_count": 91,
   "id": "bf428cc0",
   "metadata": {
    "id": "bf428cc0"
   },
   "outputs": [],
   "source": [
    "# ! pip install keras_tuner\n",
    "import pandas as pd\n",
    "import numpy as np\n",
    "from sklearn.linear_model import LogisticRegression\n",
    "from matplotlib import pyplot as plt\n",
    "import seaborn as sns\n",
    "from sklearn.preprocessing import StandardScaler, MinMaxScaler, LabelEncoder\n",
    "from sklearn.model_selection import train_test_split\n",
    "from sklearn.tree import DecisionTreeClassifier, plot_tree\n",
    "from sklearn import metrics\n",
    "from sklearn import preprocessing\n",
    "from sklearn.ensemble import RandomForestClassifier\n",
    "import warnings\n",
    "warnings.filterwarnings('ignore')\n",
    "from sklearn.pipeline import Pipeline\n",
    "from sklearn.model_selection import cross_validate\n",
    "from sklearn.metrics import f1_score\n",
    "import datetime"
   ]
  },
  {
   "cell_type": "code",
   "execution_count": 93,
   "id": "46a63c78",
   "metadata": {
    "colab": {
     "base_uri": "https://localhost:8080/"
    },
    "id": "46a63c78",
    "outputId": "3b6bb655-3a1a-44aa-fea2-0a6916ba6d6a",
    "scrolled": true
   },
   "outputs": [
    {
     "data": {
      "text/html": [
       "<div>\n",
       "<style scoped>\n",
       "    .dataframe tbody tr th:only-of-type {\n",
       "        vertical-align: middle;\n",
       "    }\n",
       "\n",
       "    .dataframe tbody tr th {\n",
       "        vertical-align: top;\n",
       "    }\n",
       "\n",
       "    .dataframe thead th {\n",
       "        text-align: right;\n",
       "    }\n",
       "</style>\n",
       "<table border=\"1\" class=\"dataframe\">\n",
       "  <thead>\n",
       "    <tr style=\"text-align: right;\">\n",
       "      <th></th>\n",
       "      <th>race_ID</th>\n",
       "      <th>Date</th>\n",
       "      <th>course</th>\n",
       "      <th>race_name</th>\n",
       "      <th>Distance_covered</th>\n",
       "      <th>Track_condition</th>\n",
       "      <th>season</th>\n",
       "      <th>race_group</th>\n",
       "      <th>race_type</th>\n",
       "      <th>Race_Money</th>\n",
       "      <th>...</th>\n",
       "      <th>age</th>\n",
       "      <th>Weight</th>\n",
       "      <th>Gear</th>\n",
       "      <th>Top_speed</th>\n",
       "      <th>sire</th>\n",
       "      <th>dam</th>\n",
       "      <th>damsire</th>\n",
       "      <th>comment</th>\n",
       "      <th>Winner</th>\n",
       "      <th>prize_money</th>\n",
       "    </tr>\n",
       "  </thead>\n",
       "  <tbody>\n",
       "    <tr>\n",
       "      <th>0</th>\n",
       "      <td>RID1169-IE-05</td>\n",
       "      <td>2005-06-02</td>\n",
       "      <td>other</td>\n",
       "      <td>Sheilas Cottage (Mares) Maiden Hurdle</td>\n",
       "      <td>3200</td>\n",
       "      <td>other</td>\n",
       "      <td>5</td>\n",
       "      <td>Hurdle</td>\n",
       "      <td>Handicap</td>\n",
       "      <td>11568.0</td>\n",
       "      <td>...</td>\n",
       "      <td>5</td>\n",
       "      <td>157</td>\n",
       "      <td>t</td>\n",
       "      <td>93.0</td>\n",
       "      <td>Desert Style (IRE)</td>\n",
       "      <td>Lough N Uisce (IRE)</td>\n",
       "      <td>Boyne Valley</td>\n",
       "      <td>Held up - progress into mid-division halfway -...</td>\n",
       "      <td>0</td>\n",
       "      <td>852.0</td>\n",
       "    </tr>\n",
       "    <tr>\n",
       "      <th>1</th>\n",
       "      <td>RID1169-IE-05</td>\n",
       "      <td>2005-06-02</td>\n",
       "      <td>other</td>\n",
       "      <td>Sheilas Cottage (Mares) Maiden Hurdle</td>\n",
       "      <td>3200</td>\n",
       "      <td>other</td>\n",
       "      <td>5</td>\n",
       "      <td>Hurdle</td>\n",
       "      <td>Handicap</td>\n",
       "      <td>11568.0</td>\n",
       "      <td>...</td>\n",
       "      <td>4</td>\n",
       "      <td>150</td>\n",
       "      <td>t</td>\n",
       "      <td>79.0</td>\n",
       "      <td>Bob Back (USA)</td>\n",
       "      <td>Guest Cailin (IRE)</td>\n",
       "      <td>Be My Guest</td>\n",
       "      <td>Mid-division 8th approaching 3 out - 6th after...</td>\n",
       "      <td>0</td>\n",
       "      <td>0.0</td>\n",
       "    </tr>\n",
       "  </tbody>\n",
       "</table>\n",
       "<p>2 rows × 24 columns</p>\n",
       "</div>"
      ],
      "text/plain": [
       "         race_ID        Date course                              race_name  \\\n",
       "0  RID1169-IE-05  2005-06-02  other  Sheilas Cottage (Mares) Maiden Hurdle   \n",
       "1  RID1169-IE-05  2005-06-02  other  Sheilas Cottage (Mares) Maiden Hurdle   \n",
       "\n",
       "   Distance_covered Track_condition  season race_group race_type  Race_Money  \\\n",
       "0              3200           other       5     Hurdle  Handicap     11568.0   \n",
       "1              3200           other       5     Hurdle  Handicap     11568.0   \n",
       "\n",
       "   ... age Weight Gear  Top_speed                sire                  dam  \\\n",
       "0  ...   5    157    t       93.0  Desert Style (IRE)  Lough N Uisce (IRE)   \n",
       "1  ...   4    150    t       79.0      Bob Back (USA)   Guest Cailin (IRE)   \n",
       "\n",
       "        damsire                                            comment Winner  \\\n",
       "0  Boyne Valley  Held up - progress into mid-division halfway -...      0   \n",
       "1   Be My Guest  Mid-division 8th approaching 3 out - 6th after...      0   \n",
       "\n",
       "  prize_money  \n",
       "0       852.0  \n",
       "1         0.0  \n",
       "\n",
       "[2 rows x 24 columns]"
      ]
     },
     "execution_count": 93,
     "metadata": {},
     "output_type": "execute_result"
    }
   ],
   "source": [
    "f = './Resources/horse_databases.csv'\n",
    "new_df = pd.read_csv(f)\n",
    "new_df.head(2)"
   ]
  },
  {
   "cell_type": "code",
   "execution_count": null,
   "id": "2a66ce90",
   "metadata": {},
   "outputs": [],
   "source": [
    "# Drop features or data that will not contribute most to the prediction variable\n"
   ]
  },
  {
   "cell_type": "code",
   "execution_count": 72,
   "id": "Wp73vNMU6sFY",
   "metadata": {
    "colab": {
     "base_uri": "https://localhost:8080/"
    },
    "id": "Wp73vNMU6sFY",
    "outputId": "a341f575-0e8f-4041-9040-9f3493eecf5d"
   },
   "outputs": [
    {
     "data": {
      "text/plain": [
       "(140461, 18)"
      ]
     },
     "execution_count": 72,
     "metadata": {},
     "output_type": "execute_result"
    }
   ],
   "source": [
    "new_df.shape"
   ]
  },
  {
   "cell_type": "code",
   "execution_count": 74,
   "id": "f8b30c20",
   "metadata": {},
   "outputs": [
    {
     "data": {
      "text/html": [
       "<div>\n",
       "<style scoped>\n",
       "    .dataframe tbody tr th:only-of-type {\n",
       "        vertical-align: middle;\n",
       "    }\n",
       "\n",
       "    .dataframe tbody tr th {\n",
       "        vertical-align: top;\n",
       "    }\n",
       "\n",
       "    .dataframe thead th {\n",
       "        text-align: right;\n",
       "    }\n",
       "</style>\n",
       "<table border=\"1\" class=\"dataframe\">\n",
       "  <thead>\n",
       "    <tr style=\"text-align: right;\">\n",
       "      <th></th>\n",
       "      <th>Date</th>\n",
       "      <th>course</th>\n",
       "      <th>band</th>\n",
       "      <th>Distance</th>\n",
       "      <th>Track_condition</th>\n",
       "      <th>season</th>\n",
       "      <th>race_group</th>\n",
       "      <th>race_type</th>\n",
       "      <th>Race_Money</th>\n",
       "      <th>trainer</th>\n",
       "      <th>jockey</th>\n",
       "      <th>Track_position</th>\n",
       "      <th>age</th>\n",
       "      <th>Weight</th>\n",
       "      <th>gear</th>\n",
       "      <th>Top_speed</th>\n",
       "      <th>Winner</th>\n",
       "      <th>prize_money</th>\n",
       "    </tr>\n",
       "  </thead>\n",
       "  <tbody>\n",
       "    <tr>\n",
       "      <th>0</th>\n",
       "      <td>2005-06-02</td>\n",
       "      <td>other</td>\n",
       "      <td>other</td>\n",
       "      <td>3200</td>\n",
       "      <td>other</td>\n",
       "      <td>5</td>\n",
       "      <td>Hurdle</td>\n",
       "      <td>Handicap</td>\n",
       "      <td>11568.0</td>\n",
       "      <td>other</td>\n",
       "      <td>other</td>\n",
       "      <td>3.0</td>\n",
       "      <td>5</td>\n",
       "      <td>157</td>\n",
       "      <td>t</td>\n",
       "      <td>93.0</td>\n",
       "      <td>0</td>\n",
       "      <td>852.0</td>\n",
       "    </tr>\n",
       "    <tr>\n",
       "      <th>1</th>\n",
       "      <td>2005-06-02</td>\n",
       "      <td>other</td>\n",
       "      <td>other</td>\n",
       "      <td>3200</td>\n",
       "      <td>other</td>\n",
       "      <td>5</td>\n",
       "      <td>Hurdle</td>\n",
       "      <td>Handicap</td>\n",
       "      <td>11568.0</td>\n",
       "      <td>other</td>\n",
       "      <td>other</td>\n",
       "      <td>5.0</td>\n",
       "      <td>4</td>\n",
       "      <td>150</td>\n",
       "      <td>t</td>\n",
       "      <td>79.0</td>\n",
       "      <td>0</td>\n",
       "      <td>0.0</td>\n",
       "    </tr>\n",
       "  </tbody>\n",
       "</table>\n",
       "</div>"
      ],
      "text/plain": [
       "        Date course   band  Distance Track_condition  season race_group  \\\n",
       "0 2005-06-02  other  other      3200           other       5     Hurdle   \n",
       "1 2005-06-02  other  other      3200           other       5     Hurdle   \n",
       "\n",
       "  race_type  Race_Money trainer jockey  Track_position  age  Weight gear  \\\n",
       "0  Handicap     11568.0   other  other             3.0    5     157    t   \n",
       "1  Handicap     11568.0   other  other             5.0    4     150    t   \n",
       "\n",
       "   Top_speed  Winner  prize_money  \n",
       "0       93.0       0        852.0  \n",
       "1       79.0       0          0.0  "
      ]
     },
     "execution_count": 74,
     "metadata": {},
     "output_type": "execute_result"
    }
   ],
   "source": [
    "new_df['Date']= pd.to_datetime(new_df['Date'])\n",
    "new_df.head(2)"
   ]
  },
  {
   "cell_type": "code",
   "execution_count": 75,
   "id": "23cf1771",
   "metadata": {
    "scrolled": true
   },
   "outputs": [
    {
     "data": {
      "text/plain": [
       "Date               datetime64[ns]\n",
       "course                     object\n",
       "band                       object\n",
       "Distance                    int64\n",
       "Track_condition            object\n",
       "season                      int64\n",
       "race_group                 object\n",
       "race_type                  object\n",
       "Race_Money                float64\n",
       "trainer                    object\n",
       "jockey                     object\n",
       "Track_position            float64\n",
       "age                         int64\n",
       "Weight                      int64\n",
       "gear                       object\n",
       "Top_speed                 float64\n",
       "Winner                      int64\n",
       "prize_money               float64\n",
       "dtype: object"
      ]
     },
     "execution_count": 75,
     "metadata": {},
     "output_type": "execute_result"
    }
   ],
   "source": [
    "new_df.dtypes"
   ]
  },
  {
   "cell_type": "code",
   "execution_count": 76,
   "id": "9930f77c",
   "metadata": {
    "scrolled": true
   },
   "outputs": [
    {
     "data": {
      "text/html": [
       "<div>\n",
       "<style scoped>\n",
       "    .dataframe tbody tr th:only-of-type {\n",
       "        vertical-align: middle;\n",
       "    }\n",
       "\n",
       "    .dataframe tbody tr th {\n",
       "        vertical-align: top;\n",
       "    }\n",
       "\n",
       "    .dataframe thead th {\n",
       "        text-align: right;\n",
       "    }\n",
       "</style>\n",
       "<table border=\"1\" class=\"dataframe\">\n",
       "  <thead>\n",
       "    <tr style=\"text-align: right;\">\n",
       "      <th></th>\n",
       "      <th>course</th>\n",
       "      <th>band</th>\n",
       "      <th>Distance</th>\n",
       "      <th>Track_condition</th>\n",
       "      <th>season</th>\n",
       "      <th>race_group</th>\n",
       "      <th>race_type</th>\n",
       "      <th>Race_Money</th>\n",
       "      <th>trainer</th>\n",
       "      <th>jockey</th>\n",
       "      <th>Track_position</th>\n",
       "      <th>age</th>\n",
       "      <th>Weight</th>\n",
       "      <th>gear</th>\n",
       "      <th>Top_speed</th>\n",
       "      <th>Winner</th>\n",
       "      <th>prize_money</th>\n",
       "    </tr>\n",
       "    <tr>\n",
       "      <th>Date</th>\n",
       "      <th></th>\n",
       "      <th></th>\n",
       "      <th></th>\n",
       "      <th></th>\n",
       "      <th></th>\n",
       "      <th></th>\n",
       "      <th></th>\n",
       "      <th></th>\n",
       "      <th></th>\n",
       "      <th></th>\n",
       "      <th></th>\n",
       "      <th></th>\n",
       "      <th></th>\n",
       "      <th></th>\n",
       "      <th></th>\n",
       "      <th></th>\n",
       "      <th></th>\n",
       "    </tr>\n",
       "  </thead>\n",
       "  <tbody>\n",
       "    <tr>\n",
       "      <th>2005-06-02</th>\n",
       "      <td>other</td>\n",
       "      <td>other</td>\n",
       "      <td>3200</td>\n",
       "      <td>other</td>\n",
       "      <td>5</td>\n",
       "      <td>Hurdle</td>\n",
       "      <td>Handicap</td>\n",
       "      <td>11568.0</td>\n",
       "      <td>other</td>\n",
       "      <td>other</td>\n",
       "      <td>3.0</td>\n",
       "      <td>5</td>\n",
       "      <td>157</td>\n",
       "      <td>t</td>\n",
       "      <td>93.0</td>\n",
       "      <td>0</td>\n",
       "      <td>852.0</td>\n",
       "    </tr>\n",
       "    <tr>\n",
       "      <th>2005-06-02</th>\n",
       "      <td>other</td>\n",
       "      <td>other</td>\n",
       "      <td>3200</td>\n",
       "      <td>other</td>\n",
       "      <td>5</td>\n",
       "      <td>Hurdle</td>\n",
       "      <td>Handicap</td>\n",
       "      <td>11568.0</td>\n",
       "      <td>other</td>\n",
       "      <td>other</td>\n",
       "      <td>5.0</td>\n",
       "      <td>4</td>\n",
       "      <td>150</td>\n",
       "      <td>t</td>\n",
       "      <td>79.0</td>\n",
       "      <td>0</td>\n",
       "      <td>0.0</td>\n",
       "    </tr>\n",
       "  </tbody>\n",
       "</table>\n",
       "</div>"
      ],
      "text/plain": [
       "           course   band  Distance Track_condition  season race_group  \\\n",
       "Date                                                                    \n",
       "2005-06-02  other  other      3200           other       5     Hurdle   \n",
       "2005-06-02  other  other      3200           other       5     Hurdle   \n",
       "\n",
       "           race_type  Race_Money trainer jockey  Track_position  age  Weight  \\\n",
       "Date                                                                           \n",
       "2005-06-02  Handicap     11568.0   other  other             3.0    5     157   \n",
       "2005-06-02  Handicap     11568.0   other  other             5.0    4     150   \n",
       "\n",
       "           gear  Top_speed  Winner  prize_money  \n",
       "Date                                             \n",
       "2005-06-02    t       93.0       0        852.0  \n",
       "2005-06-02    t       79.0       0          0.0  "
      ]
     },
     "execution_count": 76,
     "metadata": {},
     "output_type": "execute_result"
    }
   ],
   "source": [
    "new_df.set_index('Date').head(2)"
   ]
  },
  {
   "cell_type": "code",
   "execution_count": 77,
   "id": "57eae291",
   "metadata": {
    "scrolled": false
   },
   "outputs": [
    {
     "data": {
      "text/html": [
       "<div>\n",
       "<style scoped>\n",
       "    .dataframe tbody tr th:only-of-type {\n",
       "        vertical-align: middle;\n",
       "    }\n",
       "\n",
       "    .dataframe tbody tr th {\n",
       "        vertical-align: top;\n",
       "    }\n",
       "\n",
       "    .dataframe thead th {\n",
       "        text-align: right;\n",
       "    }\n",
       "</style>\n",
       "<table border=\"1\" class=\"dataframe\">\n",
       "  <thead>\n",
       "    <tr style=\"text-align: right;\">\n",
       "      <th></th>\n",
       "      <th>Date</th>\n",
       "      <th>course</th>\n",
       "      <th>band</th>\n",
       "      <th>Distance</th>\n",
       "      <th>Track_condition</th>\n",
       "      <th>season</th>\n",
       "      <th>race_group</th>\n",
       "      <th>race_type</th>\n",
       "      <th>Race_Money</th>\n",
       "      <th>trainer</th>\n",
       "      <th>jockey</th>\n",
       "      <th>Track_position</th>\n",
       "      <th>age</th>\n",
       "      <th>Weight</th>\n",
       "      <th>gear</th>\n",
       "      <th>Top_speed</th>\n",
       "      <th>Winner</th>\n",
       "      <th>prize_money</th>\n",
       "    </tr>\n",
       "  </thead>\n",
       "  <tbody>\n",
       "    <tr>\n",
       "      <th>0</th>\n",
       "      <td>2005-06-02</td>\n",
       "      <td>other</td>\n",
       "      <td>other</td>\n",
       "      <td>3200</td>\n",
       "      <td>other</td>\n",
       "      <td>5</td>\n",
       "      <td>Hurdle</td>\n",
       "      <td>Handicap</td>\n",
       "      <td>11568.0</td>\n",
       "      <td>other</td>\n",
       "      <td>other</td>\n",
       "      <td>3.0</td>\n",
       "      <td>5</td>\n",
       "      <td>157</td>\n",
       "      <td>t</td>\n",
       "      <td>93.0</td>\n",
       "      <td>0</td>\n",
       "      <td>852.0</td>\n",
       "    </tr>\n",
       "    <tr>\n",
       "      <th>1</th>\n",
       "      <td>2005-06-02</td>\n",
       "      <td>other</td>\n",
       "      <td>other</td>\n",
       "      <td>3200</td>\n",
       "      <td>other</td>\n",
       "      <td>5</td>\n",
       "      <td>Hurdle</td>\n",
       "      <td>Handicap</td>\n",
       "      <td>11568.0</td>\n",
       "      <td>other</td>\n",
       "      <td>other</td>\n",
       "      <td>5.0</td>\n",
       "      <td>4</td>\n",
       "      <td>150</td>\n",
       "      <td>t</td>\n",
       "      <td>79.0</td>\n",
       "      <td>0</td>\n",
       "      <td>0.0</td>\n",
       "    </tr>\n",
       "  </tbody>\n",
       "</table>\n",
       "</div>"
      ],
      "text/plain": [
       "        Date course   band  Distance Track_condition  season race_group  \\\n",
       "0 2005-06-02  other  other      3200           other       5     Hurdle   \n",
       "1 2005-06-02  other  other      3200           other       5     Hurdle   \n",
       "\n",
       "  race_type  Race_Money trainer jockey  Track_position  age  Weight gear  \\\n",
       "0  Handicap     11568.0   other  other             3.0    5     157    t   \n",
       "1  Handicap     11568.0   other  other             5.0    4     150    t   \n",
       "\n",
       "   Top_speed  Winner  prize_money  \n",
       "0       93.0       0        852.0  \n",
       "1       79.0       0          0.0  "
      ]
     },
     "execution_count": 77,
     "metadata": {},
     "output_type": "execute_result"
    }
   ],
   "source": [
    "model_df = new_df.iloc[0:120000, :]\n",
    "model_df.head(2)"
   ]
  },
  {
   "cell_type": "code",
   "execution_count": 78,
   "id": "3ca8893f",
   "metadata": {
    "scrolled": true
   },
   "outputs": [
    {
     "data": {
      "text/html": [
       "<div>\n",
       "<style scoped>\n",
       "    .dataframe tbody tr th:only-of-type {\n",
       "        vertical-align: middle;\n",
       "    }\n",
       "\n",
       "    .dataframe tbody tr th {\n",
       "        vertical-align: top;\n",
       "    }\n",
       "\n",
       "    .dataframe thead th {\n",
       "        text-align: right;\n",
       "    }\n",
       "</style>\n",
       "<table border=\"1\" class=\"dataframe\">\n",
       "  <thead>\n",
       "    <tr style=\"text-align: right;\">\n",
       "      <th></th>\n",
       "      <th>course</th>\n",
       "      <th>band</th>\n",
       "      <th>Distance</th>\n",
       "      <th>Track_condition</th>\n",
       "      <th>season</th>\n",
       "      <th>race_group</th>\n",
       "      <th>race_type</th>\n",
       "      <th>Race_Money</th>\n",
       "      <th>trainer</th>\n",
       "      <th>jockey</th>\n",
       "      <th>Track_position</th>\n",
       "      <th>age</th>\n",
       "      <th>Weight</th>\n",
       "      <th>gear</th>\n",
       "      <th>Top_speed</th>\n",
       "      <th>Winner</th>\n",
       "      <th>prize_money</th>\n",
       "    </tr>\n",
       "  </thead>\n",
       "  <tbody>\n",
       "    <tr>\n",
       "      <th>0</th>\n",
       "      <td>other</td>\n",
       "      <td>other</td>\n",
       "      <td>3200</td>\n",
       "      <td>other</td>\n",
       "      <td>5</td>\n",
       "      <td>Hurdle</td>\n",
       "      <td>Handicap</td>\n",
       "      <td>11568.0</td>\n",
       "      <td>other</td>\n",
       "      <td>other</td>\n",
       "      <td>3.0</td>\n",
       "      <td>5</td>\n",
       "      <td>157</td>\n",
       "      <td>t</td>\n",
       "      <td>93.0</td>\n",
       "      <td>0</td>\n",
       "      <td>852.0</td>\n",
       "    </tr>\n",
       "    <tr>\n",
       "      <th>1</th>\n",
       "      <td>other</td>\n",
       "      <td>other</td>\n",
       "      <td>3200</td>\n",
       "      <td>other</td>\n",
       "      <td>5</td>\n",
       "      <td>Hurdle</td>\n",
       "      <td>Handicap</td>\n",
       "      <td>11568.0</td>\n",
       "      <td>other</td>\n",
       "      <td>other</td>\n",
       "      <td>5.0</td>\n",
       "      <td>4</td>\n",
       "      <td>150</td>\n",
       "      <td>t</td>\n",
       "      <td>79.0</td>\n",
       "      <td>0</td>\n",
       "      <td>0.0</td>\n",
       "    </tr>\n",
       "  </tbody>\n",
       "</table>\n",
       "</div>"
      ],
      "text/plain": [
       "  course   band  Distance Track_condition  season race_group race_type  \\\n",
       "0  other  other      3200           other       5     Hurdle  Handicap   \n",
       "1  other  other      3200           other       5     Hurdle  Handicap   \n",
       "\n",
       "   Race_Money trainer jockey  Track_position  age  Weight gear  Top_speed  \\\n",
       "0     11568.0   other  other             3.0    5     157    t       93.0   \n",
       "1     11568.0   other  other             5.0    4     150    t       79.0   \n",
       "\n",
       "   Winner  prize_money  \n",
       "0       0        852.0  \n",
       "1       0          0.0  "
      ]
     },
     "execution_count": 78,
     "metadata": {},
     "output_type": "execute_result"
    }
   ],
   "source": [
    "cleaned_df = model_df.drop(['Date'], axis=1)\n",
    "\n",
    "cleaned_df.head(2)"
   ]
  },
  {
   "cell_type": "code",
   "execution_count": 79,
   "id": "55dc8151",
   "metadata": {
    "scrolled": true
   },
   "outputs": [
    {
     "data": {
      "text/html": [
       "<div>\n",
       "<style scoped>\n",
       "    .dataframe tbody tr th:only-of-type {\n",
       "        vertical-align: middle;\n",
       "    }\n",
       "\n",
       "    .dataframe tbody tr th {\n",
       "        vertical-align: top;\n",
       "    }\n",
       "\n",
       "    .dataframe thead th {\n",
       "        text-align: right;\n",
       "    }\n",
       "</style>\n",
       "<table border=\"1\" class=\"dataframe\">\n",
       "  <thead>\n",
       "    <tr style=\"text-align: right;\">\n",
       "      <th></th>\n",
       "      <th>course</th>\n",
       "      <th>band</th>\n",
       "      <th>Distance</th>\n",
       "      <th>Track_condition</th>\n",
       "      <th>season</th>\n",
       "      <th>race_group</th>\n",
       "      <th>race_type</th>\n",
       "      <th>Race_Money</th>\n",
       "      <th>trainer</th>\n",
       "      <th>jockey</th>\n",
       "      <th>Track_position</th>\n",
       "      <th>age</th>\n",
       "      <th>Weight</th>\n",
       "      <th>gear</th>\n",
       "      <th>Top_speed</th>\n",
       "      <th>Winner</th>\n",
       "      <th>prize_money</th>\n",
       "    </tr>\n",
       "  </thead>\n",
       "  <tbody>\n",
       "    <tr>\n",
       "      <th>3</th>\n",
       "      <td>other</td>\n",
       "      <td>other</td>\n",
       "      <td>3200</td>\n",
       "      <td>other</td>\n",
       "      <td>5</td>\n",
       "      <td>Hurdle</td>\n",
       "      <td>Handicap</td>\n",
       "      <td>12532.0</td>\n",
       "      <td>other</td>\n",
       "      <td>other</td>\n",
       "      <td>1.0</td>\n",
       "      <td>4</td>\n",
       "      <td>161</td>\n",
       "      <td>t</td>\n",
       "      <td>33.0</td>\n",
       "      <td>1</td>\n",
       "      <td>8983.0</td>\n",
       "    </tr>\n",
       "    <tr>\n",
       "      <th>11</th>\n",
       "      <td>other</td>\n",
       "      <td>4yo+</td>\n",
       "      <td>4000</td>\n",
       "      <td>Soft</td>\n",
       "      <td>5</td>\n",
       "      <td>Hurdle</td>\n",
       "      <td>Handicap</td>\n",
       "      <td>14460.0</td>\n",
       "      <td>other</td>\n",
       "      <td>other</td>\n",
       "      <td>1.0</td>\n",
       "      <td>4</td>\n",
       "      <td>156</td>\n",
       "      <td>b</td>\n",
       "      <td>83.0</td>\n",
       "      <td>1</td>\n",
       "      <td>10365.0</td>\n",
       "    </tr>\n",
       "  </tbody>\n",
       "</table>\n",
       "</div>"
      ],
      "text/plain": [
       "   course   band  Distance Track_condition  season race_group race_type  \\\n",
       "3   other  other      3200           other       5     Hurdle  Handicap   \n",
       "11  other   4yo+      4000            Soft       5     Hurdle  Handicap   \n",
       "\n",
       "    Race_Money trainer jockey  Track_position  age  Weight gear  Top_speed  \\\n",
       "3      12532.0   other  other             1.0    4     161    t       33.0   \n",
       "11     14460.0   other  other             1.0    4     156    b       83.0   \n",
       "\n",
       "    Winner  prize_money  \n",
       "3        1       8983.0  \n",
       "11       1      10365.0  "
      ]
     },
     "execution_count": 79,
     "metadata": {},
     "output_type": "execute_result"
    }
   ],
   "source": [
    "cleaned_positive = cleaned_df[cleaned_df['Winner']==1]\n",
    "cleaned_positive.head(2)"
   ]
  },
  {
   "cell_type": "code",
   "execution_count": 80,
   "id": "7461d686",
   "metadata": {
    "scrolled": true
   },
   "outputs": [
    {
     "data": {
      "text/html": [
       "<div>\n",
       "<style scoped>\n",
       "    .dataframe tbody tr th:only-of-type {\n",
       "        vertical-align: middle;\n",
       "    }\n",
       "\n",
       "    .dataframe tbody tr th {\n",
       "        vertical-align: top;\n",
       "    }\n",
       "\n",
       "    .dataframe thead th {\n",
       "        text-align: right;\n",
       "    }\n",
       "</style>\n",
       "<table border=\"1\" class=\"dataframe\">\n",
       "  <thead>\n",
       "    <tr style=\"text-align: right;\">\n",
       "      <th></th>\n",
       "      <th>course</th>\n",
       "      <th>band</th>\n",
       "      <th>Distance</th>\n",
       "      <th>Track_condition</th>\n",
       "      <th>season</th>\n",
       "      <th>race_group</th>\n",
       "      <th>race_type</th>\n",
       "      <th>Race_Money</th>\n",
       "      <th>trainer</th>\n",
       "      <th>jockey</th>\n",
       "      <th>Track_position</th>\n",
       "      <th>age</th>\n",
       "      <th>Weight</th>\n",
       "      <th>gear</th>\n",
       "      <th>Top_speed</th>\n",
       "      <th>Winner</th>\n",
       "      <th>prize_money</th>\n",
       "    </tr>\n",
       "  </thead>\n",
       "  <tbody>\n",
       "    <tr>\n",
       "      <th>49374</th>\n",
       "      <td>other</td>\n",
       "      <td>4yo+</td>\n",
       "      <td>4700</td>\n",
       "      <td>Soft</td>\n",
       "      <td>6</td>\n",
       "      <td>Hurdle</td>\n",
       "      <td>Handicap</td>\n",
       "      <td>9512.272727</td>\n",
       "      <td>other</td>\n",
       "      <td>Tom Scudamore</td>\n",
       "      <td>9.0</td>\n",
       "      <td>8</td>\n",
       "      <td>146</td>\n",
       "      <td>other</td>\n",
       "      <td>58.0</td>\n",
       "      <td>0</td>\n",
       "      <td>0.0</td>\n",
       "    </tr>\n",
       "    <tr>\n",
       "      <th>100727</th>\n",
       "      <td>other</td>\n",
       "      <td>other</td>\n",
       "      <td>4000</td>\n",
       "      <td>Good</td>\n",
       "      <td>14</td>\n",
       "      <td>Hurdle</td>\n",
       "      <td>Handicap</td>\n",
       "      <td>6707.045455</td>\n",
       "      <td>other</td>\n",
       "      <td>other</td>\n",
       "      <td>6.0</td>\n",
       "      <td>4</td>\n",
       "      <td>156</td>\n",
       "      <td>tp</td>\n",
       "      <td>88.0</td>\n",
       "      <td>0</td>\n",
       "      <td>0.0</td>\n",
       "    </tr>\n",
       "  </tbody>\n",
       "</table>\n",
       "</div>"
      ],
      "text/plain": [
       "       course   band  Distance Track_condition  season race_group race_type  \\\n",
       "49374   other   4yo+      4700            Soft       6     Hurdle  Handicap   \n",
       "100727  other  other      4000            Good      14     Hurdle  Handicap   \n",
       "\n",
       "         Race_Money trainer         jockey  Track_position  age  Weight  \\\n",
       "49374   9512.272727   other  Tom Scudamore             9.0    8     146   \n",
       "100727  6707.045455   other          other             6.0    4     156   \n",
       "\n",
       "         gear  Top_speed  Winner  prize_money  \n",
       "49374   other       58.0       0          0.0  \n",
       "100727     tp       88.0       0          0.0  "
      ]
     },
     "execution_count": 80,
     "metadata": {},
     "output_type": "execute_result"
    }
   ],
   "source": [
    "cleaned_neg = cleaned_df[cleaned_df['Winner']==0].sample(n=len(cleaned_positive))\n",
    "cleaned_neg.head(2)"
   ]
  },
  {
   "cell_type": "code",
   "execution_count": 81,
   "id": "8b9ef910",
   "metadata": {
    "scrolled": true
   },
   "outputs": [
    {
     "data": {
      "text/html": [
       "<div>\n",
       "<style scoped>\n",
       "    .dataframe tbody tr th:only-of-type {\n",
       "        vertical-align: middle;\n",
       "    }\n",
       "\n",
       "    .dataframe tbody tr th {\n",
       "        vertical-align: top;\n",
       "    }\n",
       "\n",
       "    .dataframe thead th {\n",
       "        text-align: right;\n",
       "    }\n",
       "</style>\n",
       "<table border=\"1\" class=\"dataframe\">\n",
       "  <thead>\n",
       "    <tr style=\"text-align: right;\">\n",
       "      <th></th>\n",
       "      <th>course</th>\n",
       "      <th>band</th>\n",
       "      <th>Distance</th>\n",
       "      <th>Track_condition</th>\n",
       "      <th>season</th>\n",
       "      <th>race_group</th>\n",
       "      <th>race_type</th>\n",
       "      <th>Race_Money</th>\n",
       "      <th>trainer</th>\n",
       "      <th>jockey</th>\n",
       "      <th>Track_position</th>\n",
       "      <th>age</th>\n",
       "      <th>Weight</th>\n",
       "      <th>gear</th>\n",
       "      <th>Top_speed</th>\n",
       "      <th>Winner</th>\n",
       "      <th>prize_money</th>\n",
       "    </tr>\n",
       "  </thead>\n",
       "  <tbody>\n",
       "    <tr>\n",
       "      <th>3</th>\n",
       "      <td>other</td>\n",
       "      <td>other</td>\n",
       "      <td>3200</td>\n",
       "      <td>other</td>\n",
       "      <td>5</td>\n",
       "      <td>Hurdle</td>\n",
       "      <td>Handicap</td>\n",
       "      <td>12532.0</td>\n",
       "      <td>other</td>\n",
       "      <td>other</td>\n",
       "      <td>1.0</td>\n",
       "      <td>4</td>\n",
       "      <td>161</td>\n",
       "      <td>t</td>\n",
       "      <td>33.0</td>\n",
       "      <td>1</td>\n",
       "      <td>8983.0</td>\n",
       "    </tr>\n",
       "    <tr>\n",
       "      <th>11</th>\n",
       "      <td>other</td>\n",
       "      <td>4yo+</td>\n",
       "      <td>4000</td>\n",
       "      <td>Soft</td>\n",
       "      <td>5</td>\n",
       "      <td>Hurdle</td>\n",
       "      <td>Handicap</td>\n",
       "      <td>14460.0</td>\n",
       "      <td>other</td>\n",
       "      <td>other</td>\n",
       "      <td>1.0</td>\n",
       "      <td>4</td>\n",
       "      <td>156</td>\n",
       "      <td>b</td>\n",
       "      <td>83.0</td>\n",
       "      <td>1</td>\n",
       "      <td>10365.0</td>\n",
       "    </tr>\n",
       "  </tbody>\n",
       "</table>\n",
       "</div>"
      ],
      "text/plain": [
       "   course   band  Distance Track_condition  season race_group race_type  \\\n",
       "3   other  other      3200           other       5     Hurdle  Handicap   \n",
       "11  other   4yo+      4000            Soft       5     Hurdle  Handicap   \n",
       "\n",
       "    Race_Money trainer jockey  Track_position  age  Weight gear  Top_speed  \\\n",
       "3      12532.0   other  other             1.0    4     161    t       33.0   \n",
       "11     14460.0   other  other             1.0    4     156    b       83.0   \n",
       "\n",
       "    Winner  prize_money  \n",
       "3        1       8983.0  \n",
       "11       1      10365.0  "
      ]
     },
     "execution_count": 81,
     "metadata": {},
     "output_type": "execute_result"
    }
   ],
   "source": [
    "clean_df = pd.concat([cleaned_positive,cleaned_neg], axis=0)\n",
    "clean_df.head(2)"
   ]
  },
  {
   "cell_type": "code",
   "execution_count": 19,
   "id": "e4397b2d",
   "metadata": {},
   "outputs": [],
   "source": [
    "clean_df.to_csv('database_data.csv', index=False)"
   ]
  },
  {
   "cell_type": "code",
   "execution_count": 20,
   "id": "e17a30cb",
   "metadata": {},
   "outputs": [
    {
     "data": {
      "text/plain": [
       "(31280, 17)"
      ]
     },
     "execution_count": 20,
     "metadata": {},
     "output_type": "execute_result"
    }
   ],
   "source": [
    "clean_df.shape"
   ]
  },
  {
   "cell_type": "code",
   "execution_count": 21,
   "id": "a9cee040",
   "metadata": {},
   "outputs": [],
   "source": [
    "# Assign X as dataframe of the features and y as a series of the outcome variable\n",
    "X = clean_df.drop(\"Winner\", 1) \n",
    "y = clean_df.Winner # target"
   ]
  },
  {
   "cell_type": "code",
   "execution_count": 22,
   "id": "9a576246",
   "metadata": {},
   "outputs": [
    {
     "data": {
      "text/plain": [
       "(31280, 16)"
      ]
     },
     "execution_count": 22,
     "metadata": {},
     "output_type": "execute_result"
    }
   ],
   "source": [
    "X.shape"
   ]
  },
  {
   "cell_type": "code",
   "execution_count": 23,
   "id": "acb6a591",
   "metadata": {},
   "outputs": [
    {
     "data": {
      "text/plain": [
       "3     1\n",
       "11    1\n",
       "Name: Winner, dtype: int64"
      ]
     },
     "execution_count": 23,
     "metadata": {},
     "output_type": "execute_result"
    }
   ],
   "source": [
    "y.head(2)"
   ]
  },
  {
   "cell_type": "code",
   "execution_count": 24,
   "id": "iVqIpPi19-uD",
   "metadata": {
    "colab": {
     "base_uri": "https://localhost:8080/",
     "height": 147
    },
    "id": "iVqIpPi19-uD",
    "outputId": "53a18d17-5688-43ac-9303-2654bdb64d69"
   },
   "outputs": [
    {
     "data": {
      "text/plain": [
       "(31280, 16)"
      ]
     },
     "execution_count": 24,
     "metadata": {},
     "output_type": "execute_result"
    }
   ],
   "source": [
    "X.shape"
   ]
  },
  {
   "cell_type": "code",
   "execution_count": 25,
   "id": "Iw00go849-08",
   "metadata": {
    "colab": {
     "base_uri": "https://localhost:8080/"
    },
    "id": "Iw00go849-08",
    "outputId": "62743baf-79d0-4c8a-957a-9fcd8c5743d2"
   },
   "outputs": [
    {
     "data": {
      "text/plain": [
       "(31280,)"
      ]
     },
     "execution_count": 25,
     "metadata": {},
     "output_type": "execute_result"
    }
   ],
   "source": [
    "y.shape"
   ]
  },
  {
   "cell_type": "code",
   "execution_count": null,
   "id": "2219d50d",
   "metadata": {},
   "outputs": [],
   "source": []
  },
  {
   "cell_type": "code",
   "execution_count": 26,
   "id": "304ff93c",
   "metadata": {
    "scrolled": false
   },
   "outputs": [
    {
     "data": {
      "text/html": [
       "<div>\n",
       "<style scoped>\n",
       "    .dataframe tbody tr th:only-of-type {\n",
       "        vertical-align: middle;\n",
       "    }\n",
       "\n",
       "    .dataframe tbody tr th {\n",
       "        vertical-align: top;\n",
       "    }\n",
       "\n",
       "    .dataframe thead th {\n",
       "        text-align: right;\n",
       "    }\n",
       "</style>\n",
       "<table border=\"1\" class=\"dataframe\">\n",
       "  <thead>\n",
       "    <tr style=\"text-align: right;\">\n",
       "      <th></th>\n",
       "      <th>course</th>\n",
       "      <th>band</th>\n",
       "      <th>Distance</th>\n",
       "      <th>Track_condition</th>\n",
       "      <th>season</th>\n",
       "      <th>race_group</th>\n",
       "      <th>race_type</th>\n",
       "      <th>Race_Money</th>\n",
       "      <th>trainer</th>\n",
       "      <th>jockey</th>\n",
       "      <th>Track_position</th>\n",
       "      <th>age</th>\n",
       "      <th>Weight</th>\n",
       "      <th>gear</th>\n",
       "      <th>Top_speed</th>\n",
       "      <th>prize_money</th>\n",
       "    </tr>\n",
       "  </thead>\n",
       "  <tbody>\n",
       "    <tr>\n",
       "      <th>3</th>\n",
       "      <td>other</td>\n",
       "      <td>other</td>\n",
       "      <td>3200</td>\n",
       "      <td>other</td>\n",
       "      <td>5</td>\n",
       "      <td>Hurdle</td>\n",
       "      <td>Handicap</td>\n",
       "      <td>12532.0</td>\n",
       "      <td>other</td>\n",
       "      <td>other</td>\n",
       "      <td>1.0</td>\n",
       "      <td>4</td>\n",
       "      <td>161</td>\n",
       "      <td>t</td>\n",
       "      <td>33.0</td>\n",
       "      <td>8983.0</td>\n",
       "    </tr>\n",
       "    <tr>\n",
       "      <th>11</th>\n",
       "      <td>other</td>\n",
       "      <td>4yo+</td>\n",
       "      <td>4000</td>\n",
       "      <td>Soft</td>\n",
       "      <td>5</td>\n",
       "      <td>Hurdle</td>\n",
       "      <td>Handicap</td>\n",
       "      <td>14460.0</td>\n",
       "      <td>other</td>\n",
       "      <td>other</td>\n",
       "      <td>1.0</td>\n",
       "      <td>4</td>\n",
       "      <td>156</td>\n",
       "      <td>b</td>\n",
       "      <td>83.0</td>\n",
       "      <td>10365.0</td>\n",
       "    </tr>\n",
       "  </tbody>\n",
       "</table>\n",
       "</div>"
      ],
      "text/plain": [
       "   course   band  Distance Track_condition  season race_group race_type  \\\n",
       "3   other  other      3200           other       5     Hurdle  Handicap   \n",
       "11  other   4yo+      4000            Soft       5     Hurdle  Handicap   \n",
       "\n",
       "    Race_Money trainer jockey  Track_position  age  Weight gear  Top_speed  \\\n",
       "3      12532.0   other  other             1.0    4     161    t       33.0   \n",
       "11     14460.0   other  other             1.0    4     156    b       83.0   \n",
       "\n",
       "    prize_money  \n",
       "3        8983.0  \n",
       "11      10365.0  "
      ]
     },
     "execution_count": 26,
     "metadata": {},
     "output_type": "execute_result"
    }
   ],
   "source": [
    "X.head(2)"
   ]
  },
  {
   "cell_type": "code",
   "execution_count": 27,
   "id": "7499ba6d",
   "metadata": {},
   "outputs": [
    {
     "data": {
      "text/plain": [
       "16"
      ]
     },
     "execution_count": 27,
     "metadata": {},
     "output_type": "execute_result"
    }
   ],
   "source": [
    "len(X.columns)"
   ]
  },
  {
   "cell_type": "code",
   "execution_count": 28,
   "id": "58882dc4",
   "metadata": {},
   "outputs": [],
   "source": [
    "X_= X.drop(['band','season'],axis=1)"
   ]
  },
  {
   "cell_type": "code",
   "execution_count": 66,
   "id": "83e3e3c5",
   "metadata": {
    "scrolled": true
   },
   "outputs": [
    {
     "data": {
      "text/html": [
       "<div>\n",
       "<style scoped>\n",
       "    .dataframe tbody tr th:only-of-type {\n",
       "        vertical-align: middle;\n",
       "    }\n",
       "\n",
       "    .dataframe tbody tr th {\n",
       "        vertical-align: top;\n",
       "    }\n",
       "\n",
       "    .dataframe thead th {\n",
       "        text-align: right;\n",
       "    }\n",
       "</style>\n",
       "<table border=\"1\" class=\"dataframe\">\n",
       "  <thead>\n",
       "    <tr style=\"text-align: right;\">\n",
       "      <th></th>\n",
       "      <th>course</th>\n",
       "      <th>Distance</th>\n",
       "      <th>Track_condition</th>\n",
       "      <th>race_group</th>\n",
       "      <th>race_type</th>\n",
       "      <th>Race_Money</th>\n",
       "      <th>trainer</th>\n",
       "      <th>jockey</th>\n",
       "      <th>Track_position</th>\n",
       "      <th>age</th>\n",
       "      <th>Weight</th>\n",
       "      <th>gear</th>\n",
       "      <th>Top_speed</th>\n",
       "      <th>prize_money</th>\n",
       "    </tr>\n",
       "  </thead>\n",
       "  <tbody>\n",
       "    <tr>\n",
       "      <th>3</th>\n",
       "      <td>other</td>\n",
       "      <td>3200</td>\n",
       "      <td>other</td>\n",
       "      <td>Hurdle</td>\n",
       "      <td>Handicap</td>\n",
       "      <td>12532.0</td>\n",
       "      <td>other</td>\n",
       "      <td>other</td>\n",
       "      <td>1.0</td>\n",
       "      <td>4</td>\n",
       "      <td>161</td>\n",
       "      <td>t</td>\n",
       "      <td>33.0</td>\n",
       "      <td>8983.0</td>\n",
       "    </tr>\n",
       "    <tr>\n",
       "      <th>11</th>\n",
       "      <td>other</td>\n",
       "      <td>4000</td>\n",
       "      <td>Soft</td>\n",
       "      <td>Hurdle</td>\n",
       "      <td>Handicap</td>\n",
       "      <td>14460.0</td>\n",
       "      <td>other</td>\n",
       "      <td>other</td>\n",
       "      <td>1.0</td>\n",
       "      <td>4</td>\n",
       "      <td>156</td>\n",
       "      <td>b</td>\n",
       "      <td>83.0</td>\n",
       "      <td>10365.0</td>\n",
       "    </tr>\n",
       "  </tbody>\n",
       "</table>\n",
       "</div>"
      ],
      "text/plain": [
       "   course  Distance Track_condition race_group race_type  Race_Money trainer  \\\n",
       "3   other      3200           other     Hurdle  Handicap     12532.0   other   \n",
       "11  other      4000            Soft     Hurdle  Handicap     14460.0   other   \n",
       "\n",
       "   jockey  Track_position  age  Weight gear  Top_speed  prize_money  \n",
       "3   other             1.0    4     161    t       33.0       8983.0  \n",
       "11  other             1.0    4     156    b       83.0      10365.0  "
      ]
     },
     "execution_count": 66,
     "metadata": {},
     "output_type": "execute_result"
    }
   ],
   "source": [
    "X_.head(2)"
   ]
  },
  {
   "cell_type": "code",
   "execution_count": null,
   "id": "f5804323",
   "metadata": {},
   "outputs": [],
   "source": [
    "X_df = X.drop(['race_ID', 'class','time','dist.f.','Month', 'Year', 'Period', 'Runners','fin_time', 'dec','weight','dec_clean','sire', 'dam', 'damsire', 'comment','race_name','btn','sp','or','rpr','horse_name','exp_chance','prob'],axis=1)\n",
    "X_df.head(2)"
   ]
  },
  {
   "cell_type": "code",
   "execution_count": null,
   "id": "07020152",
   "metadata": {},
   "outputs": [],
   "source": []
  },
  {
   "cell_type": "code",
   "execution_count": 68,
   "id": "912b8041",
   "metadata": {},
   "outputs": [
    {
     "data": {
      "text/plain": [
       "course              object\n",
       "Distance             int64\n",
       "Track_condition     object\n",
       "race_group          object\n",
       "race_type           object\n",
       "Race_Money         float64\n",
       "trainer             object\n",
       "jockey              object\n",
       "Track_position     float64\n",
       "age                  int64\n",
       "Weight               int64\n",
       "gear                object\n",
       "Top_speed          float64\n",
       "prize_money        float64\n",
       "dtype: object"
      ]
     },
     "execution_count": 68,
     "metadata": {},
     "output_type": "execute_result"
    }
   ],
   "source": [
    "X_.dtypes"
   ]
  },
  {
   "cell_type": "code",
   "execution_count": 30,
   "id": "30040e03",
   "metadata": {},
   "outputs": [
    {
     "name": "stdout",
     "output_type": "stream",
     "text": [
      "Feature 'course' has 5 unique categories\n",
      "Feature 'Track_condition' has 4 unique categories\n",
      "Feature 'race_group' has 4 unique categories\n",
      "Feature 'race_type' has 2 unique categories\n",
      "Feature 'trainer' has 3 unique categories\n",
      "Feature 'jockey' has 3 unique categories\n",
      "Feature 'gear' has 5 unique categories\n"
     ]
    }
   ],
   "source": [
    "# Print object variable column\n",
    "# Print object variable column\n",
    "for col_name in X_.columns:\n",
    "    if X_[col_name].dtypes == 'object':\n",
    "        unique_cat = len(X_[col_name].unique())\n",
    "        print(\"Feature '{col_name}' has {unique_cat} unique categories\".format(col_name=col_name, unique_cat=unique_cat))"
   ]
  },
  {
   "cell_type": "code",
   "execution_count": null,
   "id": "0d1fa791",
   "metadata": {},
   "outputs": [],
   "source": []
  },
  {
   "cell_type": "code",
   "execution_count": 31,
   "id": "451c0b7d",
   "metadata": {},
   "outputs": [
    {
     "data": {
      "text/plain": [
       "array([1, 1, 1, ..., 0, 0, 0], dtype=int64)"
      ]
     },
     "execution_count": 31,
     "metadata": {},
     "output_type": "execute_result"
    }
   ],
   "source": [
    "# assign labels denoted by y to our train and test data sets\n",
    "y_label = LabelEncoder().fit_transform(clean_df[\"Winner\"])\n",
    "y_label"
   ]
  },
  {
   "cell_type": "code",
   "execution_count": 32,
   "id": "d0374fac",
   "metadata": {},
   "outputs": [
    {
     "data": {
      "text/plain": [
       "<AxesSubplot:>"
      ]
     },
     "execution_count": 32,
     "metadata": {},
     "output_type": "execute_result"
    },
    {
     "data": {
      "image/png": "[encoded data removed]",
      "text/plain": [
       "<Figure size 432x288 with 1 Axes>"
      ]
     },
     "metadata": {
      "needs_background": "light"
     },
     "output_type": "display_data"
    }
   ],
   "source": [
    "clean_df[\"Winner\"].value_counts().plot(kind=\"bar\")"
   ]
  },
  {
   "cell_type": "code",
   "execution_count": 33,
   "id": "07008813",
   "metadata": {
    "scrolled": false
   },
   "outputs": [
    {
     "data": {
      "text/html": [
       "<div>\n",
       "<style scoped>\n",
       "    .dataframe tbody tr th:only-of-type {\n",
       "        vertical-align: middle;\n",
       "    }\n",
       "\n",
       "    .dataframe tbody tr th {\n",
       "        vertical-align: top;\n",
       "    }\n",
       "\n",
       "    .dataframe thead th {\n",
       "        text-align: right;\n",
       "    }\n",
       "</style>\n",
       "<table border=\"1\" class=\"dataframe\">\n",
       "  <thead>\n",
       "    <tr style=\"text-align: right;\">\n",
       "      <th></th>\n",
       "      <th>Distance</th>\n",
       "      <th>Race_Money</th>\n",
       "      <th>Track_position</th>\n",
       "      <th>age</th>\n",
       "      <th>Weight</th>\n",
       "      <th>Top_speed</th>\n",
       "      <th>prize_money</th>\n",
       "      <th>course_Fontwell</th>\n",
       "      <th>course_Uttoxeter</th>\n",
       "      <th>course_Worcester</th>\n",
       "      <th>...</th>\n",
       "      <th>race_group_Unknown</th>\n",
       "      <th>race_type_Handicap</th>\n",
       "      <th>trainer_Gordon Elliott</th>\n",
       "      <th>trainer_other</th>\n",
       "      <th>jockey_Tom Scudamore</th>\n",
       "      <th>jockey_other</th>\n",
       "      <th>gear_other</th>\n",
       "      <th>gear_p</th>\n",
       "      <th>gear_t</th>\n",
       "      <th>gear_tp</th>\n",
       "    </tr>\n",
       "  </thead>\n",
       "  <tbody>\n",
       "    <tr>\n",
       "      <th>3</th>\n",
       "      <td>3200</td>\n",
       "      <td>12532.0</td>\n",
       "      <td>1.0</td>\n",
       "      <td>4</td>\n",
       "      <td>161</td>\n",
       "      <td>33.0</td>\n",
       "      <td>8983.0</td>\n",
       "      <td>0</td>\n",
       "      <td>0</td>\n",
       "      <td>0</td>\n",
       "      <td>...</td>\n",
       "      <td>0</td>\n",
       "      <td>1</td>\n",
       "      <td>0</td>\n",
       "      <td>1</td>\n",
       "      <td>0</td>\n",
       "      <td>1</td>\n",
       "      <td>0</td>\n",
       "      <td>0</td>\n",
       "      <td>1</td>\n",
       "      <td>0</td>\n",
       "    </tr>\n",
       "    <tr>\n",
       "      <th>11</th>\n",
       "      <td>4000</td>\n",
       "      <td>14460.0</td>\n",
       "      <td>1.0</td>\n",
       "      <td>4</td>\n",
       "      <td>156</td>\n",
       "      <td>83.0</td>\n",
       "      <td>10365.0</td>\n",
       "      <td>0</td>\n",
       "      <td>0</td>\n",
       "      <td>0</td>\n",
       "      <td>...</td>\n",
       "      <td>0</td>\n",
       "      <td>1</td>\n",
       "      <td>0</td>\n",
       "      <td>1</td>\n",
       "      <td>0</td>\n",
       "      <td>1</td>\n",
       "      <td>0</td>\n",
       "      <td>0</td>\n",
       "      <td>0</td>\n",
       "      <td>0</td>\n",
       "    </tr>\n",
       "  </tbody>\n",
       "</table>\n",
       "<p>2 rows × 26 columns</p>\n",
       "</div>"
      ],
      "text/plain": [
       "    Distance  Race_Money  Track_position  age  Weight  Top_speed  prize_money  \\\n",
       "3       3200     12532.0             1.0    4     161       33.0       8983.0   \n",
       "11      4000     14460.0             1.0    4     156       83.0      10365.0   \n",
       "\n",
       "    course_Fontwell  course_Uttoxeter  course_Worcester  ...  \\\n",
       "3                 0                 0                 0  ...   \n",
       "11                0                 0                 0  ...   \n",
       "\n",
       "    race_group_Unknown  race_type_Handicap  trainer_Gordon Elliott  \\\n",
       "3                    0                   1                       0   \n",
       "11                   0                   1                       0   \n",
       "\n",
       "    trainer_other  jockey_Tom Scudamore  jockey_other  gear_other  gear_p  \\\n",
       "3               1                     0             1           0       0   \n",
       "11              1                     0             1           0       0   \n",
       "\n",
       "    gear_t  gear_tp  \n",
       "3        1        0  \n",
       "11       0        0  \n",
       "\n",
       "[2 rows x 26 columns]"
      ]
     },
     "execution_count": 33,
     "metadata": {},
     "output_type": "execute_result"
    }
   ],
   "source": [
    "# get_dummies for train data\n",
    "X_dum = pd.get_dummies((X_), drop_first=True)\n",
    "X_dum.head(2)"
   ]
  },
  {
   "cell_type": "code",
   "execution_count": 34,
   "id": "3be1b3ad",
   "metadata": {},
   "outputs": [
    {
     "data": {
      "text/plain": [
       "Index(['Distance', 'Race_Money', 'Track_position', 'age', 'Weight',\n",
       "       'Top_speed', 'prize_money', 'course_Fontwell', 'course_Uttoxeter',\n",
       "       'course_Worcester', 'course_other', 'Track_condition_Good To Soft',\n",
       "       'Track_condition_Soft', 'Track_condition_other', 'race_group_Chase',\n",
       "       'race_group_Hurdle', 'race_group_Unknown', 'race_type_Handicap',\n",
       "       'trainer_Gordon Elliott', 'trainer_other', 'jockey_Tom Scudamore',\n",
       "       'jockey_other', 'gear_other', 'gear_p', 'gear_t', 'gear_tp'],\n",
       "      dtype='object')"
      ]
     },
     "execution_count": 34,
     "metadata": {},
     "output_type": "execute_result"
    }
   ],
   "source": [
    "X_dum.columns"
   ]
  },
  {
   "cell_type": "code",
   "execution_count": 35,
   "id": "4c796957",
   "metadata": {},
   "outputs": [
    {
     "data": {
      "text/plain": [
       "Distance                          43\n",
       "Race_Money                      2022\n",
       "Track_position                    26\n",
       "age                               14\n",
       "Weight                            49\n",
       "Top_speed                        172\n",
       "prize_money                     3547\n",
       "course_Fontwell                    2\n",
       "course_Uttoxeter                   2\n",
       "course_Worcester                   2\n",
       "course_other                       2\n",
       "Track_condition_Good To Soft       2\n",
       "Track_condition_Soft               2\n",
       "Track_condition_other              2\n",
       "race_group_Chase                   2\n",
       "race_group_Hurdle                  2\n",
       "race_group_Unknown                 2\n",
       "race_type_Handicap                 2\n",
       "trainer_Gordon Elliott             2\n",
       "trainer_other                      2\n",
       "jockey_Tom Scudamore               2\n",
       "jockey_other                       2\n",
       "gear_other                         2\n",
       "gear_p                             2\n",
       "gear_t                             2\n",
       "gear_tp                            2\n",
       "dtype: int64"
      ]
     },
     "execution_count": 35,
     "metadata": {},
     "output_type": "execute_result"
    }
   ],
   "source": [
    "X_dum.nunique()"
   ]
  },
  {
   "cell_type": "markdown",
   "id": "f7f3172c",
   "metadata": {},
   "source": [
    "# Machine Learning Model"
   ]
  },
  {
   "cell_type": "code",
   "execution_count": 36,
   "id": "7abf79cc",
   "metadata": {
    "scrolled": false
   },
   "outputs": [
    {
     "data": {
      "text/html": [
       "<div>\n",
       "<style scoped>\n",
       "    .dataframe tbody tr th:only-of-type {\n",
       "        vertical-align: middle;\n",
       "    }\n",
       "\n",
       "    .dataframe tbody tr th {\n",
       "        vertical-align: top;\n",
       "    }\n",
       "\n",
       "    .dataframe thead th {\n",
       "        text-align: right;\n",
       "    }\n",
       "</style>\n",
       "<table border=\"1\" class=\"dataframe\">\n",
       "  <thead>\n",
       "    <tr style=\"text-align: right;\">\n",
       "      <th></th>\n",
       "      <th>Distance</th>\n",
       "      <th>Race_Money</th>\n",
       "      <th>Track_position</th>\n",
       "      <th>age</th>\n",
       "      <th>Weight</th>\n",
       "      <th>Top_speed</th>\n",
       "      <th>prize_money</th>\n",
       "      <th>course_Fontwell</th>\n",
       "      <th>course_Uttoxeter</th>\n",
       "      <th>course_Worcester</th>\n",
       "      <th>...</th>\n",
       "      <th>race_group_Unknown</th>\n",
       "      <th>race_type_Handicap</th>\n",
       "      <th>trainer_Gordon Elliott</th>\n",
       "      <th>trainer_other</th>\n",
       "      <th>jockey_Tom Scudamore</th>\n",
       "      <th>jockey_other</th>\n",
       "      <th>gear_other</th>\n",
       "      <th>gear_p</th>\n",
       "      <th>gear_t</th>\n",
       "      <th>gear_tp</th>\n",
       "    </tr>\n",
       "  </thead>\n",
       "  <tbody>\n",
       "    <tr>\n",
       "      <th>3</th>\n",
       "      <td>3200</td>\n",
       "      <td>12532.0</td>\n",
       "      <td>1.0</td>\n",
       "      <td>4</td>\n",
       "      <td>161</td>\n",
       "      <td>33.0</td>\n",
       "      <td>8983.0</td>\n",
       "      <td>0</td>\n",
       "      <td>0</td>\n",
       "      <td>0</td>\n",
       "      <td>...</td>\n",
       "      <td>0</td>\n",
       "      <td>1</td>\n",
       "      <td>0</td>\n",
       "      <td>1</td>\n",
       "      <td>0</td>\n",
       "      <td>1</td>\n",
       "      <td>0</td>\n",
       "      <td>0</td>\n",
       "      <td>1</td>\n",
       "      <td>0</td>\n",
       "    </tr>\n",
       "    <tr>\n",
       "      <th>11</th>\n",
       "      <td>4000</td>\n",
       "      <td>14460.0</td>\n",
       "      <td>1.0</td>\n",
       "      <td>4</td>\n",
       "      <td>156</td>\n",
       "      <td>83.0</td>\n",
       "      <td>10365.0</td>\n",
       "      <td>0</td>\n",
       "      <td>0</td>\n",
       "      <td>0</td>\n",
       "      <td>...</td>\n",
       "      <td>0</td>\n",
       "      <td>1</td>\n",
       "      <td>0</td>\n",
       "      <td>1</td>\n",
       "      <td>0</td>\n",
       "      <td>1</td>\n",
       "      <td>0</td>\n",
       "      <td>0</td>\n",
       "      <td>0</td>\n",
       "      <td>0</td>\n",
       "    </tr>\n",
       "  </tbody>\n",
       "</table>\n",
       "<p>2 rows × 26 columns</p>\n",
       "</div>"
      ],
      "text/plain": [
       "    Distance  Race_Money  Track_position  age  Weight  Top_speed  prize_money  \\\n",
       "3       3200     12532.0             1.0    4     161       33.0       8983.0   \n",
       "11      4000     14460.0             1.0    4     156       83.0      10365.0   \n",
       "\n",
       "    course_Fontwell  course_Uttoxeter  course_Worcester  ...  \\\n",
       "3                 0                 0                 0  ...   \n",
       "11                0                 0                 0  ...   \n",
       "\n",
       "    race_group_Unknown  race_type_Handicap  trainer_Gordon Elliott  \\\n",
       "3                    0                   1                       0   \n",
       "11                   0                   1                       0   \n",
       "\n",
       "    trainer_other  jockey_Tom Scudamore  jockey_other  gear_other  gear_p  \\\n",
       "3               1                     0             1           0       0   \n",
       "11              1                     0             1           0       0   \n",
       "\n",
       "    gear_t  gear_tp  \n",
       "3        1        0  \n",
       "11       0        0  \n",
       "\n",
       "[2 rows x 26 columns]"
      ]
     },
     "execution_count": 36,
     "metadata": {},
     "output_type": "execute_result"
    }
   ],
   "source": [
    "X_dum.head(2)"
   ]
  },
  {
   "cell_type": "code",
   "execution_count": null,
   "id": "49d52739",
   "metadata": {},
   "outputs": [],
   "source": []
  },
  {
   "cell_type": "code",
   "execution_count": 37,
   "id": "fdeb1ca2",
   "metadata": {},
   "outputs": [
    {
     "name": "stdout",
     "output_type": "stream",
     "text": [
      "Class=1, n=15640 (50.0%)\n",
      "Class=0, n=15640 (50.0%)\n"
     ]
    }
   ],
   "source": [
    "from collections import Counter\n",
    "counter = Counter(y)\n",
    "for k, v in counter.items():\n",
    "  dist = v/ len(y)*100\n",
    "  print(f\"Class={k}, n={v} ({dist}%)\")"
   ]
  },
  {
   "cell_type": "code",
   "execution_count": 38,
   "id": "0c7a88e8",
   "metadata": {
    "scrolled": true
   },
   "outputs": [
    {
     "data": {
      "text/plain": [
       "<BarContainer object of 2 artists>"
      ]
     },
     "execution_count": 38,
     "metadata": {},
     "output_type": "execute_result"
    },
    {
     "data": {
      "image/png": "[encoded data removed]",
      "text/plain": [
       "<Figure size 1008x432 with 1 Axes>"
      ]
     },
     "metadata": {
      "needs_background": "light"
     },
     "output_type": "display_data"
    }
   ],
   "source": [
    "plt.figure(1, figsize=(14,6))\n",
    "plt.bar(counter.keys(),counter.values())"
   ]
  },
  {
   "cell_type": "code",
   "execution_count": 39,
   "id": "6623bedc",
   "metadata": {},
   "outputs": [
    {
     "data": {
      "text/plain": [
       "array([1, 1, 1, ..., 0, 0, 0], dtype=int64)"
      ]
     },
     "execution_count": 39,
     "metadata": {},
     "output_type": "execute_result"
    }
   ],
   "source": [
    "y_label"
   ]
  },
  {
   "cell_type": "code",
   "execution_count": null,
   "id": "4d04b707",
   "metadata": {},
   "outputs": [],
   "source": []
  },
  {
   "cell_type": "code",
   "execution_count": 40,
   "id": "1afb2cd4",
   "metadata": {
    "scrolled": true
   },
   "outputs": [
    {
     "data": {
      "text/html": [
       "<div>\n",
       "<style scoped>\n",
       "    .dataframe tbody tr th:only-of-type {\n",
       "        vertical-align: middle;\n",
       "    }\n",
       "\n",
       "    .dataframe tbody tr th {\n",
       "        vertical-align: top;\n",
       "    }\n",
       "\n",
       "    .dataframe thead th {\n",
       "        text-align: right;\n",
       "    }\n",
       "</style>\n",
       "<table border=\"1\" class=\"dataframe\">\n",
       "  <thead>\n",
       "    <tr style=\"text-align: right;\">\n",
       "      <th></th>\n",
       "      <th>Distance</th>\n",
       "      <th>Race_Money</th>\n",
       "      <th>Track_position</th>\n",
       "      <th>age</th>\n",
       "      <th>Weight</th>\n",
       "      <th>Top_speed</th>\n",
       "      <th>prize_money</th>\n",
       "      <th>course_Fontwell</th>\n",
       "      <th>course_Uttoxeter</th>\n",
       "      <th>course_Worcester</th>\n",
       "      <th>...</th>\n",
       "      <th>race_group_Unknown</th>\n",
       "      <th>race_type_Handicap</th>\n",
       "      <th>trainer_Gordon Elliott</th>\n",
       "      <th>trainer_other</th>\n",
       "      <th>jockey_Tom Scudamore</th>\n",
       "      <th>jockey_other</th>\n",
       "      <th>gear_other</th>\n",
       "      <th>gear_p</th>\n",
       "      <th>gear_t</th>\n",
       "      <th>gear_tp</th>\n",
       "    </tr>\n",
       "  </thead>\n",
       "  <tbody>\n",
       "    <tr>\n",
       "      <th>3</th>\n",
       "      <td>3200</td>\n",
       "      <td>12532.0</td>\n",
       "      <td>1.0</td>\n",
       "      <td>4</td>\n",
       "      <td>161</td>\n",
       "      <td>33.0</td>\n",
       "      <td>8983.0</td>\n",
       "      <td>0</td>\n",
       "      <td>0</td>\n",
       "      <td>0</td>\n",
       "      <td>...</td>\n",
       "      <td>0</td>\n",
       "      <td>1</td>\n",
       "      <td>0</td>\n",
       "      <td>1</td>\n",
       "      <td>0</td>\n",
       "      <td>1</td>\n",
       "      <td>0</td>\n",
       "      <td>0</td>\n",
       "      <td>1</td>\n",
       "      <td>0</td>\n",
       "    </tr>\n",
       "    <tr>\n",
       "      <th>11</th>\n",
       "      <td>4000</td>\n",
       "      <td>14460.0</td>\n",
       "      <td>1.0</td>\n",
       "      <td>4</td>\n",
       "      <td>156</td>\n",
       "      <td>83.0</td>\n",
       "      <td>10365.0</td>\n",
       "      <td>0</td>\n",
       "      <td>0</td>\n",
       "      <td>0</td>\n",
       "      <td>...</td>\n",
       "      <td>0</td>\n",
       "      <td>1</td>\n",
       "      <td>0</td>\n",
       "      <td>1</td>\n",
       "      <td>0</td>\n",
       "      <td>1</td>\n",
       "      <td>0</td>\n",
       "      <td>0</td>\n",
       "      <td>0</td>\n",
       "      <td>0</td>\n",
       "    </tr>\n",
       "    <tr>\n",
       "      <th>19</th>\n",
       "      <td>3200</td>\n",
       "      <td>12050.0</td>\n",
       "      <td>1.0</td>\n",
       "      <td>8</td>\n",
       "      <td>150</td>\n",
       "      <td>45.0</td>\n",
       "      <td>8637.5</td>\n",
       "      <td>0</td>\n",
       "      <td>0</td>\n",
       "      <td>0</td>\n",
       "      <td>...</td>\n",
       "      <td>0</td>\n",
       "      <td>1</td>\n",
       "      <td>0</td>\n",
       "      <td>1</td>\n",
       "      <td>0</td>\n",
       "      <td>1</td>\n",
       "      <td>0</td>\n",
       "      <td>0</td>\n",
       "      <td>0</td>\n",
       "      <td>0</td>\n",
       "    </tr>\n",
       "    <tr>\n",
       "      <th>24</th>\n",
       "      <td>4000</td>\n",
       "      <td>12050.0</td>\n",
       "      <td>1.0</td>\n",
       "      <td>6</td>\n",
       "      <td>145</td>\n",
       "      <td>44.0</td>\n",
       "      <td>8637.5</td>\n",
       "      <td>0</td>\n",
       "      <td>0</td>\n",
       "      <td>0</td>\n",
       "      <td>...</td>\n",
       "      <td>0</td>\n",
       "      <td>1</td>\n",
       "      <td>0</td>\n",
       "      <td>1</td>\n",
       "      <td>0</td>\n",
       "      <td>1</td>\n",
       "      <td>0</td>\n",
       "      <td>0</td>\n",
       "      <td>1</td>\n",
       "      <td>0</td>\n",
       "    </tr>\n",
       "    <tr>\n",
       "      <th>29</th>\n",
       "      <td>4600</td>\n",
       "      <td>7712.0</td>\n",
       "      <td>1.0</td>\n",
       "      <td>9</td>\n",
       "      <td>154</td>\n",
       "      <td>103.0</td>\n",
       "      <td>5528.0</td>\n",
       "      <td>0</td>\n",
       "      <td>0</td>\n",
       "      <td>0</td>\n",
       "      <td>...</td>\n",
       "      <td>0</td>\n",
       "      <td>0</td>\n",
       "      <td>0</td>\n",
       "      <td>1</td>\n",
       "      <td>0</td>\n",
       "      <td>1</td>\n",
       "      <td>0</td>\n",
       "      <td>0</td>\n",
       "      <td>1</td>\n",
       "      <td>0</td>\n",
       "    </tr>\n",
       "    <tr>\n",
       "      <th>31</th>\n",
       "      <td>3200</td>\n",
       "      <td>11568.0</td>\n",
       "      <td>1.0</td>\n",
       "      <td>6</td>\n",
       "      <td>163</td>\n",
       "      <td>78.0</td>\n",
       "      <td>8292.0</td>\n",
       "      <td>0</td>\n",
       "      <td>0</td>\n",
       "      <td>0</td>\n",
       "      <td>...</td>\n",
       "      <td>0</td>\n",
       "      <td>1</td>\n",
       "      <td>0</td>\n",
       "      <td>1</td>\n",
       "      <td>0</td>\n",
       "      <td>1</td>\n",
       "      <td>0</td>\n",
       "      <td>0</td>\n",
       "      <td>1</td>\n",
       "      <td>0</td>\n",
       "    </tr>\n",
       "    <tr>\n",
       "      <th>34</th>\n",
       "      <td>4000</td>\n",
       "      <td>12050.0</td>\n",
       "      <td>1.0</td>\n",
       "      <td>4</td>\n",
       "      <td>147</td>\n",
       "      <td>76.0</td>\n",
       "      <td>8637.5</td>\n",
       "      <td>0</td>\n",
       "      <td>0</td>\n",
       "      <td>0</td>\n",
       "      <td>...</td>\n",
       "      <td>0</td>\n",
       "      <td>1</td>\n",
       "      <td>0</td>\n",
       "      <td>1</td>\n",
       "      <td>0</td>\n",
       "      <td>1</td>\n",
       "      <td>0</td>\n",
       "      <td>0</td>\n",
       "      <td>0</td>\n",
       "      <td>0</td>\n",
       "    </tr>\n",
       "    <tr>\n",
       "      <th>36</th>\n",
       "      <td>3200</td>\n",
       "      <td>12050.0</td>\n",
       "      <td>1.0</td>\n",
       "      <td>11</td>\n",
       "      <td>163</td>\n",
       "      <td>108.0</td>\n",
       "      <td>8637.5</td>\n",
       "      <td>0</td>\n",
       "      <td>0</td>\n",
       "      <td>0</td>\n",
       "      <td>...</td>\n",
       "      <td>0</td>\n",
       "      <td>1</td>\n",
       "      <td>0</td>\n",
       "      <td>1</td>\n",
       "      <td>0</td>\n",
       "      <td>1</td>\n",
       "      <td>0</td>\n",
       "      <td>0</td>\n",
       "      <td>1</td>\n",
       "      <td>0</td>\n",
       "    </tr>\n",
       "    <tr>\n",
       "      <th>39</th>\n",
       "      <td>3800</td>\n",
       "      <td>7712.0</td>\n",
       "      <td>1.0</td>\n",
       "      <td>7</td>\n",
       "      <td>157</td>\n",
       "      <td>78.0</td>\n",
       "      <td>5528.0</td>\n",
       "      <td>0</td>\n",
       "      <td>0</td>\n",
       "      <td>0</td>\n",
       "      <td>...</td>\n",
       "      <td>0</td>\n",
       "      <td>1</td>\n",
       "      <td>0</td>\n",
       "      <td>1</td>\n",
       "      <td>0</td>\n",
       "      <td>1</td>\n",
       "      <td>0</td>\n",
       "      <td>0</td>\n",
       "      <td>1</td>\n",
       "      <td>0</td>\n",
       "    </tr>\n",
       "    <tr>\n",
       "      <th>46</th>\n",
       "      <td>3200</td>\n",
       "      <td>17834.0</td>\n",
       "      <td>1.0</td>\n",
       "      <td>7</td>\n",
       "      <td>149</td>\n",
       "      <td>110.0</td>\n",
       "      <td>12783.5</td>\n",
       "      <td>0</td>\n",
       "      <td>0</td>\n",
       "      <td>0</td>\n",
       "      <td>...</td>\n",
       "      <td>0</td>\n",
       "      <td>1</td>\n",
       "      <td>0</td>\n",
       "      <td>1</td>\n",
       "      <td>0</td>\n",
       "      <td>1</td>\n",
       "      <td>0</td>\n",
       "      <td>0</td>\n",
       "      <td>0</td>\n",
       "      <td>0</td>\n",
       "    </tr>\n",
       "    <tr>\n",
       "      <th>50</th>\n",
       "      <td>3200</td>\n",
       "      <td>15424.0</td>\n",
       "      <td>1.0</td>\n",
       "      <td>6</td>\n",
       "      <td>166</td>\n",
       "      <td>14.0</td>\n",
       "      <td>11056.0</td>\n",
       "      <td>0</td>\n",
       "      <td>0</td>\n",
       "      <td>0</td>\n",
       "      <td>...</td>\n",
       "      <td>0</td>\n",
       "      <td>1</td>\n",
       "      <td>0</td>\n",
       "      <td>1</td>\n",
       "      <td>0</td>\n",
       "      <td>1</td>\n",
       "      <td>0</td>\n",
       "      <td>0</td>\n",
       "      <td>1</td>\n",
       "      <td>0</td>\n",
       "    </tr>\n",
       "    <tr>\n",
       "      <th>58</th>\n",
       "      <td>4400</td>\n",
       "      <td>10604.0</td>\n",
       "      <td>1.0</td>\n",
       "      <td>8</td>\n",
       "      <td>166</td>\n",
       "      <td>113.0</td>\n",
       "      <td>7601.0</td>\n",
       "      <td>0</td>\n",
       "      <td>0</td>\n",
       "      <td>0</td>\n",
       "      <td>...</td>\n",
       "      <td>0</td>\n",
       "      <td>1</td>\n",
       "      <td>0</td>\n",
       "      <td>1</td>\n",
       "      <td>0</td>\n",
       "      <td>1</td>\n",
       "      <td>0</td>\n",
       "      <td>0</td>\n",
       "      <td>1</td>\n",
       "      <td>0</td>\n",
       "    </tr>\n",
       "    <tr>\n",
       "      <th>63</th>\n",
       "      <td>3200</td>\n",
       "      <td>14460.0</td>\n",
       "      <td>1.0</td>\n",
       "      <td>7</td>\n",
       "      <td>147</td>\n",
       "      <td>83.0</td>\n",
       "      <td>10365.0</td>\n",
       "      <td>0</td>\n",
       "      <td>0</td>\n",
       "      <td>0</td>\n",
       "      <td>...</td>\n",
       "      <td>0</td>\n",
       "      <td>1</td>\n",
       "      <td>0</td>\n",
       "      <td>1</td>\n",
       "      <td>0</td>\n",
       "      <td>1</td>\n",
       "      <td>0</td>\n",
       "      <td>0</td>\n",
       "      <td>0</td>\n",
       "      <td>0</td>\n",
       "    </tr>\n",
       "    <tr>\n",
       "      <th>76</th>\n",
       "      <td>3200</td>\n",
       "      <td>11568.0</td>\n",
       "      <td>1.0</td>\n",
       "      <td>3</td>\n",
       "      <td>152</td>\n",
       "      <td>75.0</td>\n",
       "      <td>8292.0</td>\n",
       "      <td>0</td>\n",
       "      <td>0</td>\n",
       "      <td>0</td>\n",
       "      <td>...</td>\n",
       "      <td>0</td>\n",
       "      <td>1</td>\n",
       "      <td>0</td>\n",
       "      <td>1</td>\n",
       "      <td>0</td>\n",
       "      <td>1</td>\n",
       "      <td>0</td>\n",
       "      <td>0</td>\n",
       "      <td>0</td>\n",
       "      <td>0</td>\n",
       "    </tr>\n",
       "    <tr>\n",
       "      <th>77</th>\n",
       "      <td>4000</td>\n",
       "      <td>15424.0</td>\n",
       "      <td>1.0</td>\n",
       "      <td>6</td>\n",
       "      <td>159</td>\n",
       "      <td>115.0</td>\n",
       "      <td>11056.0</td>\n",
       "      <td>0</td>\n",
       "      <td>0</td>\n",
       "      <td>0</td>\n",
       "      <td>...</td>\n",
       "      <td>0</td>\n",
       "      <td>0</td>\n",
       "      <td>0</td>\n",
       "      <td>1</td>\n",
       "      <td>0</td>\n",
       "      <td>1</td>\n",
       "      <td>0</td>\n",
       "      <td>1</td>\n",
       "      <td>0</td>\n",
       "      <td>0</td>\n",
       "    </tr>\n",
       "    <tr>\n",
       "      <th>94</th>\n",
       "      <td>3200</td>\n",
       "      <td>8676.0</td>\n",
       "      <td>1.0</td>\n",
       "      <td>6</td>\n",
       "      <td>160</td>\n",
       "      <td>6.0</td>\n",
       "      <td>6219.0</td>\n",
       "      <td>0</td>\n",
       "      <td>0</td>\n",
       "      <td>0</td>\n",
       "      <td>...</td>\n",
       "      <td>0</td>\n",
       "      <td>0</td>\n",
       "      <td>0</td>\n",
       "      <td>1</td>\n",
       "      <td>0</td>\n",
       "      <td>1</td>\n",
       "      <td>0</td>\n",
       "      <td>0</td>\n",
       "      <td>1</td>\n",
       "      <td>0</td>\n",
       "    </tr>\n",
       "    <tr>\n",
       "      <th>98</th>\n",
       "      <td>4800</td>\n",
       "      <td>13496.0</td>\n",
       "      <td>1.0</td>\n",
       "      <td>5</td>\n",
       "      <td>142</td>\n",
       "      <td>43.0</td>\n",
       "      <td>9674.0</td>\n",
       "      <td>0</td>\n",
       "      <td>0</td>\n",
       "      <td>0</td>\n",
       "      <td>...</td>\n",
       "      <td>0</td>\n",
       "      <td>1</td>\n",
       "      <td>0</td>\n",
       "      <td>1</td>\n",
       "      <td>0</td>\n",
       "      <td>1</td>\n",
       "      <td>0</td>\n",
       "      <td>1</td>\n",
       "      <td>0</td>\n",
       "      <td>0</td>\n",
       "    </tr>\n",
       "    <tr>\n",
       "      <th>99</th>\n",
       "      <td>4600</td>\n",
       "      <td>13014.0</td>\n",
       "      <td>1.0</td>\n",
       "      <td>7</td>\n",
       "      <td>138</td>\n",
       "      <td>52.0</td>\n",
       "      <td>9328.5</td>\n",
       "      <td>0</td>\n",
       "      <td>0</td>\n",
       "      <td>0</td>\n",
       "      <td>...</td>\n",
       "      <td>0</td>\n",
       "      <td>1</td>\n",
       "      <td>0</td>\n",
       "      <td>1</td>\n",
       "      <td>0</td>\n",
       "      <td>1</td>\n",
       "      <td>0</td>\n",
       "      <td>0</td>\n",
       "      <td>0</td>\n",
       "      <td>1</td>\n",
       "    </tr>\n",
       "    <tr>\n",
       "      <th>135</th>\n",
       "      <td>3200</td>\n",
       "      <td>9640.0</td>\n",
       "      <td>1.0</td>\n",
       "      <td>6</td>\n",
       "      <td>166</td>\n",
       "      <td>112.0</td>\n",
       "      <td>6910.0</td>\n",
       "      <td>0</td>\n",
       "      <td>0</td>\n",
       "      <td>0</td>\n",
       "      <td>...</td>\n",
       "      <td>0</td>\n",
       "      <td>1</td>\n",
       "      <td>0</td>\n",
       "      <td>1</td>\n",
       "      <td>0</td>\n",
       "      <td>1</td>\n",
       "      <td>0</td>\n",
       "      <td>0</td>\n",
       "      <td>1</td>\n",
       "      <td>0</td>\n",
       "    </tr>\n",
       "    <tr>\n",
       "      <th>139</th>\n",
       "      <td>4000</td>\n",
       "      <td>28920.0</td>\n",
       "      <td>1.0</td>\n",
       "      <td>4</td>\n",
       "      <td>144</td>\n",
       "      <td>48.0</td>\n",
       "      <td>19530.0</td>\n",
       "      <td>0</td>\n",
       "      <td>0</td>\n",
       "      <td>0</td>\n",
       "      <td>...</td>\n",
       "      <td>0</td>\n",
       "      <td>1</td>\n",
       "      <td>0</td>\n",
       "      <td>1</td>\n",
       "      <td>0</td>\n",
       "      <td>1</td>\n",
       "      <td>0</td>\n",
       "      <td>0</td>\n",
       "      <td>0</td>\n",
       "      <td>0</td>\n",
       "    </tr>\n",
       "  </tbody>\n",
       "</table>\n",
       "<p>20 rows × 26 columns</p>\n",
       "</div>"
      ],
      "text/plain": [
       "     Distance  Race_Money  Track_position  age  Weight  Top_speed  \\\n",
       "3        3200     12532.0             1.0    4     161       33.0   \n",
       "11       4000     14460.0             1.0    4     156       83.0   \n",
       "19       3200     12050.0             1.0    8     150       45.0   \n",
       "24       4000     12050.0             1.0    6     145       44.0   \n",
       "29       4600      7712.0             1.0    9     154      103.0   \n",
       "31       3200     11568.0             1.0    6     163       78.0   \n",
       "34       4000     12050.0             1.0    4     147       76.0   \n",
       "36       3200     12050.0             1.0   11     163      108.0   \n",
       "39       3800      7712.0             1.0    7     157       78.0   \n",
       "46       3200     17834.0             1.0    7     149      110.0   \n",
       "50       3200     15424.0             1.0    6     166       14.0   \n",
       "58       4400     10604.0             1.0    8     166      113.0   \n",
       "63       3200     14460.0             1.0    7     147       83.0   \n",
       "76       3200     11568.0             1.0    3     152       75.0   \n",
       "77       4000     15424.0             1.0    6     159      115.0   \n",
       "94       3200      8676.0             1.0    6     160        6.0   \n",
       "98       4800     13496.0             1.0    5     142       43.0   \n",
       "99       4600     13014.0             1.0    7     138       52.0   \n",
       "135      3200      9640.0             1.0    6     166      112.0   \n",
       "139      4000     28920.0             1.0    4     144       48.0   \n",
       "\n",
       "     prize_money  course_Fontwell  course_Uttoxeter  course_Worcester  ...  \\\n",
       "3         8983.0                0                 0                 0  ...   \n",
       "11       10365.0                0                 0                 0  ...   \n",
       "19        8637.5                0                 0                 0  ...   \n",
       "24        8637.5                0                 0                 0  ...   \n",
       "29        5528.0                0                 0                 0  ...   \n",
       "31        8292.0                0                 0                 0  ...   \n",
       "34        8637.5                0                 0                 0  ...   \n",
       "36        8637.5                0                 0                 0  ...   \n",
       "39        5528.0                0                 0                 0  ...   \n",
       "46       12783.5                0                 0                 0  ...   \n",
       "50       11056.0                0                 0                 0  ...   \n",
       "58        7601.0                0                 0                 0  ...   \n",
       "63       10365.0                0                 0                 0  ...   \n",
       "76        8292.0                0                 0                 0  ...   \n",
       "77       11056.0                0                 0                 0  ...   \n",
       "94        6219.0                0                 0                 0  ...   \n",
       "98        9674.0                0                 0                 0  ...   \n",
       "99        9328.5                0                 0                 0  ...   \n",
       "135       6910.0                0                 0                 0  ...   \n",
       "139      19530.0                0                 0                 0  ...   \n",
       "\n",
       "     race_group_Unknown  race_type_Handicap  trainer_Gordon Elliott  \\\n",
       "3                     0                   1                       0   \n",
       "11                    0                   1                       0   \n",
       "19                    0                   1                       0   \n",
       "24                    0                   1                       0   \n",
       "29                    0                   0                       0   \n",
       "31                    0                   1                       0   \n",
       "34                    0                   1                       0   \n",
       "36                    0                   1                       0   \n",
       "39                    0                   1                       0   \n",
       "46                    0                   1                       0   \n",
       "50                    0                   1                       0   \n",
       "58                    0                   1                       0   \n",
       "63                    0                   1                       0   \n",
       "76                    0                   1                       0   \n",
       "77                    0                   0                       0   \n",
       "94                    0                   0                       0   \n",
       "98                    0                   1                       0   \n",
       "99                    0                   1                       0   \n",
       "135                   0                   1                       0   \n",
       "139                   0                   1                       0   \n",
       "\n",
       "     trainer_other  jockey_Tom Scudamore  jockey_other  gear_other  gear_p  \\\n",
       "3                1                     0             1           0       0   \n",
       "11               1                     0             1           0       0   \n",
       "19               1                     0             1           0       0   \n",
       "24               1                     0             1           0       0   \n",
       "29               1                     0             1           0       0   \n",
       "31               1                     0             1           0       0   \n",
       "34               1                     0             1           0       0   \n",
       "36               1                     0             1           0       0   \n",
       "39               1                     0             1           0       0   \n",
       "46               1                     0             1           0       0   \n",
       "50               1                     0             1           0       0   \n",
       "58               1                     0             1           0       0   \n",
       "63               1                     0             1           0       0   \n",
       "76               1                     0             1           0       0   \n",
       "77               1                     0             1           0       1   \n",
       "94               1                     0             1           0       0   \n",
       "98               1                     0             1           0       1   \n",
       "99               1                     0             1           0       0   \n",
       "135              1                     0             1           0       0   \n",
       "139              1                     0             1           0       0   \n",
       "\n",
       "     gear_t  gear_tp  \n",
       "3         1        0  \n",
       "11        0        0  \n",
       "19        0        0  \n",
       "24        1        0  \n",
       "29        1        0  \n",
       "31        1        0  \n",
       "34        0        0  \n",
       "36        1        0  \n",
       "39        1        0  \n",
       "46        0        0  \n",
       "50        1        0  \n",
       "58        1        0  \n",
       "63        0        0  \n",
       "76        0        0  \n",
       "77        0        0  \n",
       "94        1        0  \n",
       "98        0        0  \n",
       "99        0        1  \n",
       "135       1        0  \n",
       "139       0        0  \n",
       "\n",
       "[20 rows x 26 columns]"
      ]
     },
     "execution_count": 40,
     "metadata": {},
     "output_type": "execute_result"
    }
   ],
   "source": [
    "X_dum.head(20)"
   ]
  },
  {
   "cell_type": "code",
   "execution_count": 41,
   "id": "e55f7041",
   "metadata": {},
   "outputs": [
    {
     "data": {
      "text/plain": [
       "[4000.0,\n",
       " 12050.0,\n",
       " 1.0,\n",
       " 6.0,\n",
       " 145.0,\n",
       " 44.0,\n",
       " 8637.5,\n",
       " 0.0,\n",
       " 0.0,\n",
       " 0.0,\n",
       " 1.0,\n",
       " 0.0,\n",
       " 1.0,\n",
       " 0.0,\n",
       " 0.0,\n",
       " 1.0,\n",
       " 0.0,\n",
       " 1.0,\n",
       " 0.0,\n",
       " 1.0,\n",
       " 0.0,\n",
       " 1.0,\n",
       " 0.0,\n",
       " 0.0,\n",
       " 1.0,\n",
       " 0.0]"
      ]
     },
     "execution_count": 41,
     "metadata": {},
     "output_type": "execute_result"
    }
   ],
   "source": [
    "result = X_dum.iloc[3].to_list()\n",
    "result"
   ]
  },
  {
   "cell_type": "code",
   "execution_count": 42,
   "id": "40b83030",
   "metadata": {},
   "outputs": [
    {
     "data": {
      "text/plain": [
       "[4000.0,\n",
       " 28920.0,\n",
       " 1.0,\n",
       " 4.0,\n",
       " 144.0,\n",
       " 48.0,\n",
       " 19530.0,\n",
       " 0.0,\n",
       " 0.0,\n",
       " 0.0,\n",
       " 1.0,\n",
       " 0.0,\n",
       " 0.0,\n",
       " 1.0,\n",
       " 0.0,\n",
       " 1.0,\n",
       " 0.0,\n",
       " 1.0,\n",
       " 0.0,\n",
       " 1.0,\n",
       " 0.0,\n",
       " 1.0,\n",
       " 0.0,\n",
       " 0.0,\n",
       " 0.0,\n",
       " 0.0]"
      ]
     },
     "execution_count": 42,
     "metadata": {},
     "output_type": "execute_result"
    }
   ],
   "source": [
    "results = X_dum.iloc[19].to_list()\n",
    "results"
   ]
  },
  {
   "cell_type": "code",
   "execution_count": 43,
   "id": "201b626a",
   "metadata": {},
   "outputs": [
    {
     "data": {
      "text/plain": [
       "26"
      ]
     },
     "execution_count": 43,
     "metadata": {},
     "output_type": "execute_result"
    }
   ],
   "source": [
    "len(X_dum.columns)"
   ]
  },
  {
   "cell_type": "code",
   "execution_count": 44,
   "id": "f5509747",
   "metadata": {
    "scrolled": true
   },
   "outputs": [
    {
     "data": {
      "text/plain": [
       "['Distance',\n",
       " 'Race_Money',\n",
       " 'Track_position',\n",
       " 'age',\n",
       " 'Weight',\n",
       " 'Top_speed',\n",
       " 'prize_money',\n",
       " 'course_Fontwell',\n",
       " 'course_Uttoxeter',\n",
       " 'course_Worcester',\n",
       " 'course_other',\n",
       " 'Track_condition_Good To Soft',\n",
       " 'Track_condition_Soft',\n",
       " 'Track_condition_other',\n",
       " 'race_group_Chase',\n",
       " 'race_group_Hurdle',\n",
       " 'race_group_Unknown',\n",
       " 'race_type_Handicap',\n",
       " 'trainer_Gordon Elliott',\n",
       " 'trainer_other',\n",
       " 'jockey_Tom Scudamore',\n",
       " 'jockey_other',\n",
       " 'gear_other',\n",
       " 'gear_p',\n",
       " 'gear_t',\n",
       " 'gear_tp']"
      ]
     },
     "execution_count": 44,
     "metadata": {},
     "output_type": "execute_result"
    }
   ],
   "source": [
    "X_dum.columns.values.tolist()"
   ]
  },
  {
   "cell_type": "code",
   "execution_count": null,
   "id": "e133a963",
   "metadata": {},
   "outputs": [],
   "source": []
  },
  {
   "cell_type": "code",
   "execution_count": 45,
   "id": "5deda6ce",
   "metadata": {},
   "outputs": [],
   "source": [
    "# Use sklearn to split dataset\n",
    "# Use sklearn to split the preprocessed data into a training and testing dataset\n",
    "X_train, X_test, y_train, y_test = train_test_split(X_dum, y_label, train_size = 0.6, random_state=1)"
   ]
  },
  {
   "cell_type": "code",
   "execution_count": 46,
   "id": "524bde0c",
   "metadata": {},
   "outputs": [],
   "source": [
    "# Create a StandardScaler instances\n",
    "scaler = StandardScaler()\n",
    "\n",
    "# Fit the StandardScaler\n",
    "X_scaler = scaler.fit(X_train)\n",
    "\n",
    "# Scale the data\n",
    "X_train_scaled = X_scaler.transform(X_train)\n",
    "X_test_scaled = X_scaler.transform(X_test)"
   ]
  },
  {
   "cell_type": "code",
   "execution_count": 47,
   "id": "05f1eec4",
   "metadata": {},
   "outputs": [
    {
     "data": {
      "text/plain": [
       "array([[-1.12819078, -0.33687883,  0.48188033, ..., -0.59170829,\n",
       "        -0.73725707, -0.27415398],\n",
       "       [ 1.22824317, -0.24285086, -0.71444628, ..., -0.59170829,\n",
       "        -0.73725707, -0.27415398],\n",
       "       [-1.12819078, -0.15230767, -0.71444628, ..., -0.59170829,\n",
       "         1.35637899, -0.27415398],\n",
       "       ...,\n",
       "       [-1.12819078, -0.24912577, -0.71444628, ..., -0.59170829,\n",
       "         1.35637899, -0.27415398],\n",
       "       [ 0.0500262 , -0.0252479 , -0.71444628, ..., -0.59170829,\n",
       "        -0.73725707, -0.27415398],\n",
       "       [ 0.0500262 , -0.20111635,  1.9772886 , ..., -0.59170829,\n",
       "        -0.73725707, -0.27415398]])"
      ]
     },
     "execution_count": 47,
     "metadata": {},
     "output_type": "execute_result"
    }
   ],
   "source": [
    "X_train_scaled"
   ]
  },
  {
   "cell_type": "code",
   "execution_count": 48,
   "id": "22ed74b1",
   "metadata": {},
   "outputs": [
    {
     "data": {
      "text/plain": [
       "array([[-0.68635941, -0.24285086, -0.71444628, ..., -0.59170829,\n",
       "         1.35637899, -0.27415398],\n",
       "       [-0.24452805, -0.12017434, -0.71444628, ...,  1.69002196,\n",
       "        -0.73725707, -0.27415398],\n",
       "       [-0.24452805, -0.24912577,  1.08004364, ..., -0.59170829,\n",
       "         1.35637899, -0.27415398],\n",
       "       ...,\n",
       "       [-1.12819078, -0.16165401, -0.71444628, ..., -0.59170829,\n",
       "        -0.73725707, -0.27415398],\n",
       "       [ 1.08096605, -0.2114763 , -0.41536463, ..., -0.59170829,\n",
       "         1.35637899, -0.27415398],\n",
       "       [-1.12819078, -0.2146447 , -0.71444628, ...,  1.69002196,\n",
       "        -0.73725707, -0.27415398]])"
      ]
     },
     "execution_count": 48,
     "metadata": {},
     "output_type": "execute_result"
    }
   ],
   "source": [
    "X_test_scaled"
   ]
  },
  {
   "cell_type": "markdown",
   "id": "f3da3f5f",
   "metadata": {},
   "source": [
    "## Logistic Regression"
   ]
  },
  {
   "cell_type": "code",
   "execution_count": 49,
   "id": "dc16a8f3",
   "metadata": {},
   "outputs": [
    {
     "data": {
      "text/plain": [
       "0.9999200767263428"
      ]
     },
     "execution_count": 49,
     "metadata": {},
     "output_type": "execute_result"
    }
   ],
   "source": [
    "classifier = LogisticRegression(fit_intercept=True, random_state=1, max_iter = 400,verbose=0, multi_class='auto')\n",
    "classifier.fit(X_train_scaled,y_train)\n",
    "classifier.score(X_train_scaled,y_train)\n",
    "classifier.score(X_test_scaled,y_test)"
   ]
  },
  {
   "cell_type": "code",
   "execution_count": 50,
   "id": "d6c88b8b",
   "metadata": {
    "scrolled": true
   },
   "outputs": [
    {
     "name": "stdout",
     "output_type": "stream",
     "text": [
      "Training Scaled Data Score: 0.9994138959931799\n",
      "Test  Scaled Data Score: 0.9999200767263428\n"
     ]
    }
   ],
   "source": [
    "print(f\"Training Scaled Data Score: {classifier.score(X_train_scaled,y_train)}\")\n",
    "print(f\"Test  Scaled Data Score: {classifier.score(X_test_scaled,y_test)}\")"
   ]
  },
  {
   "cell_type": "markdown",
   "id": "aabf5c64",
   "metadata": {},
   "source": [
    "# Decision Tree Classifier"
   ]
  },
  {
   "cell_type": "code",
   "execution_count": 51,
   "id": "99a8de02",
   "metadata": {},
   "outputs": [],
   "source": [
    "model = DecisionTreeClassifier()\n",
    "scores = cross_validate(model, X_train_scaled,y_train, cv=6, n_jobs=-1, scoring='f1_macro')"
   ]
  },
  {
   "cell_type": "code",
   "execution_count": 52,
   "id": "eaa57bdd",
   "metadata": {
    "scrolled": true
   },
   "outputs": [
    {
     "data": {
      "text/plain": [
       "{'fit_time': array([0.10893703, 0.09794545, 0.07995844, 0.03199291, 0.09494233,\n",
       "        0.07795811]),\n",
       " 'score_time': array([0.00999403, 0.00799251, 0.00898933, 0.00699902, 0.006001  ,\n",
       "        0.01399136]),\n",
       " 'test_score': array([1., 1., 1., 1., 1., 1.])}"
      ]
     },
     "execution_count": 52,
     "metadata": {},
     "output_type": "execute_result"
    }
   ],
   "source": [
    "scores"
   ]
  },
  {
   "cell_type": "markdown",
   "id": "ff48ed65",
   "metadata": {},
   "source": [
    "# RandomForestClassifier"
   ]
  },
  {
   "cell_type": "code",
   "execution_count": 53,
   "id": "af0ce896",
   "metadata": {},
   "outputs": [],
   "source": [
    "model_r =RandomForestClassifier(n_estimators = 10, max_features='auto')"
   ]
  },
  {
   "cell_type": "code",
   "execution_count": 54,
   "id": "b9e4a96a",
   "metadata": {},
   "outputs": [
    {
     "data": {
      "text/plain": [
       "RandomForestClassifier(n_estimators=10)"
      ]
     },
     "execution_count": 54,
     "metadata": {},
     "output_type": "execute_result"
    }
   ],
   "source": [
    "model_r.fit(X_train,y_train)"
   ]
  },
  {
   "cell_type": "code",
   "execution_count": 55,
   "id": "41867341",
   "metadata": {},
   "outputs": [
    {
     "data": {
      "text/plain": [
       "1.0"
      ]
     },
     "execution_count": 55,
     "metadata": {},
     "output_type": "execute_result"
    }
   ],
   "source": [
    "model_r.score(X_train,y_train)"
   ]
  },
  {
   "cell_type": "code",
   "execution_count": 56,
   "id": "b76395c2",
   "metadata": {},
   "outputs": [
    {
     "data": {
      "text/plain": [
       "1.0"
      ]
     },
     "execution_count": 56,
     "metadata": {},
     "output_type": "execute_result"
    }
   ],
   "source": [
    "model_r.score(X_test,y_test)"
   ]
  },
  {
   "cell_type": "code",
   "execution_count": 57,
   "id": "420f2d4a",
   "metadata": {},
   "outputs": [
    {
     "data": {
      "text/plain": [
       "array([1, 1, 0, ..., 1, 0, 1], dtype=int64)"
      ]
     },
     "execution_count": 57,
     "metadata": {},
     "output_type": "execute_result"
    }
   ],
   "source": [
    "y_predicted = model_r.predict(X_test)\n",
    "y_predicted"
   ]
  },
  {
   "cell_type": "code",
   "execution_count": 58,
   "id": "2a699b32",
   "metadata": {},
   "outputs": [
    {
     "data": {
      "text/plain": [
       "array([[6131,    0],\n",
       "       [   0, 6381]], dtype=int64)"
      ]
     },
     "execution_count": 58,
     "metadata": {},
     "output_type": "execute_result"
    }
   ],
   "source": [
    "# Optional : using confusion matrix to confirm RandomForestClassifier\n",
    "from sklearn.metrics import confusion_matrix\n",
    "cm = confusion_matrix(y_test, y_predicted )\n",
    "cm"
   ]
  },
  {
   "cell_type": "code",
   "execution_count": 59,
   "id": "6d7900cb",
   "metadata": {},
   "outputs": [
    {
     "data": {
      "text/plain": [
       "Text(69.0, 0.5, 'Truth')"
      ]
     },
     "execution_count": 59,
     "metadata": {},
     "output_type": "execute_result"
    },
    {
     "data": {
      "image/png": "[encoded data removed]",
      "text/plain": [
       "<Figure size 720x504 with 2 Axes>"
      ]
     },
     "metadata": {
      "needs_background": "light"
     },
     "output_type": "display_data"
    }
   ],
   "source": [
    "%matplotlib inline\n",
    "plt.figure(figsize=(10,7))\n",
    "sns.heatmap(cm, annot=True)\n",
    "plt.xlabel('predicted')\n",
    "plt.ylabel('Truth')"
   ]
  },
  {
   "cell_type": "code",
   "execution_count": 60,
   "id": "7a209992",
   "metadata": {},
   "outputs": [
    {
     "name": "stdout",
     "output_type": "stream",
     "text": [
      "Accuracy: 1.0\n"
     ]
    }
   ],
   "source": [
    "y_true = y_test\n",
    "tn, fp, fn, tp = confusion_matrix(y_true, y_predicted).ravel()\n",
    "\n",
    "accuracy = (tp + tn) / (tp + fp + tn + fn)\n",
    "\n",
    "print(f\"Accuracy: {accuracy}\")"
   ]
  },
  {
   "cell_type": "code",
   "execution_count": 61,
   "id": "eb421da1",
   "metadata": {},
   "outputs": [
    {
     "name": "stdout",
     "output_type": "stream",
     "text": [
      "              precision    recall  f1-score   support\n",
      "\n",
      "           0       1.00      1.00      1.00      6131\n",
      "           1       1.00      1.00      1.00      6381\n",
      "\n",
      "    accuracy                           1.00     12512\n",
      "   macro avg       1.00      1.00      1.00     12512\n",
      "weighted avg       1.00      1.00      1.00     12512\n",
      "\n"
     ]
    }
   ],
   "source": [
    "print(metrics.classification_report(y_true, y_predicted))"
   ]
  },
  {
   "cell_type": "markdown",
   "id": "e19a2821",
   "metadata": {},
   "source": [
    "Can precision and recall both be 1?\n",
    "Image result for what happens when precision, recall and f1 score all gives 1\n",
    "In information retrieval, a perfect precision score of 1.0 means that every result retrieved by a search was relevant (but says nothing about whether all relevant documents were retrieved) whereas a perfect recall score of 1.0 means that all relevant documents were retrieved by the search (but says nothing about how .."
   ]
  },
  {
   "cell_type": "markdown",
   "id": "af10b79b",
   "metadata": {},
   "source": [
    "### connect prediction with output"
   ]
  },
  {
   "cell_type": "code",
   "execution_count": 62,
   "id": "78b4a2c4",
   "metadata": {},
   "outputs": [],
   "source": [
    "\n",
    "# define input\n",
    "new_input = [[4000.0,\n",
    " 12050.0,\n",
    " 1.0,\n",
    " 6.0,\n",
    " 145.0,\n",
    " 44.0,\n",
    " 8637.5,\n",
    " 0.0,\n",
    " 0.0,\n",
    " 0.0,\n",
    " 1.0,\n",
    " 0.0,\n",
    " 1.0,\n",
    " 0.0,\n",
    " 0.0,\n",
    " 1.0,\n",
    " 0.0,\n",
    " 1.0,\n",
    " 0.0,\n",
    " 1.0,\n",
    " 0.0,\n",
    " 1.0,\n",
    " 0.0,\n",
    " 0.0,\n",
    " 1.0,\n",
    " 0.0]]"
   ]
  },
  {
   "cell_type": "code",
   "execution_count": 63,
   "id": "e8da9cdd",
   "metadata": {},
   "outputs": [
    {
     "data": {
      "text/plain": [
       "array([1], dtype=int64)"
      ]
     },
     "execution_count": 63,
     "metadata": {},
     "output_type": "execute_result"
    }
   ],
   "source": [
    "# get prediction for new input\n",
    "new_output = model_r.predict(new_input)\n",
    "new_output"
   ]
  },
  {
   "cell_type": "code",
   "execution_count": 64,
   "id": "1ea1715e",
   "metadata": {},
   "outputs": [],
   "source": [
    "new_inputs = [[4000.0,\n",
    " 28920.0,\n",
    " 1.0,\n",
    " 4.0,\n",
    " 144.0,\n",
    " 48.0,\n",
    " 19530.0,\n",
    " 0.0,\n",
    " 0.0,\n",
    " 0.0,\n",
    " 1.0,\n",
    " 0.0,\n",
    " 0.0,\n",
    " 1.0,\n",
    " 0.0,\n",
    " 1.0,\n",
    " 0.0,\n",
    " 1.0,\n",
    " 0.0,\n",
    " 1.0,\n",
    " 0.0,\n",
    " 1.0,\n",
    " 0.0,\n",
    " 0.0,\n",
    " 0.0,\n",
    " 0.0]]"
   ]
  },
  {
   "cell_type": "code",
   "execution_count": 65,
   "id": "c176a23a",
   "metadata": {},
   "outputs": [
    {
     "data": {
      "text/plain": [
       "array([1], dtype=int64)"
      ]
     },
     "execution_count": 65,
     "metadata": {},
     "output_type": "execute_result"
    }
   ],
   "source": [
    "new_outputs = model_r.predict(new_inputs)\n",
    "new_outputs"
   ]
  },
  {
   "cell_type": "code",
   "execution_count": 82,
   "id": "cb843379",
   "metadata": {},
   "outputs": [],
   "source": [
    "clean_df.to_csv('database_data.csv', index=False)"
   ]
  },
  {
   "cell_type": "code",
   "execution_count": 83,
   "id": "5551fc94",
   "metadata": {},
   "outputs": [
    {
     "data": {
      "text/html": [
       "<div>\n",
       "<style scoped>\n",
       "    .dataframe tbody tr th:only-of-type {\n",
       "        vertical-align: middle;\n",
       "    }\n",
       "\n",
       "    .dataframe tbody tr th {\n",
       "        vertical-align: top;\n",
       "    }\n",
       "\n",
       "    .dataframe thead th {\n",
       "        text-align: right;\n",
       "    }\n",
       "</style>\n",
       "<table border=\"1\" class=\"dataframe\">\n",
       "  <thead>\n",
       "    <tr style=\"text-align: right;\">\n",
       "      <th></th>\n",
       "      <th>course</th>\n",
       "      <th>band</th>\n",
       "      <th>Distance</th>\n",
       "      <th>Track_condition</th>\n",
       "      <th>season</th>\n",
       "      <th>race_group</th>\n",
       "      <th>race_type</th>\n",
       "      <th>Race_Money</th>\n",
       "      <th>trainer</th>\n",
       "      <th>jockey</th>\n",
       "      <th>Track_position</th>\n",
       "      <th>age</th>\n",
       "      <th>Weight</th>\n",
       "      <th>gear</th>\n",
       "      <th>Top_speed</th>\n",
       "      <th>Winner</th>\n",
       "      <th>prize_money</th>\n",
       "    </tr>\n",
       "  </thead>\n",
       "  <tbody>\n",
       "    <tr>\n",
       "      <th>3</th>\n",
       "      <td>other</td>\n",
       "      <td>other</td>\n",
       "      <td>3200</td>\n",
       "      <td>other</td>\n",
       "      <td>5</td>\n",
       "      <td>Hurdle</td>\n",
       "      <td>Handicap</td>\n",
       "      <td>12532.000000</td>\n",
       "      <td>other</td>\n",
       "      <td>other</td>\n",
       "      <td>1.0</td>\n",
       "      <td>4</td>\n",
       "      <td>161</td>\n",
       "      <td>t</td>\n",
       "      <td>33.0</td>\n",
       "      <td>1</td>\n",
       "      <td>8983.000000</td>\n",
       "    </tr>\n",
       "    <tr>\n",
       "      <th>11</th>\n",
       "      <td>other</td>\n",
       "      <td>4yo+</td>\n",
       "      <td>4000</td>\n",
       "      <td>Soft</td>\n",
       "      <td>5</td>\n",
       "      <td>Hurdle</td>\n",
       "      <td>Handicap</td>\n",
       "      <td>14460.000000</td>\n",
       "      <td>other</td>\n",
       "      <td>other</td>\n",
       "      <td>1.0</td>\n",
       "      <td>4</td>\n",
       "      <td>156</td>\n",
       "      <td>b</td>\n",
       "      <td>83.0</td>\n",
       "      <td>1</td>\n",
       "      <td>10365.000000</td>\n",
       "    </tr>\n",
       "    <tr>\n",
       "      <th>19</th>\n",
       "      <td>other</td>\n",
       "      <td>4yo+</td>\n",
       "      <td>3200</td>\n",
       "      <td>Soft</td>\n",
       "      <td>5</td>\n",
       "      <td>Hurdle</td>\n",
       "      <td>Handicap</td>\n",
       "      <td>12050.000000</td>\n",
       "      <td>other</td>\n",
       "      <td>other</td>\n",
       "      <td>1.0</td>\n",
       "      <td>8</td>\n",
       "      <td>150</td>\n",
       "      <td>b</td>\n",
       "      <td>45.0</td>\n",
       "      <td>1</td>\n",
       "      <td>8637.500000</td>\n",
       "    </tr>\n",
       "    <tr>\n",
       "      <th>24</th>\n",
       "      <td>other</td>\n",
       "      <td>5yo+</td>\n",
       "      <td>4000</td>\n",
       "      <td>Soft</td>\n",
       "      <td>5</td>\n",
       "      <td>Hurdle</td>\n",
       "      <td>Handicap</td>\n",
       "      <td>12050.000000</td>\n",
       "      <td>other</td>\n",
       "      <td>other</td>\n",
       "      <td>1.0</td>\n",
       "      <td>6</td>\n",
       "      <td>145</td>\n",
       "      <td>t</td>\n",
       "      <td>44.0</td>\n",
       "      <td>1</td>\n",
       "      <td>8637.500000</td>\n",
       "    </tr>\n",
       "    <tr>\n",
       "      <th>29</th>\n",
       "      <td>other</td>\n",
       "      <td>5yo+</td>\n",
       "      <td>4600</td>\n",
       "      <td>other</td>\n",
       "      <td>5</td>\n",
       "      <td>Chase</td>\n",
       "      <td>Even</td>\n",
       "      <td>7712.000000</td>\n",
       "      <td>other</td>\n",
       "      <td>other</td>\n",
       "      <td>1.0</td>\n",
       "      <td>9</td>\n",
       "      <td>154</td>\n",
       "      <td>t</td>\n",
       "      <td>103.0</td>\n",
       "      <td>1</td>\n",
       "      <td>5528.000000</td>\n",
       "    </tr>\n",
       "    <tr>\n",
       "      <th>...</th>\n",
       "      <td>...</td>\n",
       "      <td>...</td>\n",
       "      <td>...</td>\n",
       "      <td>...</td>\n",
       "      <td>...</td>\n",
       "      <td>...</td>\n",
       "      <td>...</td>\n",
       "      <td>...</td>\n",
       "      <td>...</td>\n",
       "      <td>...</td>\n",
       "      <td>...</td>\n",
       "      <td>...</td>\n",
       "      <td>...</td>\n",
       "      <td>...</td>\n",
       "      <td>...</td>\n",
       "      <td>...</td>\n",
       "      <td>...</td>\n",
       "    </tr>\n",
       "    <tr>\n",
       "      <th>89904</th>\n",
       "      <td>other</td>\n",
       "      <td>4yo+</td>\n",
       "      <td>4800</td>\n",
       "      <td>Good</td>\n",
       "      <td>13</td>\n",
       "      <td>Hurdle</td>\n",
       "      <td>Handicap</td>\n",
       "      <td>3353.522727</td>\n",
       "      <td>other</td>\n",
       "      <td>other</td>\n",
       "      <td>7.0</td>\n",
       "      <td>8</td>\n",
       "      <td>150</td>\n",
       "      <td>t</td>\n",
       "      <td>9.0</td>\n",
       "      <td>0</td>\n",
       "      <td>0.000000</td>\n",
       "    </tr>\n",
       "    <tr>\n",
       "      <th>97172</th>\n",
       "      <td>other</td>\n",
       "      <td>5yo+</td>\n",
       "      <td>5000</td>\n",
       "      <td>other</td>\n",
       "      <td>13</td>\n",
       "      <td>Chase</td>\n",
       "      <td>Handicap</td>\n",
       "      <td>13414.090909</td>\n",
       "      <td>other</td>\n",
       "      <td>Richard Johnson</td>\n",
       "      <td>3.0</td>\n",
       "      <td>12</td>\n",
       "      <td>156</td>\n",
       "      <td>b</td>\n",
       "      <td>50.0</td>\n",
       "      <td>0</td>\n",
       "      <td>1517.727273</td>\n",
       "    </tr>\n",
       "    <tr>\n",
       "      <th>64646</th>\n",
       "      <td>other</td>\n",
       "      <td>4yo+</td>\n",
       "      <td>4000</td>\n",
       "      <td>Good</td>\n",
       "      <td>9</td>\n",
       "      <td>Hurdle</td>\n",
       "      <td>Handicap</td>\n",
       "      <td>55948.863636</td>\n",
       "      <td>other</td>\n",
       "      <td>other</td>\n",
       "      <td>4.0</td>\n",
       "      <td>5</td>\n",
       "      <td>148</td>\n",
       "      <td>p</td>\n",
       "      <td>106.0</td>\n",
       "      <td>0</td>\n",
       "      <td>3034.090909</td>\n",
       "    </tr>\n",
       "    <tr>\n",
       "      <th>77474</th>\n",
       "      <td>other</td>\n",
       "      <td>4yo+</td>\n",
       "      <td>4800</td>\n",
       "      <td>Good</td>\n",
       "      <td>11</td>\n",
       "      <td>Hurdle</td>\n",
       "      <td>Handicap</td>\n",
       "      <td>2906.386364</td>\n",
       "      <td>other</td>\n",
       "      <td>other</td>\n",
       "      <td>2.0</td>\n",
       "      <td>6</td>\n",
       "      <td>160</td>\n",
       "      <td>b</td>\n",
       "      <td>53.0</td>\n",
       "      <td>0</td>\n",
       "      <td>563.727273</td>\n",
       "    </tr>\n",
       "    <tr>\n",
       "      <th>94259</th>\n",
       "      <td>other</td>\n",
       "      <td>4yo+</td>\n",
       "      <td>4600</td>\n",
       "      <td>other</td>\n",
       "      <td>13</td>\n",
       "      <td>Chase</td>\n",
       "      <td>Handicap</td>\n",
       "      <td>11178.409091</td>\n",
       "      <td>David Pipe</td>\n",
       "      <td>other</td>\n",
       "      <td>5.0</td>\n",
       "      <td>9</td>\n",
       "      <td>165</td>\n",
       "      <td>t</td>\n",
       "      <td>14.0</td>\n",
       "      <td>0</td>\n",
       "      <td>0.000000</td>\n",
       "    </tr>\n",
       "  </tbody>\n",
       "</table>\n",
       "<p>31280 rows × 17 columns</p>\n",
       "</div>"
      ],
      "text/plain": [
       "      course   band  Distance Track_condition  season race_group race_type  \\\n",
       "3      other  other      3200           other       5     Hurdle  Handicap   \n",
       "11     other   4yo+      4000            Soft       5     Hurdle  Handicap   \n",
       "19     other   4yo+      3200            Soft       5     Hurdle  Handicap   \n",
       "24     other   5yo+      4000            Soft       5     Hurdle  Handicap   \n",
       "29     other   5yo+      4600           other       5      Chase      Even   \n",
       "...      ...    ...       ...             ...     ...        ...       ...   \n",
       "89904  other   4yo+      4800            Good      13     Hurdle  Handicap   \n",
       "97172  other   5yo+      5000           other      13      Chase  Handicap   \n",
       "64646  other   4yo+      4000            Good       9     Hurdle  Handicap   \n",
       "77474  other   4yo+      4800            Good      11     Hurdle  Handicap   \n",
       "94259  other   4yo+      4600           other      13      Chase  Handicap   \n",
       "\n",
       "         Race_Money     trainer           jockey  Track_position  age  Weight  \\\n",
       "3      12532.000000       other            other             1.0    4     161   \n",
       "11     14460.000000       other            other             1.0    4     156   \n",
       "19     12050.000000       other            other             1.0    8     150   \n",
       "24     12050.000000       other            other             1.0    6     145   \n",
       "29      7712.000000       other            other             1.0    9     154   \n",
       "...             ...         ...              ...             ...  ...     ...   \n",
       "89904   3353.522727       other            other             7.0    8     150   \n",
       "97172  13414.090909       other  Richard Johnson             3.0   12     156   \n",
       "64646  55948.863636       other            other             4.0    5     148   \n",
       "77474   2906.386364       other            other             2.0    6     160   \n",
       "94259  11178.409091  David Pipe            other             5.0    9     165   \n",
       "\n",
       "      gear  Top_speed  Winner   prize_money  \n",
       "3        t       33.0       1   8983.000000  \n",
       "11       b       83.0       1  10365.000000  \n",
       "19       b       45.0       1   8637.500000  \n",
       "24       t       44.0       1   8637.500000  \n",
       "29       t      103.0       1   5528.000000  \n",
       "...    ...        ...     ...           ...  \n",
       "89904    t        9.0       0      0.000000  \n",
       "97172    b       50.0       0   1517.727273  \n",
       "64646    p      106.0       0   3034.090909  \n",
       "77474    b       53.0       0    563.727273  \n",
       "94259    t       14.0       0      0.000000  \n",
       "\n",
       "[31280 rows x 17 columns]"
      ]
     },
     "execution_count": 83,
     "metadata": {},
     "output_type": "execute_result"
    }
   ],
   "source": [
    "clean_df"
   ]
  },
  {
   "cell_type": "code",
   "execution_count": 84,
   "id": "15b4f9fd",
   "metadata": {},
   "outputs": [
    {
     "data": {
      "text/plain": [
       "course              object\n",
       "band                object\n",
       "Distance             int64\n",
       "Track_condition     object\n",
       "season               int64\n",
       "race_group          object\n",
       "race_type           object\n",
       "Race_Money         float64\n",
       "trainer             object\n",
       "jockey              object\n",
       "Track_position     float64\n",
       "age                  int64\n",
       "Weight               int64\n",
       "gear                object\n",
       "Top_speed          float64\n",
       "Winner               int64\n",
       "prize_money        float64\n",
       "dtype: object"
      ]
     },
     "execution_count": 84,
     "metadata": {},
     "output_type": "execute_result"
    }
   ],
   "source": [
    "clean_df.dtypes"
   ]
  }
 ],
 "metadata": {
  "colab": {
   "name": "p4.ipynb",
   "provenance": []
  },
  "kernelspec": {
   "display_name": "Python 3",
   "language": "python",
   "name": "python3"
  },
  "language_info": {
   "codemirror_mode": {
    "name": "ipython",
    "version": 3
   },
   "file_extension": ".py",
   "mimetype": "text/x-python",
   "name": "python",
   "nbconvert_exporter": "python",
   "pygments_lexer": "ipython3",
   "version": "3.8.8"
  }
 },
 "nbformat": 4,
 "nbformat_minor": 5
}

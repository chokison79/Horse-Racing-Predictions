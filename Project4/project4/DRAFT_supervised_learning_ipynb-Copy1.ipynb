{
 "cells": [
  {
   "cell_type": "markdown",
   "id": "205e0a12",
   "metadata": {},
   "source": [
    "# Machine Learning Data Processing"
   ]
  },
  {
   "cell_type": "code",
   "execution_count": 1,
   "id": "89e6a09c",
   "metadata": {},
   "outputs": [],
   "source": [
    "#%load_ext sql\n",
    "\n",
    "import sqlalchemy\n",
    "\n",
    "from sqlalchemy.ext.automap import automap_base\n",
    "\n",
    "from sqlalchemy.orm import Session\n",
    "\n",
    "from sqlalchemy import create_engine, inspect"
   ]
  },
  {
   "cell_type": "code",
   "execution_count": 3,
   "id": "21c282f0",
   "metadata": {},
   "outputs": [],
   "source": [
    "import os\n",
    "\n",
    "import pandas as pd\n",
    "\n",
    "# import psycopg2\n",
    "\n",
    "from matplotlib import pyplot as plt"
   ]
  },
  {
   "cell_type": "code",
   "execution_count": 4,
   "id": "4a584be2",
   "metadata": {},
   "outputs": [],
   "source": [
    "host = \"localhost\"\n",
    "\n",
    "database = \"horseSQL\"\n",
    "\n",
    "user = \"postgres\"\n",
    "\n",
    "password = \"postgres\""
   ]
  },
  {
   "cell_type": "code",
   "execution_count": 5,
   "id": "bf018402",
   "metadata": {},
   "outputs": [
    {
     "ename": "ModuleNotFoundError",
     "evalue": "No module named 'psycopg2'",
     "output_type": "error",
     "traceback": [
      "\u001b[1;31m---------------------------------------------------------------------------\u001b[0m",
      "\u001b[1;31mModuleNotFoundError\u001b[0m                       Traceback (most recent call last)",
      "\u001b[1;32m<ipython-input-5-b94593119ed1>\u001b[0m in \u001b[0;36m<module>\u001b[1;34m\u001b[0m\n\u001b[1;32m----> 1\u001b[1;33m \u001b[0mengine\u001b[0m \u001b[1;33m=\u001b[0m \u001b[0mcreate_engine\u001b[0m\u001b[1;33m(\u001b[0m\u001b[1;34mf\"postgresql://{user}:{password}@{host}/{database}\"\u001b[0m\u001b[1;33m)\u001b[0m\u001b[1;33m\u001b[0m\u001b[1;33m\u001b[0m\u001b[0m\n\u001b[0m\u001b[0;32m      2\u001b[0m \u001b[1;33m\u001b[0m\u001b[0m\n\u001b[0;32m      3\u001b[0m \u001b[0mconn\u001b[0m \u001b[1;33m=\u001b[0m \u001b[0mengine\u001b[0m\u001b[1;33m.\u001b[0m\u001b[0mconnect\u001b[0m\u001b[1;33m(\u001b[0m\u001b[1;33m)\u001b[0m\u001b[1;33m\u001b[0m\u001b[1;33m\u001b[0m\u001b[0m\n",
      "\u001b[1;32m<string>\u001b[0m in \u001b[0;36mcreate_engine\u001b[1;34m(url, **kwargs)\u001b[0m\n",
      "\u001b[1;32mC:\\Anaconda38\\lib\\site-packages\\sqlalchemy\\util\\deprecations.py\u001b[0m in \u001b[0;36mwarned\u001b[1;34m(fn, *args, **kwargs)\u001b[0m\n\u001b[0;32m    296\u001b[0m                         \u001b[0mstacklevel\u001b[0m\u001b[1;33m=\u001b[0m\u001b[1;36m3\u001b[0m\u001b[1;33m,\u001b[0m\u001b[1;33m\u001b[0m\u001b[1;33m\u001b[0m\u001b[0m\n\u001b[0;32m    297\u001b[0m                     )\n\u001b[1;32m--> 298\u001b[1;33m             \u001b[1;32mreturn\u001b[0m \u001b[0mfn\u001b[0m\u001b[1;33m(\u001b[0m\u001b[1;33m*\u001b[0m\u001b[0margs\u001b[0m\u001b[1;33m,\u001b[0m \u001b[1;33m**\u001b[0m\u001b[0mkwargs\u001b[0m\u001b[1;33m)\u001b[0m\u001b[1;33m\u001b[0m\u001b[1;33m\u001b[0m\u001b[0m\n\u001b[0m\u001b[0;32m    299\u001b[0m \u001b[1;33m\u001b[0m\u001b[0m\n\u001b[0;32m    300\u001b[0m         \u001b[0mdoc\u001b[0m \u001b[1;33m=\u001b[0m \u001b[0mfn\u001b[0m\u001b[1;33m.\u001b[0m\u001b[0m__doc__\u001b[0m \u001b[1;32mis\u001b[0m \u001b[1;32mnot\u001b[0m \u001b[1;32mNone\u001b[0m \u001b[1;32mand\u001b[0m \u001b[0mfn\u001b[0m\u001b[1;33m.\u001b[0m\u001b[0m__doc__\u001b[0m \u001b[1;32mor\u001b[0m \u001b[1;34m\"\"\u001b[0m\u001b[1;33m\u001b[0m\u001b[1;33m\u001b[0m\u001b[0m\n",
      "\u001b[1;32mC:\\Anaconda38\\lib\\site-packages\\sqlalchemy\\engine\\create.py\u001b[0m in \u001b[0;36mcreate_engine\u001b[1;34m(url, **kwargs)\u001b[0m\n\u001b[0;32m    546\u001b[0m             \u001b[1;32mif\u001b[0m \u001b[0mk\u001b[0m \u001b[1;32min\u001b[0m \u001b[0mkwargs\u001b[0m\u001b[1;33m:\u001b[0m\u001b[1;33m\u001b[0m\u001b[1;33m\u001b[0m\u001b[0m\n\u001b[0;32m    547\u001b[0m                 \u001b[0mdbapi_args\u001b[0m\u001b[1;33m[\u001b[0m\u001b[0mk\u001b[0m\u001b[1;33m]\u001b[0m \u001b[1;33m=\u001b[0m \u001b[0mpop_kwarg\u001b[0m\u001b[1;33m(\u001b[0m\u001b[0mk\u001b[0m\u001b[1;33m)\u001b[0m\u001b[1;33m\u001b[0m\u001b[1;33m\u001b[0m\u001b[0m\n\u001b[1;32m--> 548\u001b[1;33m         \u001b[0mdbapi\u001b[0m \u001b[1;33m=\u001b[0m \u001b[0mdialect_cls\u001b[0m\u001b[1;33m.\u001b[0m\u001b[0mdbapi\u001b[0m\u001b[1;33m(\u001b[0m\u001b[1;33m**\u001b[0m\u001b[0mdbapi_args\u001b[0m\u001b[1;33m)\u001b[0m\u001b[1;33m\u001b[0m\u001b[1;33m\u001b[0m\u001b[0m\n\u001b[0m\u001b[0;32m    549\u001b[0m \u001b[1;33m\u001b[0m\u001b[0m\n\u001b[0;32m    550\u001b[0m     \u001b[0mdialect_args\u001b[0m\u001b[1;33m[\u001b[0m\u001b[1;34m\"dbapi\"\u001b[0m\u001b[1;33m]\u001b[0m \u001b[1;33m=\u001b[0m \u001b[0mdbapi\u001b[0m\u001b[1;33m\u001b[0m\u001b[1;33m\u001b[0m\u001b[0m\n",
      "\u001b[1;32mC:\\Anaconda38\\lib\\site-packages\\sqlalchemy\\dialects\\postgresql\\psycopg2.py\u001b[0m in \u001b[0;36mdbapi\u001b[1;34m(cls)\u001b[0m\n\u001b[0;32m    751\u001b[0m     \u001b[1;33m@\u001b[0m\u001b[0mclassmethod\u001b[0m\u001b[1;33m\u001b[0m\u001b[1;33m\u001b[0m\u001b[0m\n\u001b[0;32m    752\u001b[0m     \u001b[1;32mdef\u001b[0m \u001b[0mdbapi\u001b[0m\u001b[1;33m(\u001b[0m\u001b[0mcls\u001b[0m\u001b[1;33m)\u001b[0m\u001b[1;33m:\u001b[0m\u001b[1;33m\u001b[0m\u001b[1;33m\u001b[0m\u001b[0m\n\u001b[1;32m--> 753\u001b[1;33m         \u001b[1;32mimport\u001b[0m \u001b[0mpsycopg2\u001b[0m\u001b[1;33m\u001b[0m\u001b[1;33m\u001b[0m\u001b[0m\n\u001b[0m\u001b[0;32m    754\u001b[0m \u001b[1;33m\u001b[0m\u001b[0m\n\u001b[0;32m    755\u001b[0m         \u001b[1;32mreturn\u001b[0m \u001b[0mpsycopg2\u001b[0m\u001b[1;33m\u001b[0m\u001b[1;33m\u001b[0m\u001b[0m\n",
      "\u001b[1;31mModuleNotFoundError\u001b[0m: No module named 'psycopg2'"
     ]
    }
   ],
   "source": [
    "engine = create_engine(f\"postgresql://{user}:{password}@{host}/{database}\")\n",
    "\n",
    "conn = engine.connect()"
   ]
  },
  {
   "cell_type": "code",
   "execution_count": null,
   "id": "1ec39c87",
   "metadata": {},
   "outputs": [],
   "source": []
  },
  {
   "cell_type": "code",
   "execution_count": null,
   "id": "87be9fda",
   "metadata": {},
   "outputs": [],
   "source": []
  },
  {
   "cell_type": "code",
   "execution_count": null,
   "id": "78348827",
   "metadata": {},
   "outputs": [],
   "source": []
  },
  {
   "cell_type": "code",
   "execution_count": null,
   "id": "41343cbe",
   "metadata": {},
   "outputs": [],
   "source": []
  },
  {
   "cell_type": "code",
   "execution_count": null,
   "id": "70d80517",
   "metadata": {},
   "outputs": [],
   "source": []
  },
  {
   "cell_type": "code",
   "execution_count": null,
   "id": "7f7d6f34",
   "metadata": {},
   "outputs": [],
   "source": []
  },
  {
   "cell_type": "code",
   "execution_count": null,
   "id": "9096883f",
   "metadata": {},
   "outputs": [],
   "source": []
  },
  {
   "cell_type": "code",
   "execution_count": null,
   "id": "f39a39ce",
   "metadata": {},
   "outputs": [],
   "source": []
  },
  {
   "cell_type": "code",
   "execution_count": 12,
   "id": "bf428cc0",
   "metadata": {
    "id": "bf428cc0"
   },
   "outputs": [],
   "source": [
    "# ! pip install keras_tuner\n",
    "import pandas as pd\n",
    "import numpy as np\n",
    "from sklearn.linear_model import LogisticRegression\n",
    "from matplotlib import pyplot as plt\n",
    "import seaborn as sns\n",
    "from sklearn.preprocessing import StandardScaler, MinMaxScaler, LabelEncoder\n",
    "from sklearn.model_selection import train_test_split\n",
    "from sklearn.tree import DecisionTreeClassifier, plot_tree\n",
    "from sklearn import metrics\n",
    "from sklearn import preprocessing\n",
    "from sklearn.ensemble import RandomForestClassifier\n",
    "import warnings\n",
    "warnings.filterwarnings('ignore')\n",
    "from sklearn.pipeline import Pipeline\n",
    "from sklearn.model_selection import cross_validate\n",
    "from sklearn.metrics import f1_score\n",
    "import datetime"
   ]
  },
  {
   "cell_type": "code",
   "execution_count": 13,
   "id": "46a63c78",
   "metadata": {
    "colab": {
     "base_uri": "https://localhost:8080/"
    },
    "id": "46a63c78",
    "outputId": "3b6bb655-3a1a-44aa-fea2-0a6916ba6d6a",
    "scrolled": true
   },
   "outputs": [
    {
     "data": {
      "text/html": [
       "<div>\n",
       "<style scoped>\n",
       "    .dataframe tbody tr th:only-of-type {\n",
       "        vertical-align: middle;\n",
       "    }\n",
       "\n",
       "    .dataframe tbody tr th {\n",
       "        vertical-align: top;\n",
       "    }\n",
       "\n",
       "    .dataframe thead th {\n",
       "        text-align: right;\n",
       "    }\n",
       "</style>\n",
       "<table border=\"1\" class=\"dataframe\">\n",
       "  <thead>\n",
       "    <tr style=\"text-align: right;\">\n",
       "      <th></th>\n",
       "      <th>race_ID</th>\n",
       "      <th>Date</th>\n",
       "      <th>course</th>\n",
       "      <th>race_name</th>\n",
       "      <th>Distance_covered</th>\n",
       "      <th>Track_condition</th>\n",
       "      <th>season</th>\n",
       "      <th>race_group</th>\n",
       "      <th>race_type</th>\n",
       "      <th>Race_Money</th>\n",
       "      <th>...</th>\n",
       "      <th>age</th>\n",
       "      <th>Weight</th>\n",
       "      <th>Gear</th>\n",
       "      <th>Top_speed</th>\n",
       "      <th>sire</th>\n",
       "      <th>dam</th>\n",
       "      <th>damsire</th>\n",
       "      <th>comment</th>\n",
       "      <th>Winner</th>\n",
       "      <th>prize_money</th>\n",
       "    </tr>\n",
       "  </thead>\n",
       "  <tbody>\n",
       "    <tr>\n",
       "      <th>0</th>\n",
       "      <td>RID1169-IE-05</td>\n",
       "      <td>2005-06-02</td>\n",
       "      <td>other</td>\n",
       "      <td>Sheilas Cottage (Mares) Maiden Hurdle</td>\n",
       "      <td>3200</td>\n",
       "      <td>other</td>\n",
       "      <td>5</td>\n",
       "      <td>Hurdle</td>\n",
       "      <td>Handicap</td>\n",
       "      <td>11568.0</td>\n",
       "      <td>...</td>\n",
       "      <td>5</td>\n",
       "      <td>157</td>\n",
       "      <td>t</td>\n",
       "      <td>93.0</td>\n",
       "      <td>Desert Style (IRE)</td>\n",
       "      <td>Lough N Uisce (IRE)</td>\n",
       "      <td>Boyne Valley</td>\n",
       "      <td>Held up - progress into mid-division halfway -...</td>\n",
       "      <td>0</td>\n",
       "      <td>852.0</td>\n",
       "    </tr>\n",
       "    <tr>\n",
       "      <th>1</th>\n",
       "      <td>RID1169-IE-05</td>\n",
       "      <td>2005-06-02</td>\n",
       "      <td>other</td>\n",
       "      <td>Sheilas Cottage (Mares) Maiden Hurdle</td>\n",
       "      <td>3200</td>\n",
       "      <td>other</td>\n",
       "      <td>5</td>\n",
       "      <td>Hurdle</td>\n",
       "      <td>Handicap</td>\n",
       "      <td>11568.0</td>\n",
       "      <td>...</td>\n",
       "      <td>4</td>\n",
       "      <td>150</td>\n",
       "      <td>t</td>\n",
       "      <td>79.0</td>\n",
       "      <td>Bob Back (USA)</td>\n",
       "      <td>Guest Cailin (IRE)</td>\n",
       "      <td>Be My Guest</td>\n",
       "      <td>Mid-division 8th approaching 3 out - 6th after...</td>\n",
       "      <td>0</td>\n",
       "      <td>0.0</td>\n",
       "    </tr>\n",
       "  </tbody>\n",
       "</table>\n",
       "<p>2 rows × 24 columns</p>\n",
       "</div>"
      ],
      "text/plain": [
       "         race_ID        Date course                              race_name  \\\n",
       "0  RID1169-IE-05  2005-06-02  other  Sheilas Cottage (Mares) Maiden Hurdle   \n",
       "1  RID1169-IE-05  2005-06-02  other  Sheilas Cottage (Mares) Maiden Hurdle   \n",
       "\n",
       "   Distance_covered Track_condition  season race_group race_type  Race_Money  \\\n",
       "0              3200           other       5     Hurdle  Handicap     11568.0   \n",
       "1              3200           other       5     Hurdle  Handicap     11568.0   \n",
       "\n",
       "   ... age Weight Gear  Top_speed                sire                  dam  \\\n",
       "0  ...   5    157    t       93.0  Desert Style (IRE)  Lough N Uisce (IRE)   \n",
       "1  ...   4    150    t       79.0      Bob Back (USA)   Guest Cailin (IRE)   \n",
       "\n",
       "        damsire                                            comment Winner  \\\n",
       "0  Boyne Valley  Held up - progress into mid-division halfway -...      0   \n",
       "1   Be My Guest  Mid-division 8th approaching 3 out - 6th after...      0   \n",
       "\n",
       "  prize_money  \n",
       "0       852.0  \n",
       "1         0.0  \n",
       "\n",
       "[2 rows x 24 columns]"
      ]
     },
     "execution_count": 13,
     "metadata": {},
     "output_type": "execute_result"
    }
   ],
   "source": [
    "f = './Resources/horse_databases.csv'\n",
    "new_df = pd.read_csv(f)\n",
    "new_df.head(2)"
   ]
  },
  {
   "cell_type": "code",
   "execution_count": 18,
   "id": "2a66ce90",
   "metadata": {
    "scrolled": true
   },
   "outputs": [
    {
     "data": {
      "text/html": [
       "<div>\n",
       "<style scoped>\n",
       "    .dataframe tbody tr th:only-of-type {\n",
       "        vertical-align: middle;\n",
       "    }\n",
       "\n",
       "    .dataframe tbody tr th {\n",
       "        vertical-align: top;\n",
       "    }\n",
       "\n",
       "    .dataframe thead th {\n",
       "        text-align: right;\n",
       "    }\n",
       "</style>\n",
       "<table border=\"1\" class=\"dataframe\">\n",
       "  <thead>\n",
       "    <tr style=\"text-align: right;\">\n",
       "      <th></th>\n",
       "      <th>Date</th>\n",
       "      <th>course</th>\n",
       "      <th>Distance_covered</th>\n",
       "      <th>Track_condition</th>\n",
       "      <th>race_group</th>\n",
       "      <th>race_type</th>\n",
       "      <th>Race_Money</th>\n",
       "      <th>Trainer</th>\n",
       "      <th>Jockey</th>\n",
       "      <th>Track_position</th>\n",
       "      <th>age</th>\n",
       "      <th>Weight</th>\n",
       "      <th>Gear</th>\n",
       "      <th>Top_speed</th>\n",
       "      <th>Winner</th>\n",
       "      <th>prize_money</th>\n",
       "    </tr>\n",
       "  </thead>\n",
       "  <tbody>\n",
       "    <tr>\n",
       "      <th>0</th>\n",
       "      <td>2005-06-02</td>\n",
       "      <td>other</td>\n",
       "      <td>3200</td>\n",
       "      <td>other</td>\n",
       "      <td>Hurdle</td>\n",
       "      <td>Handicap</td>\n",
       "      <td>11568.0</td>\n",
       "      <td>other</td>\n",
       "      <td>other</td>\n",
       "      <td>3.0</td>\n",
       "      <td>5</td>\n",
       "      <td>157</td>\n",
       "      <td>t</td>\n",
       "      <td>93.0</td>\n",
       "      <td>0</td>\n",
       "      <td>852.0</td>\n",
       "    </tr>\n",
       "    <tr>\n",
       "      <th>1</th>\n",
       "      <td>2005-06-02</td>\n",
       "      <td>other</td>\n",
       "      <td>3200</td>\n",
       "      <td>other</td>\n",
       "      <td>Hurdle</td>\n",
       "      <td>Handicap</td>\n",
       "      <td>11568.0</td>\n",
       "      <td>other</td>\n",
       "      <td>other</td>\n",
       "      <td>5.0</td>\n",
       "      <td>4</td>\n",
       "      <td>150</td>\n",
       "      <td>t</td>\n",
       "      <td>79.0</td>\n",
       "      <td>0</td>\n",
       "      <td>0.0</td>\n",
       "    </tr>\n",
       "    <tr>\n",
       "      <th>2</th>\n",
       "      <td>2005-12-29</td>\n",
       "      <td>other</td>\n",
       "      <td>3600</td>\n",
       "      <td>other</td>\n",
       "      <td>Bumper</td>\n",
       "      <td>Even</td>\n",
       "      <td>10122.0</td>\n",
       "      <td>other</td>\n",
       "      <td>other</td>\n",
       "      <td>2.0</td>\n",
       "      <td>5</td>\n",
       "      <td>161</td>\n",
       "      <td>t</td>\n",
       "      <td>36.0</td>\n",
       "      <td>0</td>\n",
       "      <td>1690.5</td>\n",
       "    </tr>\n",
       "    <tr>\n",
       "      <th>3</th>\n",
       "      <td>2005-12-11</td>\n",
       "      <td>other</td>\n",
       "      <td>3200</td>\n",
       "      <td>other</td>\n",
       "      <td>Hurdle</td>\n",
       "      <td>Handicap</td>\n",
       "      <td>12532.0</td>\n",
       "      <td>other</td>\n",
       "      <td>other</td>\n",
       "      <td>1.0</td>\n",
       "      <td>4</td>\n",
       "      <td>161</td>\n",
       "      <td>t</td>\n",
       "      <td>33.0</td>\n",
       "      <td>1</td>\n",
       "      <td>8983.0</td>\n",
       "    </tr>\n",
       "    <tr>\n",
       "      <th>4</th>\n",
       "      <td>2006-04-16</td>\n",
       "      <td>other</td>\n",
       "      <td>3200</td>\n",
       "      <td>other</td>\n",
       "      <td>Hurdle</td>\n",
       "      <td>Handicap</td>\n",
       "      <td>21690.0</td>\n",
       "      <td>other</td>\n",
       "      <td>other</td>\n",
       "      <td>4.0</td>\n",
       "      <td>5</td>\n",
       "      <td>134</td>\n",
       "      <td>t</td>\n",
       "      <td>89.0</td>\n",
       "      <td>0</td>\n",
       "      <td>697.5</td>\n",
       "    </tr>\n",
       "  </tbody>\n",
       "</table>\n",
       "</div>"
      ],
      "text/plain": [
       "         Date course  Distance_covered Track_condition race_group race_type  \\\n",
       "0  2005-06-02  other              3200           other     Hurdle  Handicap   \n",
       "1  2005-06-02  other              3200           other     Hurdle  Handicap   \n",
       "2  2005-12-29  other              3600           other     Bumper      Even   \n",
       "3  2005-12-11  other              3200           other     Hurdle  Handicap   \n",
       "4  2006-04-16  other              3200           other     Hurdle  Handicap   \n",
       "\n",
       "   Race_Money Trainer Jockey  Track_position  age  Weight Gear  Top_speed  \\\n",
       "0     11568.0   other  other             3.0    5     157    t       93.0   \n",
       "1     11568.0   other  other             5.0    4     150    t       79.0   \n",
       "2     10122.0   other  other             2.0    5     161    t       36.0   \n",
       "3     12532.0   other  other             1.0    4     161    t       33.0   \n",
       "4     21690.0   other  other             4.0    5     134    t       89.0   \n",
       "\n",
       "   Winner  prize_money  \n",
       "0       0        852.0  \n",
       "1       0          0.0  \n",
       "2       0       1690.5  \n",
       "3       1       8983.0  \n",
       "4       0        697.5  "
      ]
     },
     "execution_count": 18,
     "metadata": {},
     "output_type": "execute_result"
    }
   ],
   "source": [
    "# Drop features or data that will not contribute most to the prediction variable\n",
    "new1_df = new_df.drop(['race_ID','season','sire','dam','damsire','comment','race_name','horse_name'],axis=1)\n",
    "new1_df.head(5)"
   ]
  },
  {
   "cell_type": "code",
   "execution_count": 19,
   "id": "826f73fd",
   "metadata": {},
   "outputs": [
    {
     "data": {
      "text/plain": [
       "Date                 object\n",
       "course               object\n",
       "Distance_covered      int64\n",
       "Track_condition      object\n",
       "race_group           object\n",
       "race_type            object\n",
       "Race_Money          float64\n",
       "Trainer              object\n",
       "Jockey               object\n",
       "Track_position      float64\n",
       "age                   int64\n",
       "Weight                int64\n",
       "Gear                 object\n",
       "Top_speed           float64\n",
       "Winner                int64\n",
       "prize_money         float64\n",
       "dtype: object"
      ]
     },
     "execution_count": 19,
     "metadata": {},
     "output_type": "execute_result"
    }
   ],
   "source": [
    "new1_df.dtypes"
   ]
  },
  {
   "cell_type": "code",
   "execution_count": 21,
   "id": "Wp73vNMU6sFY",
   "metadata": {
    "colab": {
     "base_uri": "https://localhost:8080/"
    },
    "id": "Wp73vNMU6sFY",
    "outputId": "a341f575-0e8f-4041-9040-9f3493eecf5d"
   },
   "outputs": [
    {
     "data": {
      "text/plain": [
       "(140439, 16)"
      ]
     },
     "execution_count": 21,
     "metadata": {},
     "output_type": "execute_result"
    }
   ],
   "source": [
    "new1_df.shape"
   ]
  },
  {
   "cell_type": "code",
   "execution_count": 22,
   "id": "9930f77c",
   "metadata": {
    "scrolled": true
   },
   "outputs": [
    {
     "data": {
      "text/html": [
       "<div>\n",
       "<style scoped>\n",
       "    .dataframe tbody tr th:only-of-type {\n",
       "        vertical-align: middle;\n",
       "    }\n",
       "\n",
       "    .dataframe tbody tr th {\n",
       "        vertical-align: top;\n",
       "    }\n",
       "\n",
       "    .dataframe thead th {\n",
       "        text-align: right;\n",
       "    }\n",
       "</style>\n",
       "<table border=\"1\" class=\"dataframe\">\n",
       "  <thead>\n",
       "    <tr style=\"text-align: right;\">\n",
       "      <th></th>\n",
       "      <th>course</th>\n",
       "      <th>Distance_covered</th>\n",
       "      <th>Track_condition</th>\n",
       "      <th>race_group</th>\n",
       "      <th>race_type</th>\n",
       "      <th>Race_Money</th>\n",
       "      <th>Trainer</th>\n",
       "      <th>Jockey</th>\n",
       "      <th>Track_position</th>\n",
       "      <th>age</th>\n",
       "      <th>Weight</th>\n",
       "      <th>Gear</th>\n",
       "      <th>Top_speed</th>\n",
       "      <th>Winner</th>\n",
       "      <th>prize_money</th>\n",
       "    </tr>\n",
       "    <tr>\n",
       "      <th>Date</th>\n",
       "      <th></th>\n",
       "      <th></th>\n",
       "      <th></th>\n",
       "      <th></th>\n",
       "      <th></th>\n",
       "      <th></th>\n",
       "      <th></th>\n",
       "      <th></th>\n",
       "      <th></th>\n",
       "      <th></th>\n",
       "      <th></th>\n",
       "      <th></th>\n",
       "      <th></th>\n",
       "      <th></th>\n",
       "      <th></th>\n",
       "    </tr>\n",
       "  </thead>\n",
       "  <tbody>\n",
       "    <tr>\n",
       "      <th>2005-06-02</th>\n",
       "      <td>other</td>\n",
       "      <td>3200</td>\n",
       "      <td>other</td>\n",
       "      <td>Hurdle</td>\n",
       "      <td>Handicap</td>\n",
       "      <td>11568.0</td>\n",
       "      <td>other</td>\n",
       "      <td>other</td>\n",
       "      <td>3.0</td>\n",
       "      <td>5</td>\n",
       "      <td>157</td>\n",
       "      <td>t</td>\n",
       "      <td>93.0</td>\n",
       "      <td>0</td>\n",
       "      <td>852.0</td>\n",
       "    </tr>\n",
       "    <tr>\n",
       "      <th>2005-06-02</th>\n",
       "      <td>other</td>\n",
       "      <td>3200</td>\n",
       "      <td>other</td>\n",
       "      <td>Hurdle</td>\n",
       "      <td>Handicap</td>\n",
       "      <td>11568.0</td>\n",
       "      <td>other</td>\n",
       "      <td>other</td>\n",
       "      <td>5.0</td>\n",
       "      <td>4</td>\n",
       "      <td>150</td>\n",
       "      <td>t</td>\n",
       "      <td>79.0</td>\n",
       "      <td>0</td>\n",
       "      <td>0.0</td>\n",
       "    </tr>\n",
       "  </tbody>\n",
       "</table>\n",
       "</div>"
      ],
      "text/plain": [
       "           course  Distance_covered Track_condition race_group race_type  \\\n",
       "Date                                                                       \n",
       "2005-06-02  other              3200           other     Hurdle  Handicap   \n",
       "2005-06-02  other              3200           other     Hurdle  Handicap   \n",
       "\n",
       "            Race_Money Trainer Jockey  Track_position  age  Weight Gear  \\\n",
       "Date                                                                      \n",
       "2005-06-02     11568.0   other  other             3.0    5     157    t   \n",
       "2005-06-02     11568.0   other  other             5.0    4     150    t   \n",
       "\n",
       "            Top_speed  Winner  prize_money  \n",
       "Date                                        \n",
       "2005-06-02       93.0       0        852.0  \n",
       "2005-06-02       79.0       0          0.0  "
      ]
     },
     "execution_count": 22,
     "metadata": {},
     "output_type": "execute_result"
    }
   ],
   "source": [
    "new1_df.set_index('Date').head(2)"
   ]
  },
  {
   "cell_type": "code",
   "execution_count": 24,
   "id": "57eae291",
   "metadata": {
    "scrolled": false
   },
   "outputs": [
    {
     "data": {
      "text/html": [
       "<div>\n",
       "<style scoped>\n",
       "    .dataframe tbody tr th:only-of-type {\n",
       "        vertical-align: middle;\n",
       "    }\n",
       "\n",
       "    .dataframe tbody tr th {\n",
       "        vertical-align: top;\n",
       "    }\n",
       "\n",
       "    .dataframe thead th {\n",
       "        text-align: right;\n",
       "    }\n",
       "</style>\n",
       "<table border=\"1\" class=\"dataframe\">\n",
       "  <thead>\n",
       "    <tr style=\"text-align: right;\">\n",
       "      <th></th>\n",
       "      <th>Date</th>\n",
       "      <th>course</th>\n",
       "      <th>Distance_covered</th>\n",
       "      <th>Track_condition</th>\n",
       "      <th>race_group</th>\n",
       "      <th>race_type</th>\n",
       "      <th>Race_Money</th>\n",
       "      <th>Trainer</th>\n",
       "      <th>Jockey</th>\n",
       "      <th>Track_position</th>\n",
       "      <th>age</th>\n",
       "      <th>Weight</th>\n",
       "      <th>Gear</th>\n",
       "      <th>Top_speed</th>\n",
       "      <th>Winner</th>\n",
       "      <th>prize_money</th>\n",
       "    </tr>\n",
       "  </thead>\n",
       "  <tbody>\n",
       "    <tr>\n",
       "      <th>0</th>\n",
       "      <td>2005-06-02</td>\n",
       "      <td>other</td>\n",
       "      <td>3200</td>\n",
       "      <td>other</td>\n",
       "      <td>Hurdle</td>\n",
       "      <td>Handicap</td>\n",
       "      <td>11568.0</td>\n",
       "      <td>other</td>\n",
       "      <td>other</td>\n",
       "      <td>3.0</td>\n",
       "      <td>5</td>\n",
       "      <td>157</td>\n",
       "      <td>t</td>\n",
       "      <td>93.0</td>\n",
       "      <td>0</td>\n",
       "      <td>852.0</td>\n",
       "    </tr>\n",
       "    <tr>\n",
       "      <th>1</th>\n",
       "      <td>2005-06-02</td>\n",
       "      <td>other</td>\n",
       "      <td>3200</td>\n",
       "      <td>other</td>\n",
       "      <td>Hurdle</td>\n",
       "      <td>Handicap</td>\n",
       "      <td>11568.0</td>\n",
       "      <td>other</td>\n",
       "      <td>other</td>\n",
       "      <td>5.0</td>\n",
       "      <td>4</td>\n",
       "      <td>150</td>\n",
       "      <td>t</td>\n",
       "      <td>79.0</td>\n",
       "      <td>0</td>\n",
       "      <td>0.0</td>\n",
       "    </tr>\n",
       "  </tbody>\n",
       "</table>\n",
       "</div>"
      ],
      "text/plain": [
       "         Date course  Distance_covered Track_condition race_group race_type  \\\n",
       "0  2005-06-02  other              3200           other     Hurdle  Handicap   \n",
       "1  2005-06-02  other              3200           other     Hurdle  Handicap   \n",
       "\n",
       "   Race_Money Trainer Jockey  Track_position  age  Weight Gear  Top_speed  \\\n",
       "0     11568.0   other  other             3.0    5     157    t       93.0   \n",
       "1     11568.0   other  other             5.0    4     150    t       79.0   \n",
       "\n",
       "   Winner  prize_money  \n",
       "0       0        852.0  \n",
       "1       0          0.0  "
      ]
     },
     "execution_count": 24,
     "metadata": {},
     "output_type": "execute_result"
    }
   ],
   "source": [
    "model_df = new1_df.iloc[0:120000, :]\n",
    "model_df.head(2)"
   ]
  },
  {
   "cell_type": "code",
   "execution_count": 25,
   "id": "3ca8893f",
   "metadata": {
    "scrolled": true
   },
   "outputs": [
    {
     "data": {
      "text/html": [
       "<div>\n",
       "<style scoped>\n",
       "    .dataframe tbody tr th:only-of-type {\n",
       "        vertical-align: middle;\n",
       "    }\n",
       "\n",
       "    .dataframe tbody tr th {\n",
       "        vertical-align: top;\n",
       "    }\n",
       "\n",
       "    .dataframe thead th {\n",
       "        text-align: right;\n",
       "    }\n",
       "</style>\n",
       "<table border=\"1\" class=\"dataframe\">\n",
       "  <thead>\n",
       "    <tr style=\"text-align: right;\">\n",
       "      <th></th>\n",
       "      <th>course</th>\n",
       "      <th>Distance_covered</th>\n",
       "      <th>Track_condition</th>\n",
       "      <th>race_group</th>\n",
       "      <th>race_type</th>\n",
       "      <th>Race_Money</th>\n",
       "      <th>Trainer</th>\n",
       "      <th>Jockey</th>\n",
       "      <th>Track_position</th>\n",
       "      <th>age</th>\n",
       "      <th>Weight</th>\n",
       "      <th>Gear</th>\n",
       "      <th>Top_speed</th>\n",
       "      <th>Winner</th>\n",
       "      <th>prize_money</th>\n",
       "    </tr>\n",
       "  </thead>\n",
       "  <tbody>\n",
       "    <tr>\n",
       "      <th>0</th>\n",
       "      <td>other</td>\n",
       "      <td>3200</td>\n",
       "      <td>other</td>\n",
       "      <td>Hurdle</td>\n",
       "      <td>Handicap</td>\n",
       "      <td>11568.0</td>\n",
       "      <td>other</td>\n",
       "      <td>other</td>\n",
       "      <td>3.0</td>\n",
       "      <td>5</td>\n",
       "      <td>157</td>\n",
       "      <td>t</td>\n",
       "      <td>93.0</td>\n",
       "      <td>0</td>\n",
       "      <td>852.0</td>\n",
       "    </tr>\n",
       "    <tr>\n",
       "      <th>1</th>\n",
       "      <td>other</td>\n",
       "      <td>3200</td>\n",
       "      <td>other</td>\n",
       "      <td>Hurdle</td>\n",
       "      <td>Handicap</td>\n",
       "      <td>11568.0</td>\n",
       "      <td>other</td>\n",
       "      <td>other</td>\n",
       "      <td>5.0</td>\n",
       "      <td>4</td>\n",
       "      <td>150</td>\n",
       "      <td>t</td>\n",
       "      <td>79.0</td>\n",
       "      <td>0</td>\n",
       "      <td>0.0</td>\n",
       "    </tr>\n",
       "  </tbody>\n",
       "</table>\n",
       "</div>"
      ],
      "text/plain": [
       "  course  Distance_covered Track_condition race_group race_type  Race_Money  \\\n",
       "0  other              3200           other     Hurdle  Handicap     11568.0   \n",
       "1  other              3200           other     Hurdle  Handicap     11568.0   \n",
       "\n",
       "  Trainer Jockey  Track_position  age  Weight Gear  Top_speed  Winner  \\\n",
       "0   other  other             3.0    5     157    t       93.0       0   \n",
       "1   other  other             5.0    4     150    t       79.0       0   \n",
       "\n",
       "   prize_money  \n",
       "0        852.0  \n",
       "1          0.0  "
      ]
     },
     "execution_count": 25,
     "metadata": {},
     "output_type": "execute_result"
    }
   ],
   "source": [
    "cleaned_df = model_df.drop(['Date'], axis=1)\n",
    "\n",
    "cleaned_df.head(2)"
   ]
  },
  {
   "cell_type": "code",
   "execution_count": 26,
   "id": "55dc8151",
   "metadata": {
    "scrolled": true
   },
   "outputs": [
    {
     "data": {
      "text/html": [
       "<div>\n",
       "<style scoped>\n",
       "    .dataframe tbody tr th:only-of-type {\n",
       "        vertical-align: middle;\n",
       "    }\n",
       "\n",
       "    .dataframe tbody tr th {\n",
       "        vertical-align: top;\n",
       "    }\n",
       "\n",
       "    .dataframe thead th {\n",
       "        text-align: right;\n",
       "    }\n",
       "</style>\n",
       "<table border=\"1\" class=\"dataframe\">\n",
       "  <thead>\n",
       "    <tr style=\"text-align: right;\">\n",
       "      <th></th>\n",
       "      <th>course</th>\n",
       "      <th>Distance_covered</th>\n",
       "      <th>Track_condition</th>\n",
       "      <th>race_group</th>\n",
       "      <th>race_type</th>\n",
       "      <th>Race_Money</th>\n",
       "      <th>Trainer</th>\n",
       "      <th>Jockey</th>\n",
       "      <th>Track_position</th>\n",
       "      <th>age</th>\n",
       "      <th>Weight</th>\n",
       "      <th>Gear</th>\n",
       "      <th>Top_speed</th>\n",
       "      <th>Winner</th>\n",
       "      <th>prize_money</th>\n",
       "    </tr>\n",
       "  </thead>\n",
       "  <tbody>\n",
       "    <tr>\n",
       "      <th>3</th>\n",
       "      <td>other</td>\n",
       "      <td>3200</td>\n",
       "      <td>other</td>\n",
       "      <td>Hurdle</td>\n",
       "      <td>Handicap</td>\n",
       "      <td>12532.0</td>\n",
       "      <td>other</td>\n",
       "      <td>other</td>\n",
       "      <td>1.0</td>\n",
       "      <td>4</td>\n",
       "      <td>161</td>\n",
       "      <td>t</td>\n",
       "      <td>33.0</td>\n",
       "      <td>1</td>\n",
       "      <td>8983.0</td>\n",
       "    </tr>\n",
       "    <tr>\n",
       "      <th>11</th>\n",
       "      <td>other</td>\n",
       "      <td>4000</td>\n",
       "      <td>Soft</td>\n",
       "      <td>Hurdle</td>\n",
       "      <td>Handicap</td>\n",
       "      <td>14460.0</td>\n",
       "      <td>other</td>\n",
       "      <td>other</td>\n",
       "      <td>1.0</td>\n",
       "      <td>4</td>\n",
       "      <td>156</td>\n",
       "      <td>b</td>\n",
       "      <td>83.0</td>\n",
       "      <td>1</td>\n",
       "      <td>10365.0</td>\n",
       "    </tr>\n",
       "  </tbody>\n",
       "</table>\n",
       "</div>"
      ],
      "text/plain": [
       "   course  Distance_covered Track_condition race_group race_type  Race_Money  \\\n",
       "3   other              3200           other     Hurdle  Handicap     12532.0   \n",
       "11  other              4000            Soft     Hurdle  Handicap     14460.0   \n",
       "\n",
       "   Trainer Jockey  Track_position  age  Weight Gear  Top_speed  Winner  \\\n",
       "3    other  other             1.0    4     161    t       33.0       1   \n",
       "11   other  other             1.0    4     156    b       83.0       1   \n",
       "\n",
       "    prize_money  \n",
       "3        8983.0  \n",
       "11      10365.0  "
      ]
     },
     "execution_count": 26,
     "metadata": {},
     "output_type": "execute_result"
    }
   ],
   "source": [
    "cleaned_positive = cleaned_df[cleaned_df['Winner']==1]\n",
    "cleaned_positive.head(2)"
   ]
  },
  {
   "cell_type": "code",
   "execution_count": 27,
   "id": "7461d686",
   "metadata": {
    "scrolled": true
   },
   "outputs": [
    {
     "data": {
      "text/html": [
       "<div>\n",
       "<style scoped>\n",
       "    .dataframe tbody tr th:only-of-type {\n",
       "        vertical-align: middle;\n",
       "    }\n",
       "\n",
       "    .dataframe tbody tr th {\n",
       "        vertical-align: top;\n",
       "    }\n",
       "\n",
       "    .dataframe thead th {\n",
       "        text-align: right;\n",
       "    }\n",
       "</style>\n",
       "<table border=\"1\" class=\"dataframe\">\n",
       "  <thead>\n",
       "    <tr style=\"text-align: right;\">\n",
       "      <th></th>\n",
       "      <th>course</th>\n",
       "      <th>Distance_covered</th>\n",
       "      <th>Track_condition</th>\n",
       "      <th>race_group</th>\n",
       "      <th>race_type</th>\n",
       "      <th>Race_Money</th>\n",
       "      <th>Trainer</th>\n",
       "      <th>Jockey</th>\n",
       "      <th>Track_position</th>\n",
       "      <th>age</th>\n",
       "      <th>Weight</th>\n",
       "      <th>Gear</th>\n",
       "      <th>Top_speed</th>\n",
       "      <th>Winner</th>\n",
       "      <th>prize_money</th>\n",
       "    </tr>\n",
       "  </thead>\n",
       "  <tbody>\n",
       "    <tr>\n",
       "      <th>37970</th>\n",
       "      <td>other</td>\n",
       "      <td>4200</td>\n",
       "      <td>other</td>\n",
       "      <td>Hurdle</td>\n",
       "      <td>Even</td>\n",
       "      <td>42300.000000</td>\n",
       "      <td>Gordon Elliott</td>\n",
       "      <td>other</td>\n",
       "      <td>3.0</td>\n",
       "      <td>7</td>\n",
       "      <td>157</td>\n",
       "      <td>tp</td>\n",
       "      <td>17.0</td>\n",
       "      <td>0</td>\n",
       "      <td>4050.0</td>\n",
       "    </tr>\n",
       "    <tr>\n",
       "      <th>106768</th>\n",
       "      <td>other</td>\n",
       "      <td>4300</td>\n",
       "      <td>Soft</td>\n",
       "      <td>Hurdle</td>\n",
       "      <td>Handicap</td>\n",
       "      <td>9501.647727</td>\n",
       "      <td>other</td>\n",
       "      <td>other</td>\n",
       "      <td>8.0</td>\n",
       "      <td>8</td>\n",
       "      <td>148</td>\n",
       "      <td>p</td>\n",
       "      <td>64.0</td>\n",
       "      <td>0</td>\n",
       "      <td>0.0</td>\n",
       "    </tr>\n",
       "  </tbody>\n",
       "</table>\n",
       "</div>"
      ],
      "text/plain": [
       "       course  Distance_covered Track_condition race_group race_type  \\\n",
       "37970   other              4200           other     Hurdle      Even   \n",
       "106768  other              4300            Soft     Hurdle  Handicap   \n",
       "\n",
       "          Race_Money         Trainer Jockey  Track_position  age  Weight Gear  \\\n",
       "37970   42300.000000  Gordon Elliott  other             3.0    7     157   tp   \n",
       "106768   9501.647727           other  other             8.0    8     148    p   \n",
       "\n",
       "        Top_speed  Winner  prize_money  \n",
       "37970        17.0       0       4050.0  \n",
       "106768       64.0       0          0.0  "
      ]
     },
     "execution_count": 27,
     "metadata": {},
     "output_type": "execute_result"
    }
   ],
   "source": [
    "cleaned_neg = cleaned_df[cleaned_df['Winner']==0].sample(n=len(cleaned_positive))\n",
    "cleaned_neg.head(2)"
   ]
  },
  {
   "cell_type": "code",
   "execution_count": 28,
   "id": "8b9ef910",
   "metadata": {
    "scrolled": true
   },
   "outputs": [
    {
     "data": {
      "text/html": [
       "<div>\n",
       "<style scoped>\n",
       "    .dataframe tbody tr th:only-of-type {\n",
       "        vertical-align: middle;\n",
       "    }\n",
       "\n",
       "    .dataframe tbody tr th {\n",
       "        vertical-align: top;\n",
       "    }\n",
       "\n",
       "    .dataframe thead th {\n",
       "        text-align: right;\n",
       "    }\n",
       "</style>\n",
       "<table border=\"1\" class=\"dataframe\">\n",
       "  <thead>\n",
       "    <tr style=\"text-align: right;\">\n",
       "      <th></th>\n",
       "      <th>course</th>\n",
       "      <th>Distance_covered</th>\n",
       "      <th>Track_condition</th>\n",
       "      <th>race_group</th>\n",
       "      <th>race_type</th>\n",
       "      <th>Race_Money</th>\n",
       "      <th>Trainer</th>\n",
       "      <th>Jockey</th>\n",
       "      <th>Track_position</th>\n",
       "      <th>age</th>\n",
       "      <th>Weight</th>\n",
       "      <th>Gear</th>\n",
       "      <th>Top_speed</th>\n",
       "      <th>Winner</th>\n",
       "      <th>prize_money</th>\n",
       "    </tr>\n",
       "  </thead>\n",
       "  <tbody>\n",
       "    <tr>\n",
       "      <th>3</th>\n",
       "      <td>other</td>\n",
       "      <td>3200</td>\n",
       "      <td>other</td>\n",
       "      <td>Hurdle</td>\n",
       "      <td>Handicap</td>\n",
       "      <td>12532.0</td>\n",
       "      <td>other</td>\n",
       "      <td>other</td>\n",
       "      <td>1.0</td>\n",
       "      <td>4</td>\n",
       "      <td>161</td>\n",
       "      <td>t</td>\n",
       "      <td>33.0</td>\n",
       "      <td>1</td>\n",
       "      <td>8983.0</td>\n",
       "    </tr>\n",
       "    <tr>\n",
       "      <th>11</th>\n",
       "      <td>other</td>\n",
       "      <td>4000</td>\n",
       "      <td>Soft</td>\n",
       "      <td>Hurdle</td>\n",
       "      <td>Handicap</td>\n",
       "      <td>14460.0</td>\n",
       "      <td>other</td>\n",
       "      <td>other</td>\n",
       "      <td>1.0</td>\n",
       "      <td>4</td>\n",
       "      <td>156</td>\n",
       "      <td>b</td>\n",
       "      <td>83.0</td>\n",
       "      <td>1</td>\n",
       "      <td>10365.0</td>\n",
       "    </tr>\n",
       "  </tbody>\n",
       "</table>\n",
       "</div>"
      ],
      "text/plain": [
       "   course  Distance_covered Track_condition race_group race_type  Race_Money  \\\n",
       "3   other              3200           other     Hurdle  Handicap     12532.0   \n",
       "11  other              4000            Soft     Hurdle  Handicap     14460.0   \n",
       "\n",
       "   Trainer Jockey  Track_position  age  Weight Gear  Top_speed  Winner  \\\n",
       "3    other  other             1.0    4     161    t       33.0       1   \n",
       "11   other  other             1.0    4     156    b       83.0       1   \n",
       "\n",
       "    prize_money  \n",
       "3        8983.0  \n",
       "11      10365.0  "
      ]
     },
     "execution_count": 28,
     "metadata": {},
     "output_type": "execute_result"
    }
   ],
   "source": [
    "clean_df = pd.concat([cleaned_positive,cleaned_neg], axis=0)\n",
    "clean_df.head(2)"
   ]
  },
  {
   "cell_type": "code",
   "execution_count": 30,
   "id": "e17a30cb",
   "metadata": {},
   "outputs": [
    {
     "data": {
      "text/plain": [
       "(31282, 15)"
      ]
     },
     "execution_count": 30,
     "metadata": {},
     "output_type": "execute_result"
    }
   ],
   "source": [
    "clean_df.shape"
   ]
  },
  {
   "cell_type": "code",
   "execution_count": 74,
   "id": "a9cee040",
   "metadata": {},
   "outputs": [],
   "source": [
    "# Assign X as dataframe of the features and y as a series of the outcome variable\n",
    "#X = clean_df.drop(\"Winner\", 1) \n",
    "y = clean_df.Winner # target"
   ]
  },
  {
   "cell_type": "code",
   "execution_count": 75,
   "id": "360abb05",
   "metadata": {},
   "outputs": [],
   "source": [
    "# Assign X as dataframe of the features and y as a series of the outcome variable\n",
    "X = clean_df \n"
   ]
  },
  {
   "cell_type": "code",
   "execution_count": 76,
   "id": "9a576246",
   "metadata": {},
   "outputs": [
    {
     "data": {
      "text/plain": [
       "(31282, 15)"
      ]
     },
     "execution_count": 76,
     "metadata": {},
     "output_type": "execute_result"
    }
   ],
   "source": [
    "X.shape"
   ]
  },
  {
   "cell_type": "code",
   "execution_count": 77,
   "id": "acb6a591",
   "metadata": {},
   "outputs": [
    {
     "data": {
      "text/plain": [
       "3     1\n",
       "11    1\n",
       "Name: Winner, dtype: int64"
      ]
     },
     "execution_count": 77,
     "metadata": {},
     "output_type": "execute_result"
    }
   ],
   "source": [
    "y.head(2)"
   ]
  },
  {
   "cell_type": "code",
   "execution_count": 78,
   "id": "304ff93c",
   "metadata": {
    "scrolled": true
   },
   "outputs": [
    {
     "data": {
      "text/html": [
       "<div>\n",
       "<style scoped>\n",
       "    .dataframe tbody tr th:only-of-type {\n",
       "        vertical-align: middle;\n",
       "    }\n",
       "\n",
       "    .dataframe tbody tr th {\n",
       "        vertical-align: top;\n",
       "    }\n",
       "\n",
       "    .dataframe thead th {\n",
       "        text-align: right;\n",
       "    }\n",
       "</style>\n",
       "<table border=\"1\" class=\"dataframe\">\n",
       "  <thead>\n",
       "    <tr style=\"text-align: right;\">\n",
       "      <th></th>\n",
       "      <th>course</th>\n",
       "      <th>Distance_covered</th>\n",
       "      <th>Track_condition</th>\n",
       "      <th>race_group</th>\n",
       "      <th>race_type</th>\n",
       "      <th>Race_Money</th>\n",
       "      <th>Trainer</th>\n",
       "      <th>Jockey</th>\n",
       "      <th>Track_position</th>\n",
       "      <th>age</th>\n",
       "      <th>Weight</th>\n",
       "      <th>Gear</th>\n",
       "      <th>Top_speed</th>\n",
       "      <th>Winner</th>\n",
       "      <th>prize_money</th>\n",
       "    </tr>\n",
       "  </thead>\n",
       "  <tbody>\n",
       "    <tr>\n",
       "      <th>3</th>\n",
       "      <td>other</td>\n",
       "      <td>3200</td>\n",
       "      <td>other</td>\n",
       "      <td>Hurdle</td>\n",
       "      <td>Handicap</td>\n",
       "      <td>12532.0</td>\n",
       "      <td>other</td>\n",
       "      <td>other</td>\n",
       "      <td>1.0</td>\n",
       "      <td>4</td>\n",
       "      <td>161</td>\n",
       "      <td>t</td>\n",
       "      <td>33.0</td>\n",
       "      <td>1</td>\n",
       "      <td>8983.0</td>\n",
       "    </tr>\n",
       "    <tr>\n",
       "      <th>11</th>\n",
       "      <td>other</td>\n",
       "      <td>4000</td>\n",
       "      <td>Soft</td>\n",
       "      <td>Hurdle</td>\n",
       "      <td>Handicap</td>\n",
       "      <td>14460.0</td>\n",
       "      <td>other</td>\n",
       "      <td>other</td>\n",
       "      <td>1.0</td>\n",
       "      <td>4</td>\n",
       "      <td>156</td>\n",
       "      <td>b</td>\n",
       "      <td>83.0</td>\n",
       "      <td>1</td>\n",
       "      <td>10365.0</td>\n",
       "    </tr>\n",
       "  </tbody>\n",
       "</table>\n",
       "</div>"
      ],
      "text/plain": [
       "   course  Distance_covered Track_condition race_group race_type  Race_Money  \\\n",
       "3   other              3200           other     Hurdle  Handicap     12532.0   \n",
       "11  other              4000            Soft     Hurdle  Handicap     14460.0   \n",
       "\n",
       "   Trainer Jockey  Track_position  age  Weight Gear  Top_speed  Winner  \\\n",
       "3    other  other             1.0    4     161    t       33.0       1   \n",
       "11   other  other             1.0    4     156    b       83.0       1   \n",
       "\n",
       "    prize_money  \n",
       "3        8983.0  \n",
       "11      10365.0  "
      ]
     },
     "execution_count": 78,
     "metadata": {},
     "output_type": "execute_result"
    }
   ],
   "source": [
    "X.head(2)"
   ]
  },
  {
   "cell_type": "code",
   "execution_count": 101,
   "id": "f877af44",
   "metadata": {},
   "outputs": [
    {
     "data": {
      "text/plain": [
       "['course',\n",
       " 'Distance_covered',\n",
       " 'Track_condition',\n",
       " 'race_group',\n",
       " 'race_type',\n",
       " 'Race_Money',\n",
       " 'Trainer',\n",
       " 'Jockey',\n",
       " 'Track_position',\n",
       " 'age',\n",
       " 'Weight',\n",
       " 'Gear',\n",
       " 'Top_speed',\n",
       " 'Winner',\n",
       " 'prize_money']"
      ]
     },
     "execution_count": 101,
     "metadata": {},
     "output_type": "execute_result"
    }
   ],
   "source": [
    "X.columns.tolist()"
   ]
  },
  {
   "cell_type": "code",
   "execution_count": 104,
   "id": "1f5b8ffb",
   "metadata": {
    "scrolled": true
   },
   "outputs": [
    {
     "data": {
      "text/html": [
       "<div>\n",
       "<style scoped>\n",
       "    .dataframe tbody tr th:only-of-type {\n",
       "        vertical-align: middle;\n",
       "    }\n",
       "\n",
       "    .dataframe tbody tr th {\n",
       "        vertical-align: top;\n",
       "    }\n",
       "\n",
       "    .dataframe thead th {\n",
       "        text-align: right;\n",
       "    }\n",
       "</style>\n",
       "<table border=\"1\" class=\"dataframe\">\n",
       "  <thead>\n",
       "    <tr style=\"text-align: right;\">\n",
       "      <th></th>\n",
       "      <th>course</th>\n",
       "      <th>Distance_covered</th>\n",
       "      <th>Track_condition</th>\n",
       "      <th>race_group</th>\n",
       "      <th>race_type</th>\n",
       "      <th>Race_Money</th>\n",
       "      <th>Trainer</th>\n",
       "      <th>Jockey</th>\n",
       "      <th>Track_position</th>\n",
       "      <th>age</th>\n",
       "      <th>Weight</th>\n",
       "      <th>Gear</th>\n",
       "      <th>Top_speed</th>\n",
       "      <th>prize_money</th>\n",
       "      <th>Winner</th>\n",
       "    </tr>\n",
       "  </thead>\n",
       "  <tbody>\n",
       "    <tr>\n",
       "      <th>3</th>\n",
       "      <td>other</td>\n",
       "      <td>3200</td>\n",
       "      <td>other</td>\n",
       "      <td>Hurdle</td>\n",
       "      <td>Handicap</td>\n",
       "      <td>12532.000000</td>\n",
       "      <td>other</td>\n",
       "      <td>other</td>\n",
       "      <td>1.0</td>\n",
       "      <td>4</td>\n",
       "      <td>161</td>\n",
       "      <td>t</td>\n",
       "      <td>33.0</td>\n",
       "      <td>8983.000000</td>\n",
       "      <td>1</td>\n",
       "    </tr>\n",
       "    <tr>\n",
       "      <th>11</th>\n",
       "      <td>other</td>\n",
       "      <td>4000</td>\n",
       "      <td>Soft</td>\n",
       "      <td>Hurdle</td>\n",
       "      <td>Handicap</td>\n",
       "      <td>14460.000000</td>\n",
       "      <td>other</td>\n",
       "      <td>other</td>\n",
       "      <td>1.0</td>\n",
       "      <td>4</td>\n",
       "      <td>156</td>\n",
       "      <td>b</td>\n",
       "      <td>83.0</td>\n",
       "      <td>10365.000000</td>\n",
       "      <td>1</td>\n",
       "    </tr>\n",
       "    <tr>\n",
       "      <th>19</th>\n",
       "      <td>other</td>\n",
       "      <td>3200</td>\n",
       "      <td>Soft</td>\n",
       "      <td>Hurdle</td>\n",
       "      <td>Handicap</td>\n",
       "      <td>12050.000000</td>\n",
       "      <td>other</td>\n",
       "      <td>other</td>\n",
       "      <td>1.0</td>\n",
       "      <td>8</td>\n",
       "      <td>150</td>\n",
       "      <td>b</td>\n",
       "      <td>45.0</td>\n",
       "      <td>8637.500000</td>\n",
       "      <td>1</td>\n",
       "    </tr>\n",
       "    <tr>\n",
       "      <th>23</th>\n",
       "      <td>other</td>\n",
       "      <td>4000</td>\n",
       "      <td>Soft</td>\n",
       "      <td>Hurdle</td>\n",
       "      <td>Handicap</td>\n",
       "      <td>12050.000000</td>\n",
       "      <td>other</td>\n",
       "      <td>other</td>\n",
       "      <td>1.0</td>\n",
       "      <td>6</td>\n",
       "      <td>145</td>\n",
       "      <td>t</td>\n",
       "      <td>44.0</td>\n",
       "      <td>8637.500000</td>\n",
       "      <td>1</td>\n",
       "    </tr>\n",
       "    <tr>\n",
       "      <th>28</th>\n",
       "      <td>other</td>\n",
       "      <td>4600</td>\n",
       "      <td>other</td>\n",
       "      <td>Chase</td>\n",
       "      <td>Even</td>\n",
       "      <td>7712.000000</td>\n",
       "      <td>other</td>\n",
       "      <td>other</td>\n",
       "      <td>1.0</td>\n",
       "      <td>9</td>\n",
       "      <td>154</td>\n",
       "      <td>t</td>\n",
       "      <td>103.0</td>\n",
       "      <td>5528.000000</td>\n",
       "      <td>1</td>\n",
       "    </tr>\n",
       "    <tr>\n",
       "      <th>...</th>\n",
       "      <td>...</td>\n",
       "      <td>...</td>\n",
       "      <td>...</td>\n",
       "      <td>...</td>\n",
       "      <td>...</td>\n",
       "      <td>...</td>\n",
       "      <td>...</td>\n",
       "      <td>...</td>\n",
       "      <td>...</td>\n",
       "      <td>...</td>\n",
       "      <td>...</td>\n",
       "      <td>...</td>\n",
       "      <td>...</td>\n",
       "      <td>...</td>\n",
       "      <td>...</td>\n",
       "    </tr>\n",
       "    <tr>\n",
       "      <th>25706</th>\n",
       "      <td>other</td>\n",
       "      <td>4600</td>\n",
       "      <td>Good</td>\n",
       "      <td>Chase</td>\n",
       "      <td>Handicap</td>\n",
       "      <td>8160.000000</td>\n",
       "      <td>other</td>\n",
       "      <td>other</td>\n",
       "      <td>7.0</td>\n",
       "      <td>9</td>\n",
       "      <td>153</td>\n",
       "      <td>other</td>\n",
       "      <td>40.0</td>\n",
       "      <td>0.000000</td>\n",
       "      <td>0</td>\n",
       "    </tr>\n",
       "    <tr>\n",
       "      <th>67247</th>\n",
       "      <td>other</td>\n",
       "      <td>4800</td>\n",
       "      <td>Soft</td>\n",
       "      <td>Chase</td>\n",
       "      <td>Handicap</td>\n",
       "      <td>11189.772727</td>\n",
       "      <td>other</td>\n",
       "      <td>other</td>\n",
       "      <td>4.0</td>\n",
       "      <td>8</td>\n",
       "      <td>153</td>\n",
       "      <td>b</td>\n",
       "      <td>100.0</td>\n",
       "      <td>542.045455</td>\n",
       "      <td>0</td>\n",
       "    </tr>\n",
       "    <tr>\n",
       "      <th>20572</th>\n",
       "      <td>other</td>\n",
       "      <td>3200</td>\n",
       "      <td>other</td>\n",
       "      <td>Hurdle</td>\n",
       "      <td>Handicap</td>\n",
       "      <td>7200.000000</td>\n",
       "      <td>other</td>\n",
       "      <td>other</td>\n",
       "      <td>8.0</td>\n",
       "      <td>6</td>\n",
       "      <td>151</td>\n",
       "      <td>tp</td>\n",
       "      <td>28.0</td>\n",
       "      <td>0.000000</td>\n",
       "      <td>0</td>\n",
       "    </tr>\n",
       "    <tr>\n",
       "      <th>84544</th>\n",
       "      <td>other</td>\n",
       "      <td>3600</td>\n",
       "      <td>other</td>\n",
       "      <td>Hurdle</td>\n",
       "      <td>Handicap</td>\n",
       "      <td>2906.386364</td>\n",
       "      <td>other</td>\n",
       "      <td>other</td>\n",
       "      <td>2.0</td>\n",
       "      <td>7</td>\n",
       "      <td>166</td>\n",
       "      <td>tp</td>\n",
       "      <td>106.0</td>\n",
       "      <td>563.727273</td>\n",
       "      <td>0</td>\n",
       "    </tr>\n",
       "    <tr>\n",
       "      <th>32452</th>\n",
       "      <td>other</td>\n",
       "      <td>4000</td>\n",
       "      <td>Good</td>\n",
       "      <td>Hurdle</td>\n",
       "      <td>Handicap</td>\n",
       "      <td>11400.000000</td>\n",
       "      <td>other</td>\n",
       "      <td>other</td>\n",
       "      <td>8.0</td>\n",
       "      <td>7</td>\n",
       "      <td>151</td>\n",
       "      <td>t</td>\n",
       "      <td>79.0</td>\n",
       "      <td>0.000000</td>\n",
       "      <td>0</td>\n",
       "    </tr>\n",
       "  </tbody>\n",
       "</table>\n",
       "<p>31282 rows × 15 columns</p>\n",
       "</div>"
      ],
      "text/plain": [
       "      course  Distance_covered Track_condition race_group race_type  \\\n",
       "3      other              3200           other     Hurdle  Handicap   \n",
       "11     other              4000            Soft     Hurdle  Handicap   \n",
       "19     other              3200            Soft     Hurdle  Handicap   \n",
       "23     other              4000            Soft     Hurdle  Handicap   \n",
       "28     other              4600           other      Chase      Even   \n",
       "...      ...               ...             ...        ...       ...   \n",
       "25706  other              4600            Good      Chase  Handicap   \n",
       "67247  other              4800            Soft      Chase  Handicap   \n",
       "20572  other              3200           other     Hurdle  Handicap   \n",
       "84544  other              3600           other     Hurdle  Handicap   \n",
       "32452  other              4000            Good     Hurdle  Handicap   \n",
       "\n",
       "         Race_Money Trainer Jockey  Track_position  age  Weight   Gear  \\\n",
       "3      12532.000000   other  other             1.0    4     161      t   \n",
       "11     14460.000000   other  other             1.0    4     156      b   \n",
       "19     12050.000000   other  other             1.0    8     150      b   \n",
       "23     12050.000000   other  other             1.0    6     145      t   \n",
       "28      7712.000000   other  other             1.0    9     154      t   \n",
       "...             ...     ...    ...             ...  ...     ...    ...   \n",
       "25706   8160.000000   other  other             7.0    9     153  other   \n",
       "67247  11189.772727   other  other             4.0    8     153      b   \n",
       "20572   7200.000000   other  other             8.0    6     151     tp   \n",
       "84544   2906.386364   other  other             2.0    7     166     tp   \n",
       "32452  11400.000000   other  other             8.0    7     151      t   \n",
       "\n",
       "       Top_speed   prize_money  Winner  \n",
       "3           33.0   8983.000000       1  \n",
       "11          83.0  10365.000000       1  \n",
       "19          45.0   8637.500000       1  \n",
       "23          44.0   8637.500000       1  \n",
       "28         103.0   5528.000000       1  \n",
       "...          ...           ...     ...  \n",
       "25706       40.0      0.000000       0  \n",
       "67247      100.0    542.045455       0  \n",
       "20572       28.0      0.000000       0  \n",
       "84544      106.0    563.727273       0  \n",
       "32452       79.0      0.000000       0  \n",
       "\n",
       "[31282 rows x 15 columns]"
      ]
     },
     "execution_count": 104,
     "metadata": {},
     "output_type": "execute_result"
    }
   ],
   "source": [
    "X =X[['course',\n",
    " 'Distance_covered',\n",
    " 'Track_condition',\n",
    " 'race_group',\n",
    " 'race_type',\n",
    " 'Race_Money',\n",
    " 'Trainer',\n",
    " 'Jockey',\n",
    " 'Track_position',\n",
    " 'age',\n",
    " 'Weight',\n",
    " 'Gear',\n",
    " 'Top_speed',\n",
    " 'prize_money',\n",
    " 'Winner']]\n",
    "X"
   ]
  },
  {
   "cell_type": "markdown",
   "id": "42efdf1f",
   "metadata": {},
   "source": [
    "## Feature Selection"
   ]
  },
  {
   "cell_type": "markdown",
   "id": "661f97e3",
   "metadata": {},
   "source": [
    "### Pearson Correlation"
   ]
  },
  {
   "cell_type": "code",
   "execution_count": 106,
   "id": "e074f48f",
   "metadata": {
    "scrolled": true
   },
   "outputs": [
    {
     "data": {
      "text/plain": [
       "<AxesSubplot:>"
      ]
     },
     "execution_count": 106,
     "metadata": {},
     "output_type": "execute_result"
    },
    {
     "data": {
      "image/png": "[encoded data removed]",
      "text/plain": [
       "<Figure size 720x432 with 2 Axes>"
      ]
     },
     "metadata": {
      "needs_background": "light"
     },
     "output_type": "display_data"
    }
   ],
   "source": [
    "%matplotlib inline\n",
    "import matplotlib.pyplot as plt\n",
    "#Correlation matrix using Pearson Correlation\n",
    "cor = X.corr()\n",
    "#plotting Heatmap\n",
    "plt.figure(figsize=(10,6))\n",
    "sns.heatmap(cor, annot = True)"
   ]
  },
  {
   "cell_type": "code",
   "execution_count": 79,
   "id": "7499ba6d",
   "metadata": {},
   "outputs": [
    {
     "data": {
      "text/plain": [
       "15"
      ]
     },
     "execution_count": 79,
     "metadata": {},
     "output_type": "execute_result"
    }
   ],
   "source": [
    "len(X.columns)"
   ]
  },
  {
   "cell_type": "code",
   "execution_count": 80,
   "id": "912b8041",
   "metadata": {},
   "outputs": [
    {
     "data": {
      "text/plain": [
       "course               object\n",
       "Distance_covered      int64\n",
       "Track_condition      object\n",
       "race_group           object\n",
       "race_type            object\n",
       "Race_Money          float64\n",
       "Trainer              object\n",
       "Jockey               object\n",
       "Track_position      float64\n",
       "age                   int64\n",
       "Weight                int64\n",
       "Gear                 object\n",
       "Top_speed           float64\n",
       "Winner                int64\n",
       "prize_money         float64\n",
       "dtype: object"
      ]
     },
     "execution_count": 80,
     "metadata": {},
     "output_type": "execute_result"
    }
   ],
   "source": [
    "X.dtypes"
   ]
  },
  {
   "cell_type": "code",
   "execution_count": 81,
   "id": "30040e03",
   "metadata": {},
   "outputs": [
    {
     "name": "stdout",
     "output_type": "stream",
     "text": [
      "Feature 'course' has 5 unique categories\n",
      "Feature 'Track_condition' has 4 unique categories\n",
      "Feature 'race_group' has 4 unique categories\n",
      "Feature 'race_type' has 2 unique categories\n",
      "Feature 'Trainer' has 3 unique categories\n",
      "Feature 'Jockey' has 3 unique categories\n",
      "Feature 'Gear' has 5 unique categories\n"
     ]
    }
   ],
   "source": [
    "# Print object variable column\n",
    "# Print object variable column\n",
    "for col_name in X.columns:\n",
    "    if X[col_name].dtypes == 'object':\n",
    "        unique_cat = len(X[col_name].unique())\n",
    "        print(\"Feature '{col_name}' has {unique_cat} unique categories\".format(col_name=col_name, unique_cat=unique_cat))"
   ]
  },
  {
   "cell_type": "code",
   "execution_count": 82,
   "id": "451c0b7d",
   "metadata": {},
   "outputs": [
    {
     "data": {
      "text/plain": [
       "array([1, 1, 1, ..., 0, 0, 0], dtype=int64)"
      ]
     },
     "execution_count": 82,
     "metadata": {},
     "output_type": "execute_result"
    }
   ],
   "source": [
    "# assign labels denoted by y to our train and test data sets\n",
    "y_label = LabelEncoder().fit_transform(clean_df[\"Winner\"])\n",
    "y_label"
   ]
  },
  {
   "cell_type": "code",
   "execution_count": 83,
   "id": "d0374fac",
   "metadata": {},
   "outputs": [
    {
     "data": {
      "text/plain": [
       "<AxesSubplot:>"
      ]
     },
     "execution_count": 83,
     "metadata": {},
     "output_type": "execute_result"
    },
    {
     "data": {
      "image/png": "[encoded data removed]",
      "text/plain": [
       "<Figure size 432x288 with 1 Axes>"
      ]
     },
     "metadata": {
      "needs_background": "light"
     },
     "output_type": "display_data"
    }
   ],
   "source": [
    "clean_df[\"Winner\"].value_counts().plot(kind=\"bar\")"
   ]
  },
  {
   "cell_type": "code",
   "execution_count": 84,
   "id": "07008813",
   "metadata": {
    "scrolled": false
   },
   "outputs": [
    {
     "data": {
      "text/html": [
       "<div>\n",
       "<style scoped>\n",
       "    .dataframe tbody tr th:only-of-type {\n",
       "        vertical-align: middle;\n",
       "    }\n",
       "\n",
       "    .dataframe tbody tr th {\n",
       "        vertical-align: top;\n",
       "    }\n",
       "\n",
       "    .dataframe thead th {\n",
       "        text-align: right;\n",
       "    }\n",
       "</style>\n",
       "<table border=\"1\" class=\"dataframe\">\n",
       "  <thead>\n",
       "    <tr style=\"text-align: right;\">\n",
       "      <th></th>\n",
       "      <th>Distance_covered</th>\n",
       "      <th>Race_Money</th>\n",
       "      <th>Track_position</th>\n",
       "      <th>age</th>\n",
       "      <th>Weight</th>\n",
       "      <th>Top_speed</th>\n",
       "      <th>Winner</th>\n",
       "      <th>prize_money</th>\n",
       "      <th>course_Fontwell</th>\n",
       "      <th>course_Uttoxeter</th>\n",
       "      <th>...</th>\n",
       "      <th>race_group_Unknown</th>\n",
       "      <th>race_type_Handicap</th>\n",
       "      <th>Trainer_Gordon Elliott</th>\n",
       "      <th>Trainer_other</th>\n",
       "      <th>Jockey_Tom Scudamore</th>\n",
       "      <th>Jockey_other</th>\n",
       "      <th>Gear_other</th>\n",
       "      <th>Gear_p</th>\n",
       "      <th>Gear_t</th>\n",
       "      <th>Gear_tp</th>\n",
       "    </tr>\n",
       "  </thead>\n",
       "  <tbody>\n",
       "    <tr>\n",
       "      <th>3</th>\n",
       "      <td>3200</td>\n",
       "      <td>12532.0</td>\n",
       "      <td>1.0</td>\n",
       "      <td>4</td>\n",
       "      <td>161</td>\n",
       "      <td>33.0</td>\n",
       "      <td>1</td>\n",
       "      <td>8983.0</td>\n",
       "      <td>0</td>\n",
       "      <td>0</td>\n",
       "      <td>...</td>\n",
       "      <td>0</td>\n",
       "      <td>1</td>\n",
       "      <td>0</td>\n",
       "      <td>1</td>\n",
       "      <td>0</td>\n",
       "      <td>1</td>\n",
       "      <td>0</td>\n",
       "      <td>0</td>\n",
       "      <td>1</td>\n",
       "      <td>0</td>\n",
       "    </tr>\n",
       "    <tr>\n",
       "      <th>11</th>\n",
       "      <td>4000</td>\n",
       "      <td>14460.0</td>\n",
       "      <td>1.0</td>\n",
       "      <td>4</td>\n",
       "      <td>156</td>\n",
       "      <td>83.0</td>\n",
       "      <td>1</td>\n",
       "      <td>10365.0</td>\n",
       "      <td>0</td>\n",
       "      <td>0</td>\n",
       "      <td>...</td>\n",
       "      <td>0</td>\n",
       "      <td>1</td>\n",
       "      <td>0</td>\n",
       "      <td>1</td>\n",
       "      <td>0</td>\n",
       "      <td>1</td>\n",
       "      <td>0</td>\n",
       "      <td>0</td>\n",
       "      <td>0</td>\n",
       "      <td>0</td>\n",
       "    </tr>\n",
       "  </tbody>\n",
       "</table>\n",
       "<p>2 rows × 27 columns</p>\n",
       "</div>"
      ],
      "text/plain": [
       "    Distance_covered  Race_Money  Track_position  age  Weight  Top_speed  \\\n",
       "3               3200     12532.0             1.0    4     161       33.0   \n",
       "11              4000     14460.0             1.0    4     156       83.0   \n",
       "\n",
       "    Winner  prize_money  course_Fontwell  course_Uttoxeter  ...  \\\n",
       "3        1       8983.0                0                 0  ...   \n",
       "11       1      10365.0                0                 0  ...   \n",
       "\n",
       "    race_group_Unknown  race_type_Handicap  Trainer_Gordon Elliott  \\\n",
       "3                    0                   1                       0   \n",
       "11                   0                   1                       0   \n",
       "\n",
       "    Trainer_other  Jockey_Tom Scudamore  Jockey_other  Gear_other  Gear_p  \\\n",
       "3               1                     0             1           0       0   \n",
       "11              1                     0             1           0       0   \n",
       "\n",
       "    Gear_t  Gear_tp  \n",
       "3        1        0  \n",
       "11       0        0  \n",
       "\n",
       "[2 rows x 27 columns]"
      ]
     },
     "execution_count": 84,
     "metadata": {},
     "output_type": "execute_result"
    }
   ],
   "source": [
    "# get_dummies for train data\n",
    "X_dum = pd.get_dummies((X), drop_first=True)\n",
    "X_dum.head(2)"
   ]
  },
  {
   "cell_type": "code",
   "execution_count": 85,
   "id": "3be1b3ad",
   "metadata": {
    "scrolled": true
   },
   "outputs": [
    {
     "data": {
      "text/plain": [
       "Index(['Distance_covered', 'Race_Money', 'Track_position', 'age', 'Weight',\n",
       "       'Top_speed', 'Winner', 'prize_money', 'course_Fontwell',\n",
       "       'course_Uttoxeter', 'course_Worcester', 'course_other',\n",
       "       'Track_condition_Good To Soft', 'Track_condition_Soft',\n",
       "       'Track_condition_other', 'race_group_Chase', 'race_group_Hurdle',\n",
       "       'race_group_Unknown', 'race_type_Handicap', 'Trainer_Gordon Elliott',\n",
       "       'Trainer_other', 'Jockey_Tom Scudamore', 'Jockey_other', 'Gear_other',\n",
       "       'Gear_p', 'Gear_t', 'Gear_tp'],\n",
       "      dtype='object')"
      ]
     },
     "execution_count": 85,
     "metadata": {},
     "output_type": "execute_result"
    }
   ],
   "source": [
    "X_dum.columns"
   ]
  },
  {
   "cell_type": "markdown",
   "id": "f7f3172c",
   "metadata": {},
   "source": [
    "# Machine Learning Model"
   ]
  },
  {
   "cell_type": "code",
   "execution_count": 86,
   "id": "7abf79cc",
   "metadata": {
    "scrolled": true
   },
   "outputs": [
    {
     "data": {
      "text/html": [
       "<div>\n",
       "<style scoped>\n",
       "    .dataframe tbody tr th:only-of-type {\n",
       "        vertical-align: middle;\n",
       "    }\n",
       "\n",
       "    .dataframe tbody tr th {\n",
       "        vertical-align: top;\n",
       "    }\n",
       "\n",
       "    .dataframe thead th {\n",
       "        text-align: right;\n",
       "    }\n",
       "</style>\n",
       "<table border=\"1\" class=\"dataframe\">\n",
       "  <thead>\n",
       "    <tr style=\"text-align: right;\">\n",
       "      <th></th>\n",
       "      <th>Distance_covered</th>\n",
       "      <th>Race_Money</th>\n",
       "      <th>Track_position</th>\n",
       "      <th>age</th>\n",
       "      <th>Weight</th>\n",
       "      <th>Top_speed</th>\n",
       "      <th>Winner</th>\n",
       "      <th>prize_money</th>\n",
       "      <th>course_Fontwell</th>\n",
       "      <th>course_Uttoxeter</th>\n",
       "      <th>...</th>\n",
       "      <th>race_group_Unknown</th>\n",
       "      <th>race_type_Handicap</th>\n",
       "      <th>Trainer_Gordon Elliott</th>\n",
       "      <th>Trainer_other</th>\n",
       "      <th>Jockey_Tom Scudamore</th>\n",
       "      <th>Jockey_other</th>\n",
       "      <th>Gear_other</th>\n",
       "      <th>Gear_p</th>\n",
       "      <th>Gear_t</th>\n",
       "      <th>Gear_tp</th>\n",
       "    </tr>\n",
       "  </thead>\n",
       "  <tbody>\n",
       "    <tr>\n",
       "      <th>3</th>\n",
       "      <td>3200</td>\n",
       "      <td>12532.0</td>\n",
       "      <td>1.0</td>\n",
       "      <td>4</td>\n",
       "      <td>161</td>\n",
       "      <td>33.0</td>\n",
       "      <td>1</td>\n",
       "      <td>8983.0</td>\n",
       "      <td>0</td>\n",
       "      <td>0</td>\n",
       "      <td>...</td>\n",
       "      <td>0</td>\n",
       "      <td>1</td>\n",
       "      <td>0</td>\n",
       "      <td>1</td>\n",
       "      <td>0</td>\n",
       "      <td>1</td>\n",
       "      <td>0</td>\n",
       "      <td>0</td>\n",
       "      <td>1</td>\n",
       "      <td>0</td>\n",
       "    </tr>\n",
       "    <tr>\n",
       "      <th>11</th>\n",
       "      <td>4000</td>\n",
       "      <td>14460.0</td>\n",
       "      <td>1.0</td>\n",
       "      <td>4</td>\n",
       "      <td>156</td>\n",
       "      <td>83.0</td>\n",
       "      <td>1</td>\n",
       "      <td>10365.0</td>\n",
       "      <td>0</td>\n",
       "      <td>0</td>\n",
       "      <td>...</td>\n",
       "      <td>0</td>\n",
       "      <td>1</td>\n",
       "      <td>0</td>\n",
       "      <td>1</td>\n",
       "      <td>0</td>\n",
       "      <td>1</td>\n",
       "      <td>0</td>\n",
       "      <td>0</td>\n",
       "      <td>0</td>\n",
       "      <td>0</td>\n",
       "    </tr>\n",
       "    <tr>\n",
       "      <th>19</th>\n",
       "      <td>3200</td>\n",
       "      <td>12050.0</td>\n",
       "      <td>1.0</td>\n",
       "      <td>8</td>\n",
       "      <td>150</td>\n",
       "      <td>45.0</td>\n",
       "      <td>1</td>\n",
       "      <td>8637.5</td>\n",
       "      <td>0</td>\n",
       "      <td>0</td>\n",
       "      <td>...</td>\n",
       "      <td>0</td>\n",
       "      <td>1</td>\n",
       "      <td>0</td>\n",
       "      <td>1</td>\n",
       "      <td>0</td>\n",
       "      <td>1</td>\n",
       "      <td>0</td>\n",
       "      <td>0</td>\n",
       "      <td>0</td>\n",
       "      <td>0</td>\n",
       "    </tr>\n",
       "    <tr>\n",
       "      <th>23</th>\n",
       "      <td>4000</td>\n",
       "      <td>12050.0</td>\n",
       "      <td>1.0</td>\n",
       "      <td>6</td>\n",
       "      <td>145</td>\n",
       "      <td>44.0</td>\n",
       "      <td>1</td>\n",
       "      <td>8637.5</td>\n",
       "      <td>0</td>\n",
       "      <td>0</td>\n",
       "      <td>...</td>\n",
       "      <td>0</td>\n",
       "      <td>1</td>\n",
       "      <td>0</td>\n",
       "      <td>1</td>\n",
       "      <td>0</td>\n",
       "      <td>1</td>\n",
       "      <td>0</td>\n",
       "      <td>0</td>\n",
       "      <td>1</td>\n",
       "      <td>0</td>\n",
       "    </tr>\n",
       "    <tr>\n",
       "      <th>28</th>\n",
       "      <td>4600</td>\n",
       "      <td>7712.0</td>\n",
       "      <td>1.0</td>\n",
       "      <td>9</td>\n",
       "      <td>154</td>\n",
       "      <td>103.0</td>\n",
       "      <td>1</td>\n",
       "      <td>5528.0</td>\n",
       "      <td>0</td>\n",
       "      <td>0</td>\n",
       "      <td>...</td>\n",
       "      <td>0</td>\n",
       "      <td>0</td>\n",
       "      <td>0</td>\n",
       "      <td>1</td>\n",
       "      <td>0</td>\n",
       "      <td>1</td>\n",
       "      <td>0</td>\n",
       "      <td>0</td>\n",
       "      <td>1</td>\n",
       "      <td>0</td>\n",
       "    </tr>\n",
       "  </tbody>\n",
       "</table>\n",
       "<p>5 rows × 27 columns</p>\n",
       "</div>"
      ],
      "text/plain": [
       "    Distance_covered  Race_Money  Track_position  age  Weight  Top_speed  \\\n",
       "3               3200     12532.0             1.0    4     161       33.0   \n",
       "11              4000     14460.0             1.0    4     156       83.0   \n",
       "19              3200     12050.0             1.0    8     150       45.0   \n",
       "23              4000     12050.0             1.0    6     145       44.0   \n",
       "28              4600      7712.0             1.0    9     154      103.0   \n",
       "\n",
       "    Winner  prize_money  course_Fontwell  course_Uttoxeter  ...  \\\n",
       "3        1       8983.0                0                 0  ...   \n",
       "11       1      10365.0                0                 0  ...   \n",
       "19       1       8637.5                0                 0  ...   \n",
       "23       1       8637.5                0                 0  ...   \n",
       "28       1       5528.0                0                 0  ...   \n",
       "\n",
       "    race_group_Unknown  race_type_Handicap  Trainer_Gordon Elliott  \\\n",
       "3                    0                   1                       0   \n",
       "11                   0                   1                       0   \n",
       "19                   0                   1                       0   \n",
       "23                   0                   1                       0   \n",
       "28                   0                   0                       0   \n",
       "\n",
       "    Trainer_other  Jockey_Tom Scudamore  Jockey_other  Gear_other  Gear_p  \\\n",
       "3               1                     0             1           0       0   \n",
       "11              1                     0             1           0       0   \n",
       "19              1                     0             1           0       0   \n",
       "23              1                     0             1           0       0   \n",
       "28              1                     0             1           0       0   \n",
       "\n",
       "    Gear_t  Gear_tp  \n",
       "3        1        0  \n",
       "11       0        0  \n",
       "19       0        0  \n",
       "23       1        0  \n",
       "28       1        0  \n",
       "\n",
       "[5 rows x 27 columns]"
      ]
     },
     "execution_count": 86,
     "metadata": {},
     "output_type": "execute_result"
    }
   ],
   "source": [
    "X_dum.head(5)"
   ]
  },
  {
   "cell_type": "code",
   "execution_count": 87,
   "id": "fdeb1ca2",
   "metadata": {},
   "outputs": [
    {
     "name": "stdout",
     "output_type": "stream",
     "text": [
      "Class=1, n=15641 (50.0%)\n",
      "Class=0, n=15641 (50.0%)\n"
     ]
    }
   ],
   "source": [
    "from collections import Counter\n",
    "counter = Counter(y)\n",
    "for k, v in counter.items():\n",
    "  dist = v/ len(y)*100\n",
    "  print(f\"Class={k}, n={v} ({dist}%)\")"
   ]
  },
  {
   "cell_type": "code",
   "execution_count": 88,
   "id": "0c7a88e8",
   "metadata": {
    "scrolled": true
   },
   "outputs": [
    {
     "data": {
      "text/plain": [
       "<BarContainer object of 2 artists>"
      ]
     },
     "execution_count": 88,
     "metadata": {},
     "output_type": "execute_result"
    },
    {
     "data": {
      "image/png": "[encoded data removed]",
      "text/plain": [
       "<Figure size 1008x432 with 1 Axes>"
      ]
     },
     "metadata": {
      "needs_background": "light"
     },
     "output_type": "display_data"
    }
   ],
   "source": [
    "plt.figure(1, figsize=(14,6))\n",
    "plt.bar(counter.keys(),counter.values())"
   ]
  },
  {
   "cell_type": "code",
   "execution_count": 89,
   "id": "201b626a",
   "metadata": {},
   "outputs": [
    {
     "data": {
      "text/plain": [
       "27"
      ]
     },
     "execution_count": 89,
     "metadata": {},
     "output_type": "execute_result"
    }
   ],
   "source": [
    "len(X_dum.columns)"
   ]
  },
  {
   "cell_type": "code",
   "execution_count": 90,
   "id": "e133a963",
   "metadata": {},
   "outputs": [
    {
     "name": "stdout",
     "output_type": "stream",
     "text": [
      "(21897, 26)\n",
      "(21897,)\n",
      "(6256, 26)\n",
      "(6256,)\n",
      "(3129, 26)\n",
      "(3129,)\n"
     ]
    },
    {
     "data": {
      "text/plain": [
       "(None, None)"
      ]
     },
     "execution_count": 90,
     "metadata": {},
     "output_type": "execute_result"
    }
   ],
   "source": [
    "# Let's say we want to split the data in 80:10:10 for train:valid:test dataset\n",
    "train_size = 0.7\n",
    "valid_size=0.2\n",
    "\n",
    "train_index = int(len(X_dum)*train_size)\n",
    "\n",
    "# First we need to sort the dataset by the desired column \n",
    "X_dum.sort_values(by = 'Winner', ascending=True, inplace=True)\n",
    "\n",
    "df_train = X_dum[0:train_index]\n",
    "df_rem = X_dum[train_index:]\n",
    "\n",
    "valid_index = int(len(X_dum)*valid_size)\n",
    "\n",
    "df_valid = X_dum[train_index:train_index+valid_index]\n",
    "df_test = X_dum[train_index+valid_index:]\n",
    "\n",
    "X_train, y_train = df_train.drop(columns='Winner').copy(), df_train['Winner'].copy()\n",
    "X_valid, y_valid = df_valid.drop(columns='Winner').copy(), df_valid['Winner'].copy()\n",
    "X_test, y_test = df_test.drop(columns='Winner').copy(), df_test['Winner'].copy()\n",
    "        \n",
    "print(X_train.shape), print(y_train.shape)\n",
    "print(X_valid.shape), print(y_valid.shape)\n",
    "print(X_test.shape), print(y_test.shape)"
   ]
  },
  {
   "cell_type": "code",
   "execution_count": 91,
   "id": "5deda6ce",
   "metadata": {},
   "outputs": [],
   "source": [
    "\n",
    "# Use sklearn to split the preprocessed data into a train, validate and test\n",
    "#X_train, X_test, y_train, y_test = train_test_split(X_dum, y_label, train_size = 0.6, random_state=1)"
   ]
  },
  {
   "cell_type": "code",
   "execution_count": 92,
   "id": "524bde0c",
   "metadata": {},
   "outputs": [],
   "source": [
    "# Create a StandardScaler instances\n",
    "scaler = StandardScaler()\n",
    "\n",
    "# Fit the StandardScaler\n",
    "X_scaler = scaler.fit(X_train)\n",
    "\n",
    "# Scale the data\n",
    "X_train_scaled = X_scaler.transform(X_train)\n",
    "X_valid_scaled = X_scaler.transform(X_valid)\n",
    "X_test_scaled = X_scaler.transform(X_test)"
   ]
  },
  {
   "cell_type": "code",
   "execution_count": 93,
   "id": "05f1eec4",
   "metadata": {
    "scrolled": true
   },
   "outputs": [
    {
     "data": {
      "text/plain": [
       "array([[ 0.0798874 , -0.1477593 ,  1.04227384, ..., -0.59399982,\n",
       "         1.35148566, -0.26816246],\n",
       "       [-1.10990643, -0.30784976,  0.75765931, ..., -0.59399982,\n",
       "         1.35148566, -0.26816246],\n",
       "       [ 0.67478431, -0.36968266, -0.0961843 , ..., -0.59399982,\n",
       "        -0.73992646, -0.26816246],\n",
       "       ...,\n",
       "       [ 0.97223277, -0.19740364, -0.9500279 , ..., -0.59399982,\n",
       "         1.35148566, -0.26816246],\n",
       "       [-0.81245797, -0.19740364, -0.9500279 , ..., -0.59399982,\n",
       "        -0.73992646, -0.26816246],\n",
       "       [ 0.0798874 , -0.02530326, -0.9500279 , ..., -0.59399982,\n",
       "        -0.73992646,  3.7290828 ]])"
      ]
     },
     "execution_count": 93,
     "metadata": {},
     "output_type": "execute_result"
    }
   ],
   "source": [
    "X_train_scaled"
   ]
  },
  {
   "cell_type": "code",
   "execution_count": 94,
   "id": "a071b704",
   "metadata": {},
   "outputs": [
    {
     "data": {
      "text/plain": [
       "array([[-1.10990643, -0.22388062, -0.9500279 , ..., -0.59399982,\n",
       "         1.35148566, -0.26816246],\n",
       "       [ 0.0798874 ,  0.61759096, -0.9500279 , ..., -0.59399982,\n",
       "        -0.73992646, -0.26816246],\n",
       "       [-0.9611822 , -0.17092665, -0.9500279 , ..., -0.59399982,\n",
       "        -0.73992646, -0.26816246],\n",
       "       ...,\n",
       "       [ 1.26968123,  2.62085294, -0.9500279 , ..., -0.59399982,\n",
       "         1.35148566, -0.26816246],\n",
       "       [ 0.37733586, -0.36968266, -0.9500279 , ...,  1.6835022 ,\n",
       "        -0.73992646, -0.26816246],\n",
       "       [ 0.0798874 , -0.23071142, -0.9500279 , ..., -0.59399982,\n",
       "        -0.73992646, -0.26816246]])"
      ]
     },
     "execution_count": 94,
     "metadata": {},
     "output_type": "execute_result"
    }
   ],
   "source": [
    "X_valid_scaled"
   ]
  },
  {
   "cell_type": "code",
   "execution_count": 127,
   "id": "22ed74b1",
   "metadata": {
    "scrolled": true
   },
   "outputs": [
    {
     "data": {
      "text/plain": [
       "array([[ 1.41840546, -0.41692471, -0.9500279 , ..., -0.59399982,\n",
       "         1.35148566, -0.26816246],\n",
       "       [-1.10990643, -0.21528061, -0.9500279 , ..., -0.59399982,\n",
       "        -0.73992646,  3.7290828 ],\n",
       "       [-1.10990643, -0.38193328, -0.9500279 , ...,  1.6835022 ,\n",
       "        -0.73992646, -0.26816246],\n",
       "       ...,\n",
       "       [-0.9611822 , -0.38374229, -0.9500279 , ..., -0.59399982,\n",
       "         1.35148566, -0.26816246],\n",
       "       [ 0.0798874 , -0.3511845 , -0.9500279 , ..., -0.59399982,\n",
       "         1.35148566, -0.26816246],\n",
       "       [ 0.37733586, -0.40184179, -0.9500279 , ..., -0.59399982,\n",
       "         1.35148566, -0.26816246]])"
      ]
     },
     "execution_count": 127,
     "metadata": {},
     "output_type": "execute_result"
    }
   ],
   "source": [
    "X_test_scaled"
   ]
  },
  {
   "cell_type": "markdown",
   "id": "c5c0eb66",
   "metadata": {},
   "source": []
  },
  {
   "cell_type": "markdown",
   "id": "f3da3f5f",
   "metadata": {},
   "source": [
    "## Logistic Regression\n",
    "1. model1 : using train and test"
   ]
  },
  {
   "cell_type": "code",
   "execution_count": 128,
   "id": "dc16a8f3",
   "metadata": {},
   "outputs": [
    {
     "data": {
      "text/plain": [
       "1.0"
      ]
     },
     "execution_count": 128,
     "metadata": {},
     "output_type": "execute_result"
    }
   ],
   "source": [
    "classifier = LogisticRegression(fit_intercept=True, random_state=1, max_iter = 400,verbose=0, multi_class='auto')\n",
    "classifier.fit(X_train_scaled,y_train)\n",
    "classifier.score(X_train_scaled,y_train)\n",
    "classifier.score(X_test_scaled,y_test)"
   ]
  },
  {
   "cell_type": "code",
   "execution_count": 129,
   "id": "d6c88b8b",
   "metadata": {
    "scrolled": false
   },
   "outputs": [
    {
     "name": "stdout",
     "output_type": "stream",
     "text": [
      "Training Scaled Data Score: 0.999680321505229\n",
      "Test  Scaled Data Score: 1.0\n"
     ]
    }
   ],
   "source": [
    "print(f\"Training Scaled Data Score: {classifier.score(X_train_scaled,y_train)}\")\n",
    "\n",
    "print(f\"Test  Scaled Data Score: {classifier.score(X_test_scaled,y_test)}\")"
   ]
  },
  {
   "cell_type": "markdown",
   "id": "56999270",
   "metadata": {},
   "source": [
    "2. model2: using train, valid and test"
   ]
  },
  {
   "cell_type": "code",
   "execution_count": 130,
   "id": "eaee2157",
   "metadata": {},
   "outputs": [
    {
     "data": {
      "text/plain": [
       "1.0"
      ]
     },
     "execution_count": 130,
     "metadata": {},
     "output_type": "execute_result"
    }
   ],
   "source": [
    "classifier = LogisticRegression(fit_intercept=True, random_state=1, max_iter = 400,verbose=0, multi_class='auto')\n",
    "classifier.fit(X_train_scaled,y_train)\n",
    "classifier.score(X_train_scaled,y_train)\n",
    "classifier.score(X_valid_scaled,y_valid)\n",
    "classifier.score(X_test_scaled,y_test)"
   ]
  },
  {
   "cell_type": "code",
   "execution_count": 131,
   "id": "3ae5901c",
   "metadata": {},
   "outputs": [
    {
     "name": "stdout",
     "output_type": "stream",
     "text": [
      "Training Scaled Data Score: 0.999680321505229\n",
      "Validation Scaled Data Score: 1.0\n",
      "Test  Scaled Data Score: 1.0\n"
     ]
    }
   ],
   "source": [
    "print(f\"Training Scaled Data Score: {classifier.score(X_train_scaled,y_train)}\")\n",
    "print(f\"Validation Scaled Data Score: {classifier.score(X_valid_scaled,y_valid)}\")\n",
    "print(f\"Test  Scaled Data Score: {classifier.score(X_test_scaled,y_test)}\")"
   ]
  },
  {
   "cell_type": "markdown",
   "id": "aabf5c64",
   "metadata": {},
   "source": [
    "# Decision Tree Classifier"
   ]
  },
  {
   "cell_type": "code",
   "execution_count": 133,
   "id": "99a8de02",
   "metadata": {},
   "outputs": [],
   "source": [
    "model = DecisionTreeClassifier()\n",
    "scores = cross_validate(model, X_valid_scaled,y_valid, cv=6, n_jobs=-1, scoring='f1_macro')"
   ]
  },
  {
   "cell_type": "code",
   "execution_count": 134,
   "id": "eaa57bdd",
   "metadata": {
    "scrolled": true
   },
   "outputs": [
    {
     "data": {
      "text/plain": [
       "{'fit_time': array([0.48591208, 0.48591208, 0.48591208, 0.48591208, 0.        ,\n",
       "        0.        ]),\n",
       " 'score_time': array([0.16629553, 0.16629553, 0.16629553, 0.16629553, 0.        ,\n",
       "        0.        ]),\n",
       " 'test_score': array([1., 1., 1., 1., 1., 1.])}"
      ]
     },
     "execution_count": 134,
     "metadata": {},
     "output_type": "execute_result"
    }
   ],
   "source": [
    "scores"
   ]
  },
  {
   "cell_type": "markdown",
   "id": "ff48ed65",
   "metadata": {},
   "source": [
    "# RandomForestClassifier"
   ]
  },
  {
   "cell_type": "code",
   "execution_count": 53,
   "id": "af0ce896",
   "metadata": {},
   "outputs": [],
   "source": [
    "model_r =RandomForestClassifier(n_estimators = 10, max_features='auto')"
   ]
  },
  {
   "cell_type": "code",
   "execution_count": 54,
   "id": "b9e4a96a",
   "metadata": {},
   "outputs": [
    {
     "data": {
      "text/plain": [
       "RandomForestClassifier(n_estimators=10)"
      ]
     },
     "execution_count": 54,
     "metadata": {},
     "output_type": "execute_result"
    }
   ],
   "source": [
    "model_r.fit(X_train,y_train)"
   ]
  },
  {
   "cell_type": "code",
   "execution_count": 55,
   "id": "41867341",
   "metadata": {},
   "outputs": [
    {
     "data": {
      "text/plain": [
       "1.0"
      ]
     },
     "execution_count": 55,
     "metadata": {},
     "output_type": "execute_result"
    }
   ],
   "source": [
    "model_r.score(X_train,y_train)"
   ]
  },
  {
   "cell_type": "code",
   "execution_count": 56,
   "id": "b76395c2",
   "metadata": {},
   "outputs": [
    {
     "data": {
      "text/plain": [
       "1.0"
      ]
     },
     "execution_count": 56,
     "metadata": {},
     "output_type": "execute_result"
    }
   ],
   "source": [
    "model_r.score(X_test,y_test)"
   ]
  },
  {
   "cell_type": "code",
   "execution_count": 57,
   "id": "420f2d4a",
   "metadata": {},
   "outputs": [
    {
     "data": {
      "text/plain": [
       "array([1, 1, 0, ..., 1, 0, 1], dtype=int64)"
      ]
     },
     "execution_count": 57,
     "metadata": {},
     "output_type": "execute_result"
    }
   ],
   "source": [
    "y_predicted = model_r.predict(X_test)\n",
    "y_predicted"
   ]
  },
  {
   "cell_type": "code",
   "execution_count": 58,
   "id": "2a699b32",
   "metadata": {},
   "outputs": [
    {
     "data": {
      "text/plain": [
       "array([[6131,    0],\n",
       "       [   0, 6381]], dtype=int64)"
      ]
     },
     "execution_count": 58,
     "metadata": {},
     "output_type": "execute_result"
    }
   ],
   "source": [
    "# Optional : using confusion matrix to confirm RandomForestClassifier\n",
    "from sklearn.metrics import confusion_matrix\n",
    "cm = confusion_matrix(y_test, y_predicted )\n",
    "cm"
   ]
  },
  {
   "cell_type": "code",
   "execution_count": 59,
   "id": "6d7900cb",
   "metadata": {},
   "outputs": [
    {
     "data": {
      "text/plain": [
       "Text(69.0, 0.5, 'Truth')"
      ]
     },
     "execution_count": 59,
     "metadata": {},
     "output_type": "execute_result"
    },
    {
     "data": {
      "image/png": "[encoded data removed]",
      "text/plain": [
       "<Figure size 720x504 with 2 Axes>"
      ]
     },
     "metadata": {
      "needs_background": "light"
     },
     "output_type": "display_data"
    }
   ],
   "source": [
    "%matplotlib inline\n",
    "plt.figure(figsize=(10,7))\n",
    "sns.heatmap(cm, annot=True)\n",
    "plt.xlabel('predicted')\n",
    "plt.ylabel('Truth')"
   ]
  },
  {
   "cell_type": "code",
   "execution_count": 60,
   "id": "7a209992",
   "metadata": {},
   "outputs": [
    {
     "name": "stdout",
     "output_type": "stream",
     "text": [
      "Accuracy: 1.0\n"
     ]
    }
   ],
   "source": [
    "y_true = y_test\n",
    "tn, fp, fn, tp = confusion_matrix(y_true, y_predicted).ravel()\n",
    "\n",
    "accuracy = (tp + tn) / (tp + fp + tn + fn)\n",
    "\n",
    "print(f\"Accuracy: {accuracy}\")"
   ]
  },
  {
   "cell_type": "code",
   "execution_count": 61,
   "id": "eb421da1",
   "metadata": {},
   "outputs": [
    {
     "name": "stdout",
     "output_type": "stream",
     "text": [
      "              precision    recall  f1-score   support\n",
      "\n",
      "           0       1.00      1.00      1.00      6131\n",
      "           1       1.00      1.00      1.00      6381\n",
      "\n",
      "    accuracy                           1.00     12512\n",
      "   macro avg       1.00      1.00      1.00     12512\n",
      "weighted avg       1.00      1.00      1.00     12512\n",
      "\n"
     ]
    }
   ],
   "source": [
    "print(metrics.classification_report(y_true, y_predicted))"
   ]
  },
  {
   "cell_type": "markdown",
   "id": "e19a2821",
   "metadata": {},
   "source": [
    "Can precision and recall both be 1?\n",
    "Image result for what happens when precision, recall and f1 score all gives 1\n",
    "In information retrieval, a perfect precision score of 1.0 means that every result retrieved by a search was relevant (but says nothing about whether all relevant documents were retrieved) whereas a perfect recall score of 1.0 means that all relevant documents were retrieved by the search (but says nothing about how .."
   ]
  },
  {
   "cell_type": "markdown",
   "id": "c4aed23a",
   "metadata": {},
   "source": [
    "# Wrapper Method: Exhaustive Feature Selection"
   ]
  },
  {
   "cell_type": "code",
   "execution_count": 124,
   "id": "8977d28a",
   "metadata": {},
   "outputs": [
    {
     "ename": "ModuleNotFoundError",
     "evalue": "No module named 'mlxtend'",
     "output_type": "error",
     "traceback": [
      "\u001b[1;31m---------------------------------------------------------------------------\u001b[0m",
      "\u001b[1;31mModuleNotFoundError\u001b[0m                       Traceback (most recent call last)",
      "\u001b[1;32m<ipython-input-124-ea6a002dbc26>\u001b[0m in \u001b[0;36m<module>\u001b[1;34m\u001b[0m\n\u001b[0;32m      1\u001b[0m \u001b[1;31m# Exhaustive Feature Selection\u001b[0m\u001b[1;33m\u001b[0m\u001b[1;33m\u001b[0m\u001b[1;33m\u001b[0m\u001b[0m\n\u001b[1;32m----> 2\u001b[1;33m \u001b[1;32mfrom\u001b[0m \u001b[0mmlxtend\u001b[0m\u001b[1;33m.\u001b[0m\u001b[0mfeature_selection\u001b[0m \u001b[1;32mimport\u001b[0m \u001b[0mExhaustiveFeatureSelector\u001b[0m\u001b[1;33m\u001b[0m\u001b[1;33m\u001b[0m\u001b[0m\n\u001b[0m\u001b[0;32m      3\u001b[0m \u001b[1;31m# Import algorith to evaluate features.\u001b[0m\u001b[1;33m\u001b[0m\u001b[1;33m\u001b[0m\u001b[1;33m\u001b[0m\u001b[0m\n\u001b[0;32m      4\u001b[0m \u001b[1;32mfrom\u001b[0m \u001b[0msklearn\u001b[0m\u001b[1;33m.\u001b[0m\u001b[0mensemble\u001b[0m \u001b[1;32mimport\u001b[0m \u001b[0mRandomForestClassifier\u001b[0m\u001b[1;33m\u001b[0m\u001b[1;33m\u001b[0m\u001b[0m\n\u001b[0;32m      5\u001b[0m \u001b[1;31m# Create the ExhaustiveFeatureSelector Object\u001b[0m\u001b[1;33m\u001b[0m\u001b[1;33m\u001b[0m\u001b[1;33m\u001b[0m\u001b[0m\n",
      "\u001b[1;31mModuleNotFoundError\u001b[0m: No module named 'mlxtend'"
     ]
    }
   ],
   "source": [
    "# Exhaustive Feature Selection\n",
    "from mlxtend.feature_selection import ExhaustiveFeatureSelector\n",
    "# Import algorith to evaluate features.\n",
    "from sklearn.ensemble import RandomForestClassifier\n",
    "# Create the ExhaustiveFeatureSelector Object\n",
    "efs = ExhaustiveFeatureSelector(RandomForestClassifier(),\n",
    "        min_features=4,\n",
    "        max_features=8,\n",
    "        scoring ='roc_auc',\n",
    "        cv=2)\n",
    "# fit the object to the traing data\n",
    "efs = efs.fit(X, y)\n",
    "# Print the selected features\n",
    "selected_features = X_train.columns[lists(efs.best_idx_)]\n",
    "print(selected_features)\n",
    "# Print the final prediction score.\n",
    "print(efs.best_score_)"
   ]
  },
  {
   "cell_type": "code",
   "execution_count": null,
   "id": "af9143f5",
   "metadata": {},
   "outputs": [],
   "source": []
  },
  {
   "cell_type": "code",
   "execution_count": 82,
   "id": "cb843379",
   "metadata": {},
   "outputs": [],
   "source": [
    "clean_df.to_csv('database_data.csv', index=False)"
   ]
  },
  {
   "cell_type": "code",
   "execution_count": 83,
   "id": "5551fc94",
   "metadata": {},
   "outputs": [
    {
     "data": {
      "text/html": [
       "<div>\n",
       "<style scoped>\n",
       "    .dataframe tbody tr th:only-of-type {\n",
       "        vertical-align: middle;\n",
       "    }\n",
       "\n",
       "    .dataframe tbody tr th {\n",
       "        vertical-align: top;\n",
       "    }\n",
       "\n",
       "    .dataframe thead th {\n",
       "        text-align: right;\n",
       "    }\n",
       "</style>\n",
       "<table border=\"1\" class=\"dataframe\">\n",
       "  <thead>\n",
       "    <tr style=\"text-align: right;\">\n",
       "      <th></th>\n",
       "      <th>course</th>\n",
       "      <th>band</th>\n",
       "      <th>Distance</th>\n",
       "      <th>Track_condition</th>\n",
       "      <th>season</th>\n",
       "      <th>race_group</th>\n",
       "      <th>race_type</th>\n",
       "      <th>Race_Money</th>\n",
       "      <th>trainer</th>\n",
       "      <th>jockey</th>\n",
       "      <th>Track_position</th>\n",
       "      <th>age</th>\n",
       "      <th>Weight</th>\n",
       "      <th>gear</th>\n",
       "      <th>Top_speed</th>\n",
       "      <th>Winner</th>\n",
       "      <th>prize_money</th>\n",
       "    </tr>\n",
       "  </thead>\n",
       "  <tbody>\n",
       "    <tr>\n",
       "      <th>3</th>\n",
       "      <td>other</td>\n",
       "      <td>other</td>\n",
       "      <td>3200</td>\n",
       "      <td>other</td>\n",
       "      <td>5</td>\n",
       "      <td>Hurdle</td>\n",
       "      <td>Handicap</td>\n",
       "      <td>12532.000000</td>\n",
       "      <td>other</td>\n",
       "      <td>other</td>\n",
       "      <td>1.0</td>\n",
       "      <td>4</td>\n",
       "      <td>161</td>\n",
       "      <td>t</td>\n",
       "      <td>33.0</td>\n",
       "      <td>1</td>\n",
       "      <td>8983.000000</td>\n",
       "    </tr>\n",
       "    <tr>\n",
       "      <th>11</th>\n",
       "      <td>other</td>\n",
       "      <td>4yo+</td>\n",
       "      <td>4000</td>\n",
       "      <td>Soft</td>\n",
       "      <td>5</td>\n",
       "      <td>Hurdle</td>\n",
       "      <td>Handicap</td>\n",
       "      <td>14460.000000</td>\n",
       "      <td>other</td>\n",
       "      <td>other</td>\n",
       "      <td>1.0</td>\n",
       "      <td>4</td>\n",
       "      <td>156</td>\n",
       "      <td>b</td>\n",
       "      <td>83.0</td>\n",
       "      <td>1</td>\n",
       "      <td>10365.000000</td>\n",
       "    </tr>\n",
       "    <tr>\n",
       "      <th>19</th>\n",
       "      <td>other</td>\n",
       "      <td>4yo+</td>\n",
       "      <td>3200</td>\n",
       "      <td>Soft</td>\n",
       "      <td>5</td>\n",
       "      <td>Hurdle</td>\n",
       "      <td>Handicap</td>\n",
       "      <td>12050.000000</td>\n",
       "      <td>other</td>\n",
       "      <td>other</td>\n",
       "      <td>1.0</td>\n",
       "      <td>8</td>\n",
       "      <td>150</td>\n",
       "      <td>b</td>\n",
       "      <td>45.0</td>\n",
       "      <td>1</td>\n",
       "      <td>8637.500000</td>\n",
       "    </tr>\n",
       "    <tr>\n",
       "      <th>24</th>\n",
       "      <td>other</td>\n",
       "      <td>5yo+</td>\n",
       "      <td>4000</td>\n",
       "      <td>Soft</td>\n",
       "      <td>5</td>\n",
       "      <td>Hurdle</td>\n",
       "      <td>Handicap</td>\n",
       "      <td>12050.000000</td>\n",
       "      <td>other</td>\n",
       "      <td>other</td>\n",
       "      <td>1.0</td>\n",
       "      <td>6</td>\n",
       "      <td>145</td>\n",
       "      <td>t</td>\n",
       "      <td>44.0</td>\n",
       "      <td>1</td>\n",
       "      <td>8637.500000</td>\n",
       "    </tr>\n",
       "    <tr>\n",
       "      <th>29</th>\n",
       "      <td>other</td>\n",
       "      <td>5yo+</td>\n",
       "      <td>4600</td>\n",
       "      <td>other</td>\n",
       "      <td>5</td>\n",
       "      <td>Chase</td>\n",
       "      <td>Even</td>\n",
       "      <td>7712.000000</td>\n",
       "      <td>other</td>\n",
       "      <td>other</td>\n",
       "      <td>1.0</td>\n",
       "      <td>9</td>\n",
       "      <td>154</td>\n",
       "      <td>t</td>\n",
       "      <td>103.0</td>\n",
       "      <td>1</td>\n",
       "      <td>5528.000000</td>\n",
       "    </tr>\n",
       "    <tr>\n",
       "      <th>...</th>\n",
       "      <td>...</td>\n",
       "      <td>...</td>\n",
       "      <td>...</td>\n",
       "      <td>...</td>\n",
       "      <td>...</td>\n",
       "      <td>...</td>\n",
       "      <td>...</td>\n",
       "      <td>...</td>\n",
       "      <td>...</td>\n",
       "      <td>...</td>\n",
       "      <td>...</td>\n",
       "      <td>...</td>\n",
       "      <td>...</td>\n",
       "      <td>...</td>\n",
       "      <td>...</td>\n",
       "      <td>...</td>\n",
       "      <td>...</td>\n",
       "    </tr>\n",
       "    <tr>\n",
       "      <th>89904</th>\n",
       "      <td>other</td>\n",
       "      <td>4yo+</td>\n",
       "      <td>4800</td>\n",
       "      <td>Good</td>\n",
       "      <td>13</td>\n",
       "      <td>Hurdle</td>\n",
       "      <td>Handicap</td>\n",
       "      <td>3353.522727</td>\n",
       "      <td>other</td>\n",
       "      <td>other</td>\n",
       "      <td>7.0</td>\n",
       "      <td>8</td>\n",
       "      <td>150</td>\n",
       "      <td>t</td>\n",
       "      <td>9.0</td>\n",
       "      <td>0</td>\n",
       "      <td>0.000000</td>\n",
       "    </tr>\n",
       "    <tr>\n",
       "      <th>97172</th>\n",
       "      <td>other</td>\n",
       "      <td>5yo+</td>\n",
       "      <td>5000</td>\n",
       "      <td>other</td>\n",
       "      <td>13</td>\n",
       "      <td>Chase</td>\n",
       "      <td>Handicap</td>\n",
       "      <td>13414.090909</td>\n",
       "      <td>other</td>\n",
       "      <td>Richard Johnson</td>\n",
       "      <td>3.0</td>\n",
       "      <td>12</td>\n",
       "      <td>156</td>\n",
       "      <td>b</td>\n",
       "      <td>50.0</td>\n",
       "      <td>0</td>\n",
       "      <td>1517.727273</td>\n",
       "    </tr>\n",
       "    <tr>\n",
       "      <th>64646</th>\n",
       "      <td>other</td>\n",
       "      <td>4yo+</td>\n",
       "      <td>4000</td>\n",
       "      <td>Good</td>\n",
       "      <td>9</td>\n",
       "      <td>Hurdle</td>\n",
       "      <td>Handicap</td>\n",
       "      <td>55948.863636</td>\n",
       "      <td>other</td>\n",
       "      <td>other</td>\n",
       "      <td>4.0</td>\n",
       "      <td>5</td>\n",
       "      <td>148</td>\n",
       "      <td>p</td>\n",
       "      <td>106.0</td>\n",
       "      <td>0</td>\n",
       "      <td>3034.090909</td>\n",
       "    </tr>\n",
       "    <tr>\n",
       "      <th>77474</th>\n",
       "      <td>other</td>\n",
       "      <td>4yo+</td>\n",
       "      <td>4800</td>\n",
       "      <td>Good</td>\n",
       "      <td>11</td>\n",
       "      <td>Hurdle</td>\n",
       "      <td>Handicap</td>\n",
       "      <td>2906.386364</td>\n",
       "      <td>other</td>\n",
       "      <td>other</td>\n",
       "      <td>2.0</td>\n",
       "      <td>6</td>\n",
       "      <td>160</td>\n",
       "      <td>b</td>\n",
       "      <td>53.0</td>\n",
       "      <td>0</td>\n",
       "      <td>563.727273</td>\n",
       "    </tr>\n",
       "    <tr>\n",
       "      <th>94259</th>\n",
       "      <td>other</td>\n",
       "      <td>4yo+</td>\n",
       "      <td>4600</td>\n",
       "      <td>other</td>\n",
       "      <td>13</td>\n",
       "      <td>Chase</td>\n",
       "      <td>Handicap</td>\n",
       "      <td>11178.409091</td>\n",
       "      <td>David Pipe</td>\n",
       "      <td>other</td>\n",
       "      <td>5.0</td>\n",
       "      <td>9</td>\n",
       "      <td>165</td>\n",
       "      <td>t</td>\n",
       "      <td>14.0</td>\n",
       "      <td>0</td>\n",
       "      <td>0.000000</td>\n",
       "    </tr>\n",
       "  </tbody>\n",
       "</table>\n",
       "<p>31280 rows × 17 columns</p>\n",
       "</div>"
      ],
      "text/plain": [
       "      course   band  Distance Track_condition  season race_group race_type  \\\n",
       "3      other  other      3200           other       5     Hurdle  Handicap   \n",
       "11     other   4yo+      4000            Soft       5     Hurdle  Handicap   \n",
       "19     other   4yo+      3200            Soft       5     Hurdle  Handicap   \n",
       "24     other   5yo+      4000            Soft       5     Hurdle  Handicap   \n",
       "29     other   5yo+      4600           other       5      Chase      Even   \n",
       "...      ...    ...       ...             ...     ...        ...       ...   \n",
       "89904  other   4yo+      4800            Good      13     Hurdle  Handicap   \n",
       "97172  other   5yo+      5000           other      13      Chase  Handicap   \n",
       "64646  other   4yo+      4000            Good       9     Hurdle  Handicap   \n",
       "77474  other   4yo+      4800            Good      11     Hurdle  Handicap   \n",
       "94259  other   4yo+      4600           other      13      Chase  Handicap   \n",
       "\n",
       "         Race_Money     trainer           jockey  Track_position  age  Weight  \\\n",
       "3      12532.000000       other            other             1.0    4     161   \n",
       "11     14460.000000       other            other             1.0    4     156   \n",
       "19     12050.000000       other            other             1.0    8     150   \n",
       "24     12050.000000       other            other             1.0    6     145   \n",
       "29      7712.000000       other            other             1.0    9     154   \n",
       "...             ...         ...              ...             ...  ...     ...   \n",
       "89904   3353.522727       other            other             7.0    8     150   \n",
       "97172  13414.090909       other  Richard Johnson             3.0   12     156   \n",
       "64646  55948.863636       other            other             4.0    5     148   \n",
       "77474   2906.386364       other            other             2.0    6     160   \n",
       "94259  11178.409091  David Pipe            other             5.0    9     165   \n",
       "\n",
       "      gear  Top_speed  Winner   prize_money  \n",
       "3        t       33.0       1   8983.000000  \n",
       "11       b       83.0       1  10365.000000  \n",
       "19       b       45.0       1   8637.500000  \n",
       "24       t       44.0       1   8637.500000  \n",
       "29       t      103.0       1   5528.000000  \n",
       "...    ...        ...     ...           ...  \n",
       "89904    t        9.0       0      0.000000  \n",
       "97172    b       50.0       0   1517.727273  \n",
       "64646    p      106.0       0   3034.090909  \n",
       "77474    b       53.0       0    563.727273  \n",
       "94259    t       14.0       0      0.000000  \n",
       "\n",
       "[31280 rows x 17 columns]"
      ]
     },
     "execution_count": 83,
     "metadata": {},
     "output_type": "execute_result"
    }
   ],
   "source": [
    "clean_df"
   ]
  },
  {
   "cell_type": "code",
   "execution_count": 84,
   "id": "15b4f9fd",
   "metadata": {},
   "outputs": [
    {
     "data": {
      "text/plain": [
       "course              object\n",
       "band                object\n",
       "Distance             int64\n",
       "Track_condition     object\n",
       "season               int64\n",
       "race_group          object\n",
       "race_type           object\n",
       "Race_Money         float64\n",
       "trainer             object\n",
       "jockey              object\n",
       "Track_position     float64\n",
       "age                  int64\n",
       "Weight               int64\n",
       "gear                object\n",
       "Top_speed          float64\n",
       "Winner               int64\n",
       "prize_money        float64\n",
       "dtype: object"
      ]
     },
     "execution_count": 84,
     "metadata": {},
     "output_type": "execute_result"
    }
   ],
   "source": [
    "clean_df.dtypes"
   ]
  }
 ],
 "metadata": {
  "colab": {
   "name": "p4.ipynb",
   "provenance": []
  },
  "kernelspec": {
   "display_name": "Python 3 (ipykernel)",
   "language": "python",
   "name": "python3"
  },
  "language_info": {
   "codemirror_mode": {
    "name": "ipython",
    "version": 3
   },
   "file_extension": ".py",
   "mimetype": "text/x-python",
   "name": "python",
   "nbconvert_exporter": "python",
   "pygments_lexer": "ipython3",
   "version": "3.8.10"
  }
 },
 "nbformat": 4,
 "nbformat_minor": 5
}
